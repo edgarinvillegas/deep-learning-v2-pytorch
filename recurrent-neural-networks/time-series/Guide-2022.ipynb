{
 "cells": [
  {
   "cell_type": "markdown",
   "metadata": {
    "editable": true
   },
   "source": [
    "# Time Series Prediction\n",
    "\n",
    "\n",
    "## Introduction\n",
    "\n",
    "Predicting time series data is useful for a variety of business applications. Companies forecast time series data in order to forecast sales, manage their supply chains, and more.\n",
    "\n",
    "LSTMs are commonly used for time series prediction because they are able to learn the underlying patterns of time series data. \n",
    "\n",
    "In this exercise, we will use an LSTM to forecast the data from a random timeseries by training it on the timeseries.\n",
    "\n",
    "## Instructions\n",
    "\n",
    "You can begin forecasting trends with LSTMs with the following steps:\n",
    "\n",
    "1. Generate your timeseries data in Numpy\n",
    "2. Load the data into PyTorch\n",
    "3. Train your model on the data\n",
    "4. Run the model to predict the next steps in the time series.\n",
    "\n",
    "## Example Code"
   ]
  },
  {
   "cell_type": "markdown",
   "metadata": {
    "editable": true
   },
   "source": [
    "<b> Generate X, Y data </b>"
   ]
  },
  {
   "cell_type": "code",
   "execution_count": 1,
   "metadata": {
    "editable": true
   },
   "outputs": [],
   "source": [
    "# Create a sinusoidal dataset\n",
    "\n",
    "import numpy as np\n",
    "X = np.arange(1000)\n",
    "Y = np.array([np.sin(x/10) + 0.01*x for x in X])"
   ]
  },
  {
   "cell_type": "markdown",
   "metadata": {
    "editable": true
   },
   "source": [
    "<b> Create an LSTM Model </b>"
   ]
  },
  {
   "cell_type": "code",
   "execution_count": 2,
   "metadata": {
    "editable": true
   },
   "outputs": [],
   "source": [
    "import torch\n",
    "import torch.nn as nn\n",
    "\n",
    "class LSTM(nn.Module):\n",
    "    \n",
    "    def __init__(self):\n",
    "        \n",
    "        # The Modules to use\n",
    "        \n",
    "        nn.LSTMCell(input_size, hidden_size)\n",
    "        nn.Linear(hidden_size, 1)\n",
    "        \n",
    "    def forward():\n",
    "        \n",
    "        return pred"
   ]
  },
  {
   "cell_type": "markdown",
   "metadata": {},
   "source": []
  }
 ],
 "metadata": {
  "kernelspec": {
   "display_name": "Python 3",
   "language": "python",
   "name": "python3"
  },
  "language_info": {
   "codemirror_mode": {
    "name": "ipython",
    "version": 3
   },
   "file_extension": ".py",
   "mimetype": "text/x-python",
   "name": "python",
   "nbconvert_exporter": "python",
   "pygments_lexer": "ipython3",
   "version": "3.6.3"
  },
  "ulab_nb_type": "guided"
 },
 "nbformat": 4,
 "nbformat_minor": 4
}
