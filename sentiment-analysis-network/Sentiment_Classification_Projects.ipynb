{
 "cells": [
  {
   "cell_type": "markdown",
   "metadata": {},
   "source": [
    "# Sentiment Classification & How To \"Frame Problems\" for a Neural Network\n",
    "\n",
    "by Andrew Trask\n",
    "\n",
    "- **Twitter**: @iamtrask\n",
    "- **Blog**: http://iamtrask.github.io"
   ]
  },
  {
   "cell_type": "markdown",
   "metadata": {},
   "source": [
    "### What You Should Already Know\n",
    "\n",
    "- neural networks, forward and back-propagation\n",
    "- stochastic gradient descent\n",
    "- mean squared error\n",
    "- and train/test splits\n",
    "\n",
    "### Where to Get Help if You Need it\n",
    "- Re-watch previous Udacity Lectures\n",
    "- Leverage the recommended Course Reading Material - [Grokking Deep Learning](https://www.manning.com/books/grokking-deep-learning) (Check inside your classroom for a discount code)\n",
    "- Shoot me a tweet @iamtrask\n",
    "\n",
    "\n",
    "### Tutorial Outline:\n",
    "\n",
    "- Intro: The Importance of \"Framing a Problem\" (this lesson)\n",
    "\n",
    "- [Curate a Dataset](#lesson_1)\n",
    "- [Developing a \"Predictive Theory\"](#lesson_2)\n",
    "- [**PROJECT 1**: Quick Theory Validation](#project_1)\n",
    "\n",
    "\n",
    "- [Transforming Text to Numbers](#lesson_3)\n",
    "- [**PROJECT 2**: Creating the Input/Output Data](#project_2)\n",
    "\n",
    "\n",
    "- Putting it all together in a Neural Network (video only - nothing in notebook)\n",
    "- [**PROJECT 3**: Building our Neural Network](#project_3)\n",
    "\n",
    "\n",
    "- [Understanding Neural Noise](#lesson_4)\n",
    "- [**PROJECT 4**: Making Learning Faster by Reducing Noise](#project_4)\n",
    "\n",
    "\n",
    "- [Analyzing Inefficiencies in our Network](#lesson_5)\n",
    "- [**PROJECT 5**: Making our Network Train and Run Faster](#project_5)\n",
    "\n",
    "\n",
    "- [Further Noise Reduction](#lesson_6)\n",
    "- [**PROJECT 6**: Reducing Noise by Strategically Reducing the Vocabulary](#project_6)\n",
    "\n",
    "\n",
    "- [Analysis: What's going on in the weights?](#lesson_7)"
   ]
  },
  {
   "cell_type": "markdown",
   "metadata": {
    "nbpresent": {
     "id": "56bb3cba-260c-4ebe-9ed6-b995b4c72aa3"
    }
   },
   "source": [
    "# Lesson: Curate a Dataset<a id='lesson_1'></a>\n",
    "The cells from here until Project 1 include code Andrew shows in the videos leading up to mini project 1. We've included them so you can run the code along with the videos without having to type in everything."
   ]
  },
  {
   "cell_type": "code",
   "execution_count": 108,
   "metadata": {
    "nbpresent": {
     "id": "eba2b193-0419-431e-8db9-60f34dd3fe83"
    },
    "tags": []
   },
   "outputs": [],
   "source": [
    "def pretty_print_review_and_label(i):\n",
    "    print(labels[i] + \"\\t:\\t\" + reviews[i][:80] + \"...\")\n",
    "\n",
    "g = open('reviews.txt','r') # What we know!\n",
    "reviews = list(map(lambda x:x[:-1],g.readlines()))\n",
    "g.close()\n",
    "\n",
    "g = open('labels.txt','r') # What we WANT to know!\n",
    "labels = list(map(lambda x:x[:-1].upper(),g.readlines()))\n",
    "g.close()"
   ]
  },
  {
   "cell_type": "markdown",
   "metadata": {},
   "source": [
    "**Note:** The data in `reviews.txt` we're using has already been preprocessed a bit and contains only lower case characters. If we were working from raw data, where we didn't know it was all lower case, we would want to add a step here to convert it. That's so we treat different variations of the same word, like `The`, `the`, and `THE`, all the same way."
   ]
  },
  {
   "cell_type": "code",
   "execution_count": 109,
   "metadata": {
    "tags": []
   },
   "outputs": [
    {
     "data": {
      "text/plain": [
       "25000"
      ]
     },
     "execution_count": 109,
     "metadata": {},
     "output_type": "execute_result"
    }
   ],
   "source": [
    "len(reviews)"
   ]
  },
  {
   "cell_type": "code",
   "execution_count": 110,
   "metadata": {
    "nbpresent": {
     "id": "bb95574b-21a0-4213-ae50-34363cf4f87f"
    },
    "tags": []
   },
   "outputs": [
    {
     "data": {
      "text/plain": [
       "'bromwell high is a cartoon comedy . it ran at the same time as some other programs about school life  such as  teachers  . my   years in the teaching profession lead me to believe that bromwell high  s satire is much closer to reality than is  teachers  . the scramble to survive financially  the insightful students who can see right through their pathetic teachers  pomp  the pettiness of the whole situation  all remind me of the schools i knew and their students . when i saw the episode in which a student repeatedly tried to burn down the school  i immediately recalled . . . . . . . . . at . . . . . . . . . . high . a classic line inspector i  m here to sack one of your teachers . student welcome to bromwell high . i expect that many adults of my age think that bromwell high is far fetched . what a pity that it isn  t   '"
      ]
     },
     "execution_count": 110,
     "metadata": {},
     "output_type": "execute_result"
    }
   ],
   "source": [
    "reviews[0]"
   ]
  },
  {
   "cell_type": "code",
   "execution_count": 111,
   "metadata": {
    "nbpresent": {
     "id": "e0408810-c424-4ed4-afb9-1735e9ddbd0a"
    },
    "tags": []
   },
   "outputs": [
    {
     "data": {
      "text/plain": [
       "'POSITIVE'"
      ]
     },
     "execution_count": 111,
     "metadata": {},
     "output_type": "execute_result"
    }
   ],
   "source": [
    "labels[0]"
   ]
  },
  {
   "cell_type": "markdown",
   "metadata": {},
   "source": [
    "# Lesson: Develop a Predictive Theory<a id='lesson_2'></a>"
   ]
  },
  {
   "cell_type": "code",
   "execution_count": 112,
   "metadata": {
    "nbpresent": {
     "id": "e67a709f-234f-4493-bae6-4fb192141ee0"
    },
    "tags": []
   },
   "outputs": [
    {
     "name": "stdout",
     "output_type": "stream",
     "text": [
      "labels.txt \t : \t reviews.txt\n",
      "\n",
      "NEGATIVE\t:\tthis movie is terrible but it has some good effects .  ...\n",
      "POSITIVE\t:\tadrian pasdar is excellent is this film . he makes a fascinating woman .  ...\n",
      "NEGATIVE\t:\tcomment this movie is impossible . is terrible  very improbable  bad interpretat...\n",
      "POSITIVE\t:\texcellent episode movie ala pulp fiction .  days   suicides . it doesnt get more...\n",
      "NEGATIVE\t:\tif you haven  t seen this  it  s terrible . it is pure trash . i saw this about ...\n",
      "POSITIVE\t:\tthis schiffer guy is a real genius  the movie is of excellent quality and both e...\n"
     ]
    }
   ],
   "source": [
    "print(\"labels.txt \\t : \\t reviews.txt\\n\")\n",
    "pretty_print_review_and_label(2137)\n",
    "pretty_print_review_and_label(12816)\n",
    "pretty_print_review_and_label(6267)\n",
    "pretty_print_review_and_label(21934)\n",
    "pretty_print_review_and_label(5297)\n",
    "pretty_print_review_and_label(4998)"
   ]
  },
  {
   "cell_type": "markdown",
   "metadata": {},
   "source": [
    "# Project 1: Quick Theory Validation<a id='project_1'></a>\n",
    "\n",
    "There are multiple ways to implement these projects, but in order to get your code closer to what Andrew shows in his solutions, we've provided some hints and starter code throughout this notebook.\n",
    "\n",
    "You'll find the [Counter](https://docs.python.org/2/library/collections.html#collections.Counter) class to be useful in this exercise, as well as the [numpy](https://docs.scipy.org/doc/numpy/reference/) library."
   ]
  },
  {
   "cell_type": "code",
   "execution_count": 113,
   "metadata": {
    "tags": []
   },
   "outputs": [],
   "source": [
    "from collections import Counter\n",
    "import numpy as np"
   ]
  },
  {
   "cell_type": "markdown",
   "metadata": {},
   "source": [
    "We'll create three `Counter` objects, one for words from postive reviews, one for words from negative reviews, and one for all the words."
   ]
  },
  {
   "cell_type": "code",
   "execution_count": 114,
   "metadata": {},
   "outputs": [],
   "source": [
    "np_reviews = np.array(reviews)\n",
    "np_labels = np.array(labels)\n",
    "mask_pos = np_labels == 'POSITIVE'"
   ]
  },
  {
   "cell_type": "code",
   "execution_count": 115,
   "metadata": {},
   "outputs": [],
   "source": [
    "pos_reviews_big_string = ' '.join(np_reviews[mask_pos])\n",
    "neg_reviews_big_string = ' '.join(np_reviews[~mask_pos])\n",
    "all_reviews_big_string = ' '.join(np_reviews)"
   ]
  },
  {
   "cell_type": "code",
   "execution_count": 116,
   "metadata": {
    "tags": []
   },
   "outputs": [],
   "source": [
    "# Create three Counter objects to store positive, negative and total counts\n",
    "positive_counts = Counter(pos_reviews_big_string.split(' '))\n",
    "negative_counts = Counter(neg_reviews_big_string.split(' '))\n",
    "total_counts = Counter(all_reviews_big_string.split(' '))"
   ]
  },
  {
   "cell_type": "markdown",
   "metadata": {},
   "source": [
    "**TODO:** Examine all the reviews. For each word in a positive review, increase the count for that word in both your positive counter and the total words counter; likewise, for each word in a negative review, increase the count for that word in both your negative counter and the total words counter.\n",
    "\n",
    "**Note:** Throughout these projects, you should use `split(' ')` to divide a piece of text (such as a review) into individual words. If you use `split()` instead, you'll get slightly different results than what the videos and solutions show."
   ]
  },
  {
   "cell_type": "code",
   "execution_count": 117,
   "metadata": {
    "tags": []
   },
   "outputs": [],
   "source": [
    "# TODO: Loop over all the words in all the reviews and increment the counts in the appropriate counter objects\n",
    "\n",
    "#Already did it"
   ]
  },
  {
   "cell_type": "markdown",
   "metadata": {},
   "source": [
    "Run the following two cells to list the words used in positive reviews and negative reviews, respectively, ordered from most to least commonly used. "
   ]
  },
  {
   "cell_type": "code",
   "execution_count": 118,
   "metadata": {
    "tags": []
   },
   "outputs": [
    {
     "data": {
      "text/plain": [
       "[('', 550468),\n",
       " ('the', 173324),\n",
       " ('.', 159654),\n",
       " ('and', 89722),\n",
       " ('a', 83688),\n",
       " ('of', 76855),\n",
       " ('to', 66746),\n",
       " ('is', 57245),\n",
       " ('in', 50215),\n",
       " ('br', 49235)]"
      ]
     },
     "execution_count": 118,
     "metadata": {},
     "output_type": "execute_result"
    }
   ],
   "source": [
    "# Examine the counts of the most common words in positive reviews\n",
    "positive_counts.most_common()[:10]"
   ]
  },
  {
   "cell_type": "code",
   "execution_count": 119,
   "metadata": {
    "tags": []
   },
   "outputs": [
    {
     "data": {
      "text/plain": [
       "[('', 561462),\n",
       " ('.', 167538),\n",
       " ('the', 163389),\n",
       " ('a', 79321),\n",
       " ('and', 74385),\n",
       " ('of', 69009),\n",
       " ('to', 68974),\n",
       " ('br', 52637),\n",
       " ('is', 50083),\n",
       " ('it', 48327)]"
      ]
     },
     "execution_count": 119,
     "metadata": {},
     "output_type": "execute_result"
    }
   ],
   "source": [
    "# Examine the counts of the most common words in negative reviews\n",
    "negative_counts.most_common()[:10]"
   ]
  },
  {
   "cell_type": "markdown",
   "metadata": {},
   "source": [
    "As you can see, common words like \"the\" appear very often in both positive and negative reviews. Instead of finding the most common words in positive or negative reviews, what you really want are the words found in positive reviews more often than in negative reviews, and vice versa. To accomplish this, you'll need to calculate the **ratios** of word usage between positive and negative reviews.\n",
    "\n",
    "**TODO:** Check all the words you've seen and calculate the ratio of postive to negative uses and store that ratio in `pos_neg_ratios`. \n",
    ">Hint: the positive-to-negative ratio for a given word can be calculated with `positive_counts[word] / float(negative_counts[word]+1)`. Notice the `+1` in the denominator – that ensures we don't divide by zero for words that are only seen in positive reviews."
   ]
  },
  {
   "cell_type": "code",
   "execution_count": 120,
   "metadata": {},
   "outputs": [
    {
     "data": {
      "text/plain": [
       "[('', 1111930),\n",
       " ('the', 336713),\n",
       " ('.', 327192),\n",
       " ('and', 164107),\n",
       " ('a', 163009),\n",
       " ('of', 145864),\n",
       " ('to', 135720),\n",
       " ('is', 107328),\n",
       " ('br', 101872),\n",
       " ('it', 96352)]"
      ]
     },
     "execution_count": 120,
     "metadata": {},
     "output_type": "execute_result"
    }
   ],
   "source": [
    "total_counts.most_common()[:10]"
   ]
  },
  {
   "cell_type": "code",
   "execution_count": 121,
   "metadata": {
    "tags": []
   },
   "outputs": [
    {
     "data": {
      "text/plain": [
       "[('edie', 109.0),\n",
       " ('paulie', 59.0),\n",
       " ('felix', 23.4),\n",
       " ('polanski', 16.833333333333332),\n",
       " ('matthau', 16.555555555555557),\n",
       " ('victoria', 14.6),\n",
       " ('mildred', 13.5),\n",
       " ('gandhi', 12.666666666666666),\n",
       " ('flawless', 11.6),\n",
       " ('superbly', 9.583333333333334),\n",
       " ('perfection', 8.666666666666666),\n",
       " ('astaire', 8.5),\n",
       " ('captures', 7.68),\n",
       " ('voight', 7.615384615384615),\n",
       " ('wonderfully', 7.552631578947368)]"
      ]
     },
     "execution_count": 121,
     "metadata": {},
     "output_type": "execute_result"
    }
   ],
   "source": [
    "# Create Counter object to store positive/negative ratios\n",
    "pos_neg_ratios = Counter()\n",
    "\n",
    "# TODO: Calculate the ratios of positive and negative uses of the most common words\n",
    "#       Consider words to be \"common\" if they've been used at least 100 times\n",
    "total_counts_filtered = {word: count for word, count in total_counts.items() if count >= 100 and word != '' and word != '.' and word != ','}\n",
    "ratios_dict = {word: positive_counts[word] / float(negative_counts[word] + 1) for word in total_counts_filtered}\n",
    "\n",
    "pos_neg_ratios.update(ratios_dict)\n",
    "pos_neg_ratios.most_common()[:15]\n"
   ]
  },
  {
   "cell_type": "markdown",
   "metadata": {},
   "source": [
    "Examine the ratios you've calculated for a few words:"
   ]
  },
  {
   "cell_type": "code",
   "execution_count": 122,
   "metadata": {
    "tags": []
   },
   "outputs": [
    {
     "name": "stdout",
     "output_type": "stream",
     "text": [
      "Pos-to-neg ratio for 'the' = 1.0607993145235326\n",
      "Pos-to-neg ratio for 'amazing' = 4.022813688212928\n",
      "Pos-to-neg ratio for 'terrible' = 0.17744252873563218\n"
     ]
    }
   ],
   "source": [
    "print(\"Pos-to-neg ratio for 'the' = {}\".format(pos_neg_ratios[\"the\"]))\n",
    "print(\"Pos-to-neg ratio for 'amazing' = {}\".format(pos_neg_ratios[\"amazing\"]))\n",
    "print(\"Pos-to-neg ratio for 'terrible' = {}\".format(pos_neg_ratios[\"terrible\"]))"
   ]
  },
  {
   "cell_type": "markdown",
   "metadata": {},
   "source": [
    "Looking closely at the values you just calculated, we see the following:\n",
    "\n",
    "* Words that you would expect to see more often in positive reviews – like \"amazing\" – have a ratio greater than 1. The more skewed a word is toward postive, the farther from 1 its positive-to-negative ratio  will be.\n",
    "* Words that you would expect to see more often in negative reviews – like \"terrible\" – have positive values that are less than 1. The more skewed a word is toward negative, the closer to zero its positive-to-negative ratio will be.\n",
    "* Neutral words, which don't really convey any sentiment because you would expect to see them in all sorts of reviews – like \"the\" – have values very close to 1. A perfectly neutral word – one that was used in exactly the same number of positive reviews as negative reviews – would be almost exactly 1. The `+1` we suggested you add to the denominator slightly biases words toward negative, but it won't matter because it will be a tiny bias and later we'll be ignoring words that are too close to neutral anyway.\n",
    "\n",
    "Ok, the ratios tell us which words are used more often in postive or negative reviews, but the specific values we've calculated are a bit difficult to work with. A very positive word like \"amazing\" has a value above 4, whereas a very negative word like \"terrible\" has a value around 0.18. Those values aren't easy to compare for a couple of reasons:\n",
    "\n",
    "* Right now, 1 is considered neutral, but the absolute value of the postive-to-negative rations of very postive words is larger than the absolute value of the ratios for the very negative words. So there is no way to directly compare two numbers and see if one word conveys the same magnitude of positive sentiment as another word conveys negative sentiment. So we should center all the values around netural so the absolute value fro neutral of the postive-to-negative ratio for a word would indicate how much sentiment (positive or negative) that word conveys.\n",
    "* When comparing absolute values it's easier to do that around zero than one. \n",
    "\n",
    "To fix these issues, we'll convert all of our ratios to new values using logarithms.\n",
    "\n",
    "**TODO:** Go through all the ratios you calculated and convert them to logarithms. (i.e. use `np.log(ratio)`)\n",
    "\n",
    "In the end, extremely positive and extremely negative words will have positive-to-negative ratios with similar magnitudes but opposite signs."
   ]
  },
  {
   "cell_type": "code",
   "execution_count": 123,
   "metadata": {
    "tags": []
   },
   "outputs": [
    {
     "data": {
      "text/plain": [
       "[('edie', 4.6913478822291435),\n",
       " ('paulie', 4.07753744390572),\n",
       " ('felix', 3.152736022363656),\n",
       " ('polanski', 2.8233610476132043),\n",
       " ('matthau', 2.80672172860924),\n",
       " ('victoria', 2.681021528714291),\n",
       " ('mildred', 2.6026896854443837),\n",
       " ('gandhi', 2.538973871058276),\n",
       " ('flawless', 2.451005098112319),\n",
       " ('superbly', 2.26002547857525),\n",
       " ('perfection', 2.159484249353372),\n",
       " ('astaire', 2.1400661634962708),\n",
       " ('captures', 2.038619547159581),\n",
       " ('voight', 2.030170492673053),\n",
       " ('wonderfully', 2.0218960560332353)]"
      ]
     },
     "execution_count": 123,
     "metadata": {},
     "output_type": "execute_result"
    }
   ],
   "source": [
    "# TODO: Convert ratios to logs\n",
    "pos_neg_ratios = Counter({key: np.log(value) for key, value in pos_neg_ratios.items() })\n",
    "pos_neg_ratios.most_common()[:15]"
   ]
  },
  {
   "cell_type": "markdown",
   "metadata": {},
   "source": [
    "Examine the new ratios you've calculated for the same words from before:"
   ]
  },
  {
   "cell_type": "code",
   "execution_count": 124,
   "metadata": {
    "tags": []
   },
   "outputs": [
    {
     "name": "stdout",
     "output_type": "stream",
     "text": [
      "Pos-to-neg ratio for 'the' = 0.05902269426102881\n",
      "Pos-to-neg ratio for 'amazing' = 1.3919815802404802\n",
      "Pos-to-neg ratio for 'terrible' = -1.7291085042663878\n"
     ]
    }
   ],
   "source": [
    "print(\"Pos-to-neg ratio for 'the' = {}\".format(pos_neg_ratios[\"the\"]))\n",
    "print(\"Pos-to-neg ratio for 'amazing' = {}\".format(pos_neg_ratios[\"amazing\"]))\n",
    "print(\"Pos-to-neg ratio for 'terrible' = {}\".format(pos_neg_ratios[\"terrible\"]))"
   ]
  },
  {
   "cell_type": "markdown",
   "metadata": {},
   "source": [
    "If everything worked, now you should see neutral words with values close to zero. In this case, \"the\" is near zero but slightly positive, so it was probably used in more positive reviews than negative reviews. But look at \"amazing\"'s ratio - it's above `1`, showing it is clearly a word with positive sentiment. And \"terrible\" has a similar score, but in the opposite direction, so it's below `-1`. It's now clear that both of these words are associated with specific, opposing sentiments.\n",
    "\n",
    "Now run the following cells to see more ratios. \n",
    "\n",
    "The first cell displays all the words, ordered by how associated they are with postive reviews. (Your notebook will most likely truncate the output so you won't actually see *all* the words in the list.)\n",
    "\n",
    "The second cell displays the 30 words most associated with negative reviews by reversing the order of the first list and then looking at the first 30 words. (If you want the second cell to display all the words, ordered by how associated they are with negative reviews, you could just write `reversed(pos_neg_ratios.most_common())`.)\n",
    "\n",
    "You should continue to see values similar to the earlier ones we checked – neutral words will be close to `0`, words will get more positive as their ratios approach and go above `1`, and words will get more negative as their ratios approach and go below `-1`. That's why we decided to use the logs instead of the raw ratios."
   ]
  },
  {
   "cell_type": "code",
   "execution_count": 125,
   "metadata": {
    "tags": []
   },
   "outputs": [
    {
     "data": {
      "text/plain": [
       "[('edie', 4.6913478822291435),\n",
       " ('paulie', 4.07753744390572),\n",
       " ('felix', 3.152736022363656),\n",
       " ('polanski', 2.8233610476132043),\n",
       " ('matthau', 2.80672172860924),\n",
       " ('victoria', 2.681021528714291),\n",
       " ('mildred', 2.6026896854443837),\n",
       " ('gandhi', 2.538973871058276),\n",
       " ('flawless', 2.451005098112319),\n",
       " ('superbly', 2.26002547857525),\n",
       " ('perfection', 2.159484249353372),\n",
       " ('astaire', 2.1400661634962708),\n",
       " ('captures', 2.038619547159581),\n",
       " ('voight', 2.030170492673053),\n",
       " ('wonderfully', 2.0218960560332353),\n",
       " ('powell', 1.978345424808467),\n",
       " ('brosnan', 1.9547990964725592),\n",
       " ('lily', 1.9203768470501485),\n",
       " ('bakshi', 1.9029851043382795),\n",
       " ('lincoln', 1.9014583864844796),\n",
       " ('refreshing', 1.8551812956655511),\n",
       " ('breathtaking', 1.8481124057791867),\n",
       " ('bourne', 1.8478489358790986),\n",
       " ('lemmon', 1.8458266904983307),\n",
       " ('delightful', 1.8002701588959635),\n",
       " ('flynn', 1.7996646487351682),\n",
       " ('andrews', 1.7764919970972666),\n",
       " ('homer', 1.7692866133759964),\n",
       " ('beautifully', 1.7626953362841438),\n",
       " ('soccer', 1.7578579175523736)]"
      ]
     },
     "execution_count": 125,
     "metadata": {},
     "output_type": "execute_result"
    }
   ],
   "source": [
    "# words most frequently seen in a review with a \"POSITIVE\" label\n",
    "pos_neg_ratios.most_common()[:30]"
   ]
  },
  {
   "cell_type": "code",
   "execution_count": 126,
   "metadata": {
    "tags": []
   },
   "outputs": [
    {
     "data": {
      "text/plain": [
       "[('boll', -4.969813299576001),\n",
       " ('uwe', -4.624972813284271),\n",
       " ('seagal', -3.644143560272545),\n",
       " ('unwatchable', -3.258096538021482),\n",
       " ('stinker', -3.2088254890146994),\n",
       " ('mst', -2.9502698994772336),\n",
       " ('incoherent', -2.9368917735310576),\n",
       " ('unfunny', -2.6922395950755678),\n",
       " ('waste', -2.6193845640165536),\n",
       " ('blah', -2.5704288232261625),\n",
       " ('horrid', -2.4849066497880004),\n",
       " ('pointless', -2.4553061800117097),\n",
       " ('atrocious', -2.4259083090260445),\n",
       " ('redeeming', -2.3682390632154826),\n",
       " ('prom', -2.3608540011180215),\n",
       " ('drivel', -2.3470368555648795),\n",
       " ('lousy', -2.307572634505085),\n",
       " ('worst', -2.286987896180378),\n",
       " ('laughable', -2.264363880173848),\n",
       " ('awful', -2.227194247027435),\n",
       " ('poorly', -2.2207550747464135),\n",
       " ('wasting', -2.204604684633842),\n",
       " ('remotely', -2.1972245773362196),\n",
       " ('existent', -2.0794415416798357),\n",
       " ('boredom', -1.995100393246085),\n",
       " ('miserably', -1.9924301646902063),\n",
       " ('sucks', -1.987068221548821),\n",
       " ('uninspired', -1.9832976811269336),\n",
       " ('lame', -1.981767458946166),\n",
       " ('insult', -1.978345424808467)]"
      ]
     },
     "execution_count": 126,
     "metadata": {},
     "output_type": "execute_result"
    }
   ],
   "source": [
    "# words most frequently seen in a review with a \"NEGATIVE\" label\n",
    "list(reversed(pos_neg_ratios.most_common()))[0:30]\n",
    "\n",
    "# Note: Above is the code Andrew uses in his solution video, \n",
    "#       so we've included it here to avoid confusion.\n",
    "#       If you explore the documentation for the Counter class, \n",
    "#       you will see you could also find the 30 least common\n",
    "#       words like this: pos_neg_ratios.most_common()[:-31:-1]"
   ]
  },
  {
   "cell_type": "markdown",
   "metadata": {},
   "source": [
    "# End of Project 1. \n",
    "## Watch the next video to see Andrew's solution, then continue on to the next lesson.\n",
    "\n",
    "# Transforming Text into Numbers<a id='lesson_3'></a>\n",
    "The cells here include code Andrew shows in the next video. We've included it so you can run the code along with the video without having to type in everything."
   ]
  },
  {
   "cell_type": "code",
   "execution_count": 21,
   "metadata": {
    "tags": []
   },
   "outputs": [
    {
     "data": {
      "image/png": "[encoded data removed]",
      "text/plain": [
       "<IPython.core.display.Image object>"
      ]
     },
     "execution_count": 21,
     "metadata": {},
     "output_type": "execute_result"
    }
   ],
   "source": [
    "from IPython.display import Image\n",
    "\n",
    "review = \"This was a horrible, terrible movie.\"\n",
    "\n",
    "Image(filename='sentiment_network.png')"
   ]
  },
  {
   "cell_type": "code",
   "execution_count": 21,
   "metadata": {
    "tags": []
   },
   "outputs": [
    {
     "data": {
      "image/png": "[encoded data removed]",
      "text/plain": [
       "<IPython.core.display.Image object>"
      ]
     },
     "execution_count": 21,
     "metadata": {},
     "output_type": "execute_result"
    }
   ],
   "source": [
    "review = \"The movie was excellent\"\n",
    "\n",
    "Image(filename='sentiment_network_pos.png')"
   ]
  },
  {
   "cell_type": "markdown",
   "metadata": {},
   "source": [
    "# Project 2: Creating the Input/Output Data<a id='project_2'></a>\n",
    "\n",
    "**TODO:** Create a [set](https://docs.python.org/3/tutorial/datastructures.html#sets) named `vocab` that contains every word in the vocabulary."
   ]
  },
  {
   "cell_type": "code",
   "execution_count": 22,
   "metadata": {
    "tags": []
   },
   "outputs": [],
   "source": [
    "# TODO: Create set named \"vocab\" containing all of the words from all of the reviews\n",
    "# vocab = {word for word in set(total_counts.keys())}\n",
    "vocab = set(total_counts.keys())"
   ]
  },
  {
   "cell_type": "markdown",
   "metadata": {},
   "source": [
    "Run the following cell to check your vocabulary size. If everything worked correctly, it should print **74074**"
   ]
  },
  {
   "cell_type": "code",
   "execution_count": 23,
   "metadata": {
    "tags": []
   },
   "outputs": [
    {
     "name": "stdout",
     "output_type": "stream",
     "text": [
      "74074\n"
     ]
    }
   ],
   "source": [
    "vocab_size = len(vocab)\n",
    "print(vocab_size)"
   ]
  },
  {
   "cell_type": "markdown",
   "metadata": {},
   "source": [
    "Take a look at the following image. It represents the layers of the neural network you'll be building throughout this notebook. `layer_0` is the input layer, `layer_1` is a hidden layer, and `layer_2` is the output layer."
   ]
  },
  {
   "cell_type": "code",
   "execution_count": 4,
   "metadata": {},
   "outputs": [
    {
     "data": {
      "image/png": "[encoded data removed]",
      "text/plain": [
       "<IPython.core.display.Image object>"
      ]
     },
     "execution_count": 4,
     "metadata": {},
     "output_type": "execute_result"
    }
   ],
   "source": [
    "from IPython.display import Image\n",
    "Image(filename='sentiment_network_2.png')"
   ]
  },
  {
   "cell_type": "markdown",
   "metadata": {},
   "source": [
    "**TODO:** Create a numpy array called `layer_0` and initialize it to all zeros. You will find the [zeros](https://docs.scipy.org/doc/numpy/reference/generated/numpy.zeros.html) function particularly helpful here. Be sure you create `layer_0` as a 2-dimensional matrix with 1 row and `vocab_size` columns. "
   ]
  },
  {
   "cell_type": "code",
   "execution_count": 25,
   "metadata": {
    "tags": []
   },
   "outputs": [],
   "source": [
    "# TODO: Create layer_0 matrix with dimensions 1 by vocab_size, initially filled with zeros\n",
    "layer_0 = np.zeros((1, vocab_size))"
   ]
  },
  {
   "cell_type": "markdown",
   "metadata": {},
   "source": [
    "Run the following cell. It should display `(1, 74074)`"
   ]
  },
  {
   "cell_type": "code",
   "execution_count": 26,
   "metadata": {
    "tags": []
   },
   "outputs": [
    {
     "data": {
      "text/plain": [
       "(1, 74074)"
      ]
     },
     "execution_count": 26,
     "metadata": {},
     "output_type": "execute_result"
    }
   ],
   "source": [
    "layer_0.shape"
   ]
  },
  {
   "cell_type": "code",
   "execution_count": 27,
   "metadata": {
    "tags": []
   },
   "outputs": [
    {
     "data": {
      "image/png": "[encoded data removed]",
      "text/plain": [
       "<IPython.core.display.Image object>"
      ]
     },
     "execution_count": 27,
     "metadata": {},
     "output_type": "execute_result"
    }
   ],
   "source": [
    "from IPython.display import Image\n",
    "Image(filename='sentiment_network.png')"
   ]
  },
  {
   "cell_type": "markdown",
   "metadata": {},
   "source": [
    "`layer_0` contains one entry for every word in the vocabulary, as shown in the above image. We need to make sure we know the index of each word, so run the following cell to create a lookup table that stores the index of every word."
   ]
  },
  {
   "cell_type": "code",
   "execution_count": 28,
   "metadata": {
    "tags": []
   },
   "outputs": [],
   "source": [
    "# Create a dictionary of words in the vocabulary mapped to index positions\n",
    "# (to be used in layer_0)\n",
    "word2index = {}\n",
    "for i,word in enumerate(vocab):\n",
    "    word2index[word] = i\n",
    "    \n",
    "# display the map of words to indices\n",
    "# word2index"
   ]
  },
  {
   "cell_type": "markdown",
   "metadata": {},
   "source": [
    "**TODO:**  Complete the implementation of `update_input_layer`. It should count \n",
    "          how many times each word is used in the given review, and then store\n",
    "          those counts at the appropriate indices inside `layer_0`."
   ]
  },
  {
   "cell_type": "code",
   "execution_count": 29,
   "metadata": {
    "tags": []
   },
   "outputs": [
    {
     "name": "stdout",
     "output_type": "stream",
     "text": [
      "[1 0 2 1 0 0 1 0]\n"
     ]
    },
    {
     "ename": "AssertionError",
     "evalue": "",
     "output_type": "error",
     "traceback": [
      "\u001b[1;31m---------------------------------------------------------------------------\u001b[0m",
      "\u001b[1;31mAssertionError\u001b[0m                            Traceback (most recent call last)",
      "\u001b[1;32m<ipython-input-29-cd9799e5f38b>\u001b[0m in \u001b[0;36m<module>\u001b[1;34m\u001b[0m\n\u001b[0;32m     42\u001b[0m     \u001b[0mlayer_0\u001b[0m\u001b[1;33m[\u001b[0m\u001b[1;36m0\u001b[0m\u001b[1;33m]\u001b[0m \u001b[1;33m=\u001b[0m \u001b[0mreview2numvec\u001b[0m\u001b[1;33m(\u001b[0m\u001b[0mreview\u001b[0m\u001b[1;33m,\u001b[0m \u001b[0mset\u001b[0m\u001b[1;33m(\u001b[0m\u001b[0mvocab\u001b[0m\u001b[1;33m)\u001b[0m\u001b[1;33m)\u001b[0m  \u001b[1;31m# Alternative set(word2index)\u001b[0m\u001b[1;33m\u001b[0m\u001b[1;33m\u001b[0m\u001b[0m\n\u001b[0;32m     43\u001b[0m \u001b[1;33m\u001b[0m\u001b[0m\n\u001b[1;32m---> 44\u001b[1;33m \u001b[0mreview2numvec_test\u001b[0m\u001b[1;33m(\u001b[0m\u001b[1;33m)\u001b[0m\u001b[1;33m\u001b[0m\u001b[1;33m\u001b[0m\u001b[0m\n\u001b[0m",
      "\u001b[1;32m<ipython-input-29-cd9799e5f38b>\u001b[0m in \u001b[0;36mreview2numvec_test\u001b[1;34m()\u001b[0m\n\u001b[0;32m     22\u001b[0m     \u001b[0mprint\u001b[0m\u001b[1;33m(\u001b[0m\u001b[0mresult\u001b[0m\u001b[1;33m)\u001b[0m\u001b[1;33m\u001b[0m\u001b[1;33m\u001b[0m\u001b[0m\n\u001b[0;32m     23\u001b[0m     \u001b[0mexpected\u001b[0m \u001b[1;33m=\u001b[0m \u001b[1;33m[\u001b[0m\u001b[1;36m0\u001b[0m\u001b[1;33m,\u001b[0m \u001b[1;36m1\u001b[0m\u001b[1;33m,\u001b[0m \u001b[1;36m0\u001b[0m\u001b[1;33m,\u001b[0m \u001b[1;36m0\u001b[0m\u001b[1;33m,\u001b[0m \u001b[1;36m2\u001b[0m\u001b[1;33m,\u001b[0m \u001b[1;36m1\u001b[0m\u001b[1;33m,\u001b[0m \u001b[1;36m1\u001b[0m\u001b[1;33m,\u001b[0m \u001b[1;36m0\u001b[0m\u001b[1;33m]\u001b[0m\u001b[1;33m\u001b[0m\u001b[1;33m\u001b[0m\u001b[0m\n\u001b[1;32m---> 24\u001b[1;33m     \u001b[1;32massert\u001b[0m \u001b[0mnp\u001b[0m\u001b[1;33m.\u001b[0m\u001b[0mallclose\u001b[0m\u001b[1;33m(\u001b[0m\u001b[0mresult\u001b[0m\u001b[1;33m,\u001b[0m \u001b[0mexpected\u001b[0m\u001b[1;33m)\u001b[0m\u001b[1;33m\u001b[0m\u001b[1;33m\u001b[0m\u001b[0m\n\u001b[0m\u001b[0;32m     25\u001b[0m     \u001b[0mprint\u001b[0m\u001b[1;33m(\u001b[0m\u001b[1;34m'review2numvec_test SUCCESS'\u001b[0m\u001b[1;33m)\u001b[0m\u001b[1;33m\u001b[0m\u001b[1;33m\u001b[0m\u001b[0m\n\u001b[0;32m     26\u001b[0m \u001b[1;33m\u001b[0m\u001b[0m\n",
      "\u001b[1;31mAssertionError\u001b[0m: "
     ]
    }
   ],
   "source": [
    "def review2numvec(review, words_set):\n",
    "    '''\n",
    "    :param review: string\n",
    "    :param words_set: set of all the possible words. Aka vocab, dict\n",
    "    :return: list of counters (using same order as set). Ex: [10, 0, 3]\n",
    "    '''\n",
    "    words_counter = Counter(review.split(' '))    \n",
    "    # {'pero': 0, 'de': 1, 'nuevo': 2, 'dire': 3, 'chau': 4, 'tambien': 5, 'y': 6, 'hola': 7}\n",
    "    return np.array([words_counter[word]  for word in words_set])\n",
    "\n",
    "def review2numvec_test():\n",
    "    #word2index = {}\n",
    "    #for i,word in enumerate(vocab):\n",
    "        #word2index[word] = i\n",
    "    \n",
    "    review = 'hola dire hola de nuevo'\n",
    "    words_set = set('hola dire hola de nuevo pero tambien dire chau y chau de nuevo'.split(' '))\n",
    "    # print('words_set: ', words_set)\n",
    "    # word to index\n",
    "    # {'pero': 0, 'de': 1, 'nuevo': 2, 'dire': 3, 'chau': 4, 'tambien': 5, 'y': 6, 'hola': 7}\n",
    "    result = review2numvec(review, words_set)\n",
    "    print(result)\n",
    "    expected = [0, 1, 0, 0, 2, 1, 1, 0]\n",
    "    assert np.allclose(result, expected)\n",
    "    print('review2numvec_test SUCCESS')\n",
    "        \n",
    "\n",
    "def update_input_layer(review):\n",
    "    \"\"\" Modify the global layer_0 to represent the vector form of review.\n",
    "    The element at a given index of layer_0 should represent\n",
    "    how many times the given word occurs in the review.\n",
    "    Args:\n",
    "        review(string) - the string of the review\n",
    "    Returns:\n",
    "        None\n",
    "    \"\"\"\n",
    "    global layer_0\n",
    "    # clear out previous state by resetting the layer to be all 0s\n",
    "    layer_0 *= 0    \n",
    "    \n",
    "    # TODO: count how many times each word is used in the given review and store the results in layer_0 \n",
    "    layer_0[0] = review2numvec(review, set(vocab))  # Alternative set(word2index)\n",
    "    \n",
    "review2numvec_test()"
   ]
  },
  {
   "cell_type": "markdown",
   "metadata": {},
   "source": [
    "Run the following cell to test updating the input layer with the first review. The indices assigned may not be the same as in the solution, but hopefully you'll see some non-zero values in `layer_0`.  "
   ]
  },
  {
   "cell_type": "code",
   "execution_count": 30,
   "metadata": {
    "tags": []
   },
   "outputs": [
    {
     "data": {
      "text/plain": [
       "array([[18.,  0.,  0., ...,  0.,  0.,  0.]])"
      ]
     },
     "execution_count": 30,
     "metadata": {},
     "output_type": "execute_result"
    }
   ],
   "source": [
    "update_input_layer(reviews[0])\n",
    "layer_0"
   ]
  },
  {
   "cell_type": "markdown",
   "metadata": {},
   "source": [
    "**TODO:** Complete the implementation of `get_target_for_labels`. It should return `0` or `1`, \n",
    "          depending on whether the given label is `NEGATIVE` or `POSITIVE`, respectively."
   ]
  },
  {
   "cell_type": "code",
   "execution_count": 31,
   "metadata": {
    "tags": []
   },
   "outputs": [],
   "source": [
    "def get_target_for_label(label):\n",
    "    \"\"\"Convert a label to `0` or `1`.\n",
    "    Args:\n",
    "        label(string) - Either \"POSITIVE\" or \"NEGATIVE\".\n",
    "    Returns:\n",
    "        `0` or `1`.\n",
    "    \"\"\"    \n",
    "    # TODO: Your code here\n",
    "    return int(label == 'POSITIVE')"
   ]
  },
  {
   "cell_type": "markdown",
   "metadata": {},
   "source": [
    "Run the following two cells. They should print out`'POSITIVE'` and `1`, respectively."
   ]
  },
  {
   "cell_type": "code",
   "execution_count": 32,
   "metadata": {
    "tags": []
   },
   "outputs": [
    {
     "data": {
      "text/plain": [
       "'POSITIVE'"
      ]
     },
     "execution_count": 32,
     "metadata": {},
     "output_type": "execute_result"
    }
   ],
   "source": [
    "labels[0]"
   ]
  },
  {
   "cell_type": "code",
   "execution_count": 33,
   "metadata": {
    "tags": []
   },
   "outputs": [
    {
     "data": {
      "text/plain": [
       "1"
      ]
     },
     "execution_count": 33,
     "metadata": {},
     "output_type": "execute_result"
    }
   ],
   "source": [
    "get_target_for_label(labels[0])"
   ]
  },
  {
   "cell_type": "markdown",
   "metadata": {},
   "source": [
    "Run the following two cells. They should print out `'NEGATIVE'` and `0`, respectively."
   ]
  },
  {
   "cell_type": "code",
   "execution_count": 34,
   "metadata": {
    "tags": []
   },
   "outputs": [
    {
     "data": {
      "text/plain": [
       "'NEGATIVE'"
      ]
     },
     "execution_count": 34,
     "metadata": {},
     "output_type": "execute_result"
    }
   ],
   "source": [
    "labels[1]"
   ]
  },
  {
   "cell_type": "code",
   "execution_count": 35,
   "metadata": {
    "tags": []
   },
   "outputs": [
    {
     "data": {
      "text/plain": [
       "0"
      ]
     },
     "execution_count": 35,
     "metadata": {},
     "output_type": "execute_result"
    }
   ],
   "source": [
    "get_target_for_label(labels[1])"
   ]
  },
  {
   "cell_type": "markdown",
   "metadata": {},
   "source": [
    "# End of Project 2. \n",
    "## Watch the next video to see Andrew's solution, then continue on to the next lesson."
   ]
  },
  {
   "cell_type": "markdown",
   "metadata": {},
   "source": [
    "# Project 3: Building a Neural Network<a id='project_3'></a>"
   ]
  },
  {
   "cell_type": "markdown",
   "metadata": {},
   "source": [
    "**TODO:** We've included the framework of a class called `SentimentNetork`. Implement all of the items marked `TODO` in the code. These include doing the following:\n",
    "- Create a basic neural network much like the networks you've seen in earlier lessons and in Project 1, with an input layer, a hidden layer, and an output layer. \n",
    "- Do **not** add a non-linearity in the hidden layer. That is, do not use an activation function when calculating the hidden layer outputs.\n",
    "- Re-use the code from earlier in this notebook to create the training data (see `TODO`s in the code)\n",
    "- Implement the `pre_process_data` function to create the vocabulary for our training data generating functions\n",
    "- Ensure `train` trains over the entire corpus"
   ]
  },
  {
   "cell_type": "markdown",
   "metadata": {},
   "source": [
    "### Where to Get Help if You Need it\n",
    "- Re-watch earlier Udacity lectures\n",
    "- Chapters 3-5 - [Grokking Deep Learning](https://www.manning.com/books/grokking-deep-learning) - (Check inside your classroom for a discount code)"
   ]
  },
  {
   "cell_type": "code",
   "execution_count": 80,
   "metadata": {
    "tags": []
   },
   "outputs": [],
   "source": [
    "import time\n",
    "import sys\n",
    "import numpy as np\n",
    "\n",
    "# Encapsulate our neural network in a class\n",
    "class SentimentNetwork:\n",
    "    def __init__(self, reviews, labels, hidden_nodes = 10, learning_rate = 0.1):\n",
    "        \"\"\"Create a SentimenNetwork with the given settings\n",
    "        Args:\n",
    "            reviews(list) - List of reviews used for training\n",
    "            labels(list) - List of POSITIVE/NEGATIVE labels associated with the given reviews\n",
    "            hidden_nodes(int) - Number of nodes to create in the hidden layer\n",
    "            learning_rate(float) - Learning rate to use while training\n",
    "        \n",
    "        \"\"\"\n",
    "        # Assign a seed to our random number generator to ensure we get\n",
    "        # reproducable results during development \n",
    "        np.random.seed(1)\n",
    "\n",
    "        # process the reviews and their associated labels so that everything\n",
    "        # is ready for training\n",
    "        self.pre_process_data(reviews, labels)\n",
    "        \n",
    "        # Build the network to have the number of hidden nodes and the learning rate that\n",
    "        # were passed into this initializer. Make the same number of input nodes as\n",
    "        # there are vocabulary words and create a single output node.\n",
    "        self.init_network(len(self.review_vocab), hidden_nodes, 1, learning_rate)\n",
    "\n",
    "    def pre_process_data(self, reviews, labels):\n",
    "        '''\n",
    "        Creates the review and label vocabs\n",
    "        \n",
    "        :param reviews: list of reviews (strings)\n",
    "        :param labels: list of reviews' corresponding labels (strings, i.e: 'POSITIVE')\n",
    "        '''\n",
    "        \n",
    "        review_vocab = set(' '.join(reviews).split(' '))\n",
    "        # TODO: populate review_vocab with all of the words in the given reviews\n",
    "        #       Remember to split reviews into individual words \n",
    "        #       using \"split(' ')\" instead of \"split()\".\n",
    "        \n",
    "        # Convert the vocabulary set to a list so we can access words via indices\n",
    "        self.review_vocab = list(review_vocab)\n",
    "        \n",
    "        label_vocab = set(' '.join(labels).split(' '))\n",
    "        # TODO: populate label_vocab with all of the words in the given labels.\n",
    "        #       There is no need to split the labels because each one is a single word.\n",
    "        \n",
    "        # Convert the label vocabulary set to a list so we can access labels via indices\n",
    "        self.label_vocab = list(label_vocab)\n",
    "        \n",
    "        # Store the sizes of the review and label vocabularies.\n",
    "        self.review_vocab_size = len(self.review_vocab)\n",
    "        self.label_vocab_size = len(self.label_vocab)\n",
    "        \n",
    "        # Create a dictionary of words in the vocabulary mapped to index positions\n",
    "        self.word2index = {word: i for i, word in enumerate(self.review_vocab)}\n",
    "        # TODO: populate self.word2index with indices for all the words in self.review_vocab\n",
    "        #       like you saw earlier in the notebook\n",
    "        \n",
    "        # Create a dictionary of labels mapped to index positions\n",
    "        self.label2index = {label: i for i, label in enumerate(self.label_vocab)}\n",
    "        # TODO: do the same thing you did for self.word2index and self.review_vocab, \n",
    "        #       but for self.label2index and self.label_vocab instead\n",
    "         \n",
    "        \n",
    "    def init_network(self, input_nodes, hidden_nodes, output_nodes, learning_rate):\n",
    "        '''\n",
    "        :param input_nodes int:\n",
    "        :param hidden_nodes int:\n",
    "        :param output_nodes int:\n",
    "        :param learning_rate float:\n",
    "        '''\n",
    "        # Store the number of nodes in input, hidden, and output layers.\n",
    "        self.input_nodes = input_nodes    # Aka ni in comments\n",
    "        self.hidden_nodes = hidden_nodes  # Aka nh in comments\n",
    "        self.output_nodes = output_nodes  # Aka no in comments\n",
    "\n",
    "        # Store the learning rate\n",
    "        self.learning_rate = learning_rate\n",
    "\n",
    "        # Initialize weights\n",
    "        \n",
    "        # TODO: initialize self.weights_0_1 as a matrix of zeros. These are the weights between\n",
    "        #       the input layer and the hidden layer.\n",
    "        self.weights_0_1 = np.zeros((input_nodes, hidden_nodes))\n",
    "        \n",
    "        # TODO: initialize self.weights_1_2 as a matrix of random values. \n",
    "        #       These are the weights between the hidden layer and the output layer.\n",
    "        # self.weights_1_2 = np.random.rand(hidden_nodes, output_nodes)\n",
    "        self.weights_1_2 = np.random.normal(0.0, hidden_nodes**-0.5, (hidden_nodes, output_nodes))\n",
    "        \n",
    "        # TODO: Create the input layer, a two-dimensional matrix with shape \n",
    "        #       1 x input_nodes, with all values initialized to zero\n",
    "        self.layer_0 = np.zeros((1, input_nodes))        \n",
    "        \n",
    "   \n",
    "    def update_input_layer(self, review):\n",
    "        '''\n",
    "        Sets the input layer as a row matrix (1 x size(vocab)) of counters (including zeros)\n",
    "        \n",
    "        :param review: string\n",
    "        '''\n",
    "        \n",
    "        # TODO: You can copy most of the code you wrote for update_input_layer \n",
    "        #       earlier in this notebook. \n",
    "        #\n",
    "        #       However, MAKE SURE YOU CHANGE ALL VARIABLES TO REFERENCE\n",
    "        #       THE VERSIONS STORED IN THIS OBJECT, NOT THE GLOBAL OBJECTS.\n",
    "        #       For example, replace \"layer_0 *= 0\" with \"self.layer_0 *= 0\"\n",
    "                \n",
    "        words_counter = Counter(review.split(' '))\n",
    "        \"\"\"Like {'pero': 4, 'de': 3, 'nuevo': 2}, does not have zeroes\"\"\"\n",
    "        \n",
    "        self.layer_0[0] = np.array([words_counter[word] for word in self.review_vocab])\n",
    "        \n",
    "        # Less concise alternative\n",
    "        # self.layer_0 *= 0\n",
    "        # for i, word in enumerate(self.review_vocab):\n",
    "        #    self.layer_0[0][i] = words_counter[word]\n",
    "        \n",
    "                \n",
    "    def get_target_for_label(self, label):\n",
    "        '''\n",
    "        :return: A numeric representation of the label (1=POSITIVE, 0=NEGATIVE)\n",
    "        '''\n",
    "        \n",
    "        # TODO: Copy the code you wrote for get_target_for_label \n",
    "        #       earlier in this notebook. \n",
    "        return int(label == 'POSITIVE')\n",
    "        \n",
    "    def sigmoid(self, x):\n",
    "        # TODO: Return the result of calculating the sigmoid activation function\n",
    "        #       shown in the lectures\n",
    "        return 1 / (1 + np.exp(-x))\n",
    "    \n",
    "    def sigmoid_output_2_derivative(self, output):\n",
    "        # TODO: Return the derivative of the sigmoid activation function, \n",
    "        #       where \"output\" is the original output from the sigmoid function \n",
    "        return output * (1 - output)\n",
    "    \n",
    "    def identity(self, x):\n",
    "        return x\n",
    "    \n",
    "    def identity_output_2_derivative(self, output):\n",
    "        '''\n",
    "        Because we're using identity as activation function in hidden layer\n",
    "        '''\n",
    "        return 1  # Derivative of identity function is 1\n",
    "\n",
    "    def train(self, training_reviews, training_labels):\n",
    "        \n",
    "        # make sure out we have a matching number of reviews and labels\n",
    "        assert(len(training_reviews) == len(training_labels))\n",
    "        \n",
    "        # Keep track of correct predictions to display accuracy during training \n",
    "        correct_so_far = 0\n",
    "        \n",
    "        # Remember when we started for printing time statistics\n",
    "        start = time.time()\n",
    "\n",
    "        # loop through all the given reviews and run a forward and backward pass,\n",
    "        # updating weights for every item\n",
    "        for i, (review, label) in enumerate(zip(training_reviews, training_labels)):\n",
    "            \n",
    "            # TODO: Get the next review and its correct label\n",
    "            self.update_input_layer(review)\n",
    "            target = np.array([[get_target_for_label(label)]])\n",
    "            \"\"\"s(1, no)\"\"\"\n",
    "            \n",
    "            # TODO: Implement the forward pass through the network. \n",
    "            #       That means use the given review to update the input layer, \n",
    "            #       then calculate values for the hidden layer,\n",
    "            #       and finally calculate the output layer.\n",
    "            # \n",
    "            #       Do not use an activation function for the hidden layer,\n",
    "            #       but use the sigmoid activation function for the output layer.\n",
    "            \n",
    "            layer_1_input = np.dot(self.layer_0, self.weights_0_1)\n",
    "            \"\"\"s(1, nh) = (1, ni) x (ni, nh)\"\"\"\n",
    "            \n",
    "            layer_1_output = self.identity(layer_1_input)  # Because it's instructing not to use activation (to remove non-linearity)\n",
    "            \n",
    "            layer_2_input = np.dot(layer_1_output, self.weights_1_2)\n",
    "            \"\"\"s(1, no) = (1, nh) x (nh, no)\"\"\" \n",
    "            \n",
    "            layer_2_output = self.sigmoid(layer_2_input)\n",
    "            # s(1, no) = (1, 1)\n",
    "            \n",
    "            output = layer_2_output  # Just convenience alias                        \n",
    "            \n",
    "            # TODO: Implement the back propagation pass here. \n",
    "            #       That means calculate the error for the forward pass's prediction\n",
    "            #       and update the weights in the network according to their\n",
    "            #       contributions toward the error, as calculated via the\n",
    "            #       gradient descent and back propagation algorithms you \n",
    "            #       learned in class.\n",
    "            error = target - output\n",
    "            \"\"\"s(1, no)\"\"\"\n",
    "            \n",
    "            # print(f\" error: {error} target: {target} output: {output} correct: {abs(error[0][0]) < 0.5}\")\n",
    "            \n",
    "            output_error_term = error * self.sigmoid_output_2_derivative(output)\n",
    "            \"\"\"s(1, no)\"\"\"                        \n",
    "            \n",
    "            layer_1_error_term = np.dot(output_error_term, self.weights_1_2.T) * self.identity_output_2_derivative(layer_1_output)\n",
    "            \"\"\"s(1, nh) = (1, no) x (no, nh) \n",
    "            Identity derivative is 1 but put to be more explicit\n",
    "            \"\"\"\n",
    "            \n",
    "            D_1_2 = np.dot(layer_1_output.T, output_error_term) / 1\n",
    "            \"\"\"s(nh, no) = (nh, 1) x (1, no)\"\"\"\n",
    "            \n",
    "            D_0_1 = np.dot(self.layer_0.T, layer_1_error_term) / 1\n",
    "            \"\"\"s(ni, nh) = (ni, 1) x (1, nh)\"\"\"\n",
    "            \n",
    "            self.weights_1_2 += self.learning_rate * D_1_2\n",
    "            self.weights_0_1 += self.learning_rate * D_0_1\n",
    "            \n",
    "            # TODO: Keep track of correct predictions. To determine if the prediction was\n",
    "            #       correct, check that the absolute value of the output error \n",
    "            #       is less than 0.5. If so, add one to the correct_so_far count.            \n",
    "            correct_so_far += abs(error[0][0]) < 0.5\n",
    "            \n",
    "            \n",
    "            # For debug purposes, print out our prediction accuracy and speed \n",
    "            # throughout the training process. \n",
    "\n",
    "            elapsed_time = float(time.time() - start)\n",
    "            reviews_per_second = i / elapsed_time if elapsed_time > 0 else 0\n",
    "            \n",
    "            sys.stdout.write(\"\\rProgress:\" + str(100 * i/float(len(training_reviews)))[:4] \\\n",
    "                             + \"% Speed(reviews/sec):\" + str(reviews_per_second)[0:5] \\\n",
    "                             + \" #Correct:\" + str(correct_so_far) + \" #Trained:\" + str(i+1) \\\n",
    "                             + \" Training Accuracy:\" + str(correct_so_far * 100 / float(i+1))[:4] + \"%\")\n",
    "                             \n",
    "            if(i % 2500 == 0):\n",
    "                print(\"\")           \n",
    "    \n",
    "    def test(self, testing_reviews, testing_labels):\n",
    "        \"\"\"\n",
    "        Attempts to predict the labels for the given testing_reviews,\n",
    "        and uses the test_labels to calculate the accuracy of those predictions.\n",
    "        \"\"\"\n",
    "        \n",
    "        # keep track of how many correct predictions we make\n",
    "        correct = 0\n",
    "\n",
    "        # we'll time how many predictions per second we make\n",
    "        start = time.time()\n",
    "\n",
    "        # Loop through each of the given reviews and call run to predict\n",
    "        # its label. \n",
    "        for i in range(len(testing_reviews)):\n",
    "            pred = self.run(testing_reviews[i])\n",
    "            if(pred == testing_labels[i]):\n",
    "                correct += 1\n",
    "            \n",
    "            # For debug purposes, print out our prediction accuracy and speed \n",
    "            # throughout the prediction process. \n",
    "\n",
    "            elapsed_time = float(time.time() - start)\n",
    "            reviews_per_second = i / elapsed_time if elapsed_time > 0 else 0\n",
    "            \n",
    "            sys.stdout.write(\"\\rProgress:\" + str(100 * i/float(len(testing_reviews)))[:4] \\\n",
    "                             + \"% Speed(reviews/sec):\" + str(reviews_per_second)[0:5] \\\n",
    "                             + \" #Correct:\" + str(correct) + \" #Tested:\" + str(i+1) \\\n",
    "                             + \" Testing Accuracy:\" + str(correct * 100 / float(i+1))[:4] + \"%\")\n",
    "    \n",
    "    def run(self, review):\n",
    "        \"\"\"\n",
    "        Returns a POSITIVE or NEGATIVE prediction for the given review.\n",
    "        \"\"\"\n",
    "        # TODO: Run a forward pass through the network, like you did in the\n",
    "        #       \"train\" function. That means use the given review to \n",
    "        #       update the input layer, then calculate values for the hidden layer,\n",
    "        #       and finally calculate the output layer.\n",
    "        #\n",
    "        #       Note: The review passed into this function for prediction \n",
    "        #             might come from anywhere, so you should convert it \n",
    "        #             to lower case prior to using it.\n",
    "        self.update_input_layer(review.lower())\n",
    "                \n",
    "        layer_1_output = np.dot(self.layer_0, self.weights_0_1) # Does not have activation        \n",
    "        ''' s(1, n_hidden) '''\n",
    "        layer_2_output = self.sigmoid(np.dot(layer_1_output, self.weights_1_2))\n",
    "        ''' s(1, 1)'''\n",
    "        output = layer_2_output[0][0]\n",
    "        \n",
    "        # TODO: The output layer should now contain a prediction. \n",
    "        #       Return `POSITIVE` for predictions greater-than-or-equal-to `0.5`, \n",
    "        #       and `NEGATIVE` otherwise.\n",
    "        return 'POSITIVE' if output >= 0.5 else 'NEGATIVE'\n"
   ]
  },
  {
   "cell_type": "markdown",
   "metadata": {},
   "source": [
    "Run the following cell to create a `SentimentNetwork` that will train on all but the last 1000 reviews (we're saving those for testing). Here we use a learning rate of `0.1`."
   ]
  },
  {
   "cell_type": "code",
   "execution_count": 53,
   "metadata": {
    "tags": []
   },
   "outputs": [],
   "source": [
    "mlp = SentimentNetwork(reviews[:-1000],labels[:-1000], learning_rate=0.1)"
   ]
  },
  {
   "cell_type": "markdown",
   "metadata": {},
   "source": [
    "Run the following cell to test the network's performance against the last 1000 reviews (the ones we held out from our training set). \n",
    "\n",
    "**We have not trained the model yet, so the results should be about 50% as it will just be guessing and there are only two possible values to choose from.**"
   ]
  },
  {
   "cell_type": "code",
   "execution_count": 54,
   "metadata": {
    "tags": []
   },
   "outputs": [],
   "source": [
    "mlp.test(reviews[-1000:],labels[-1000:])"
   ]
  },
  {
   "cell_type": "markdown",
   "metadata": {},
   "source": [
    "Run the following cell to actually train the network. During training, it will display the model's accuracy repeatedly as it trains so you can see how well it's doing."
   ]
  },
  {
   "cell_type": "code",
   "execution_count": 71,
   "metadata": {
    "tags": []
   },
   "outputs": [],
   "source": [
    "mlp.train(reviews[:-1000],labels[:-1000])"
   ]
  },
  {
   "cell_type": "markdown",
   "metadata": {},
   "source": [
    "That most likely didn't train very well. Part of the reason may be because the learning rate is too high. Run the following cell to recreate the network with a smaller learning rate, `0.01`, and then train the new network."
   ]
  },
  {
   "cell_type": "code",
   "execution_count": 72,
   "metadata": {
    "tags": []
   },
   "outputs": [],
   "source": [
    "mlp = SentimentNetwork(reviews[:-1000],labels[:-1000], learning_rate=0.01)\n",
    "mlp.train(reviews[:-1000],labels[:-1000])"
   ]
  },
  {
   "cell_type": "markdown",
   "metadata": {},
   "source": [
    "That probably wasn't much different. Run the following cell to recreate the network one more time with an even smaller learning rate, `0.001`, and then train the new network."
   ]
  },
  {
   "cell_type": "code",
   "execution_count": 81,
   "metadata": {
    "tags": []
   },
   "outputs": [
    {
     "name": "stdout",
     "output_type": "stream",
     "text": [
      "Progress:0.0% Speed(reviews/sec):0.0 #Correct:0 #Trained:1 Training Accuracy:0.0%\n",
      "Progress:10.4% Speed(reviews/sec):16.79 #Correct:1355 #Trained:2501 Training Accuracy:54.1%\n",
      "Progress:20.8% Speed(reviews/sec):16.63 #Correct:2912 #Trained:5001 Training Accuracy:58.2%\n",
      "Progress:31.2% Speed(reviews/sec):16.24 #Correct:4572 #Trained:7501 Training Accuracy:60.9%\n",
      "Progress:41.6% Speed(reviews/sec):16.13 #Correct:6316 #Trained:10001 Training Accuracy:63.1%\n",
      "Progress:52.0% Speed(reviews/sec):16.14 #Correct:8113 #Trained:12501 Training Accuracy:64.8%\n",
      "Progress:62.5% Speed(reviews/sec):16.24 #Correct:9908 #Trained:15001 Training Accuracy:66.0%\n",
      "Progress:72.9% Speed(reviews/sec):16.31 #Correct:11699 #Trained:17501 Training Accuracy:66.8%\n",
      "Progress:83.3% Speed(reviews/sec):16.37 #Correct:13573 #Trained:20001 Training Accuracy:67.8%\n",
      "Progress:93.7% Speed(reviews/sec):16.36 #Correct:15441 #Trained:22501 Training Accuracy:68.6%\n",
      "Progress:99.9% Speed(reviews/sec):16.33 #Correct:16596 #Trained:24000 Training Accuracy:69.1%"
     ]
    }
   ],
   "source": [
    "mlp = SentimentNetwork(reviews[:-1000],labels[:-1000], learning_rate=0.001)\n",
    "mlp.train(reviews[:-1000],labels[:-1000])"
   ]
  },
  {
   "cell_type": "markdown",
   "metadata": {},
   "source": [
    "With a learning rate of `0.001`, the network should finally have started to improve during training. It's still not very good, but it shows that this solution has potential. We will improve it in the next lesson."
   ]
  },
  {
   "cell_type": "code",
   "execution_count": 75,
   "metadata": {},
   "outputs": [
    {
     "name": "stdout",
     "output_type": "stream",
     "text": [
      "w_0_1:\n",
      "[[-5.09180949e-03  1.91766307e-03  1.65565156e-03 ...  2.38614312e-03\n",
      "  -1.00008676e-03  7.81697336e-04]\n",
      " [-9.74061916e-04  3.66848478e-04  3.16725741e-04 ...  4.56468599e-04\n",
      "  -1.91316354e-04  1.49538510e-04]\n",
      " [ 6.33643831e-05 -2.38641170e-05 -2.06035477e-05 ... -2.96940581e-05\n",
      "   1.24454540e-05 -9.72773423e-06]\n",
      " ...\n",
      " [ 2.31388816e-05 -8.71450096e-06 -7.52383325e-06 ... -1.08434307e-05\n",
      "   4.54472801e-06 -3.55229357e-06]\n",
      " [ 1.90415137e-06 -7.17136171e-07 -6.19153407e-07 ... -8.92330656e-07\n",
      "   3.73996039e-07 -2.92326345e-07]\n",
      " [ 5.36042159e-05 -2.01882701e-05 -1.74299341e-05 ... -2.51202115e-05\n",
      "   1.05284510e-05 -8.22934811e-06]]\n",
      "w_1_2:\n",
      "[[ 0.50816019]\n",
      " [-0.19138187]\n",
      " [-0.16523325]\n",
      " [-0.33566749]\n",
      " [ 0.27073411]\n",
      " [-0.72001334]\n",
      " [ 0.54584689]\n",
      " [-0.23813596]\n",
      " [ 0.09980819]\n",
      " [-0.07801303]]\n"
     ]
    }
   ],
   "source": [
    "print('w_0_1:')\n",
    "print(mlp.weights_0_1)\n",
    "print('w_1_2:')\n",
    "print(mlp.weights_1_2)"
   ]
  },
  {
   "cell_type": "markdown",
   "metadata": {},
   "source": [
    "# End of Project 3. \n",
    "## Watch the next video to see Andrew's solution, then continue on to the next lesson."
   ]
  },
  {
   "cell_type": "markdown",
   "metadata": {},
   "source": [
    "# Understanding Neural Noise<a id='lesson_4'></a>\n",
    "\n",
    "The following cells include includes the code Andrew shows in the next video. We've included it here so you can run the cells along with the video without having to type in everything."
   ]
  },
  {
   "cell_type": "code",
   "execution_count": null,
   "metadata": {
    "collapsed": true,
    "jupyter": {
     "outputs_hidden": true
    }
   },
   "outputs": [],
   "source": [
    "from IPython.display import Image\n",
    "Image(filename='sentiment_network.png')"
   ]
  },
  {
   "cell_type": "code",
   "execution_count": null,
   "metadata": {
    "collapsed": true,
    "jupyter": {
     "outputs_hidden": true
    }
   },
   "outputs": [],
   "source": [
    "def update_input_layer(review):\n",
    "    \n",
    "    global layer_0\n",
    "    \n",
    "    # clear out previous state, reset the layer to be all 0s\n",
    "    layer_0 *= 0\n",
    "    for word in review.split(\" \"):\n",
    "        layer_0[0][word2index[word]] += 1\n",
    "\n",
    "update_input_layer(reviews[0])"
   ]
  },
  {
   "cell_type": "code",
   "execution_count": null,
   "metadata": {
    "collapsed": true,
    "jupyter": {
     "outputs_hidden": true
    }
   },
   "outputs": [],
   "source": [
    "layer_0"
   ]
  },
  {
   "cell_type": "code",
   "execution_count": null,
   "metadata": {
    "collapsed": true,
    "jupyter": {
     "outputs_hidden": true
    }
   },
   "outputs": [],
   "source": [
    "review_counter = Counter()"
   ]
  },
  {
   "cell_type": "code",
   "execution_count": null,
   "metadata": {
    "collapsed": true,
    "jupyter": {
     "outputs_hidden": true
    }
   },
   "outputs": [],
   "source": [
    "for word in reviews[0].split(\" \"):\n",
    "    review_counter[word] += 1"
   ]
  },
  {
   "cell_type": "code",
   "execution_count": null,
   "metadata": {
    "collapsed": true,
    "jupyter": {
     "outputs_hidden": true
    }
   },
   "outputs": [],
   "source": [
    "review_counter.most_common()"
   ]
  },
  {
   "cell_type": "markdown",
   "metadata": {},
   "source": [
    "# Project 4: Reducing Noise in Our Input Data<a id='project_4'></a>\n",
    "\n",
    "**TODO:** Attempt to reduce the noise in the input data like Andrew did in the previous video. Specifically, do the following:\n",
    "* Copy the `SentimentNetwork` class you created earlier into the following cell.\n",
    "* Modify `update_input_layer` so it does not count how many times each word is used, but rather just stores whether or not a word was used. "
   ]
  },
  {
   "cell_type": "code",
   "execution_count": 2,
   "metadata": {
    "tags": []
   },
   "outputs": [],
   "source": [
    "# TODO: -Copy the SentimentNetwork class from Projet 3 lesson\n",
    "#       -Modify it to reduce noise, like in the video \n",
    "\n",
    "import time\n",
    "import sys\n",
    "import numpy as np\n",
    "\n",
    "# Encapsulate our neural network in a class\n",
    "class SentimentNetwork:\n",
    "    def __init__(self, reviews, labels, hidden_nodes = 10, learning_rate = 0.1):\n",
    "        \"\"\"Create a SentimenNetwork with the given settings\n",
    "        Args:\n",
    "            reviews(list) - List of reviews used for training\n",
    "            labels(list) - List of POSITIVE/NEGATIVE labels associated with the given reviews\n",
    "            hidden_nodes(int) - Number of nodes to create in the hidden layer\n",
    "            learning_rate(float) - Learning rate to use while training\n",
    "        \n",
    "        \"\"\"\n",
    "        # Assign a seed to our random number generator to ensure we get\n",
    "        # reproducable results during development \n",
    "        np.random.seed(1)\n",
    "\n",
    "        # process the reviews and their associated labels so that everything\n",
    "        # is ready for training\n",
    "        self.pre_process_data(reviews, labels)\n",
    "        \n",
    "        # Build the network to have the number of hidden nodes and the learning rate that\n",
    "        # were passed into this initializer. Make the same number of input nodes as\n",
    "        # there are vocabulary words and create a single output node.\n",
    "        self.init_network(len(self.review_vocab), hidden_nodes, 1, learning_rate)\n",
    "\n",
    "    def pre_process_data(self, reviews, labels):\n",
    "        '''\n",
    "        Creates the review and label vocabs\n",
    "        \n",
    "        :param reviews: list of reviews (strings)\n",
    "        :param labels: list of reviews' corresponding labels (strings, i.e: 'POSITIVE')\n",
    "        '''\n",
    "        \n",
    "        review_vocab = set(' '.join(reviews).split(' '))\n",
    "        \n",
    "        # Convert the vocabulary set to a list so we can access words via indices\n",
    "        self.review_vocab = list(review_vocab)\n",
    "        \n",
    "        label_vocab = set(' '.join(labels).split(' '))\n",
    "        \n",
    "        # Convert the label vocabulary set to a list so we can access labels via indices\n",
    "        self.label_vocab = list(label_vocab)\n",
    "        \n",
    "        # Store the sizes of the review and label vocabularies.\n",
    "        self.review_vocab_size = len(self.review_vocab)\n",
    "        self.label_vocab_size = len(self.label_vocab)\n",
    "        \n",
    "        # Create a dictionary of words in the vocabulary mapped to index positions\n",
    "        self.word2index = {word: i for i, word in enumerate(self.review_vocab)}\n",
    "        \n",
    "        # Create a dictionary of labels mapped to index positions\n",
    "        self.label2index = {label: i for i, label in enumerate(self.label_vocab)}       \n",
    "        \n",
    "    def init_network(self, input_nodes, hidden_nodes, output_nodes, learning_rate):\n",
    "        '''\n",
    "        :param input_nodes int:\n",
    "        :param hidden_nodes int:\n",
    "        :param output_nodes int:\n",
    "        :param learning_rate float:\n",
    "        '''\n",
    "        # Store the number of nodes in input, hidden, and output layers.\n",
    "        self.input_nodes = input_nodes    # Aka ni in comments\n",
    "        self.hidden_nodes = hidden_nodes  # Aka nh in comments\n",
    "        self.output_nodes = output_nodes  # Aka no in comments\n",
    "\n",
    "        # Store the learning rate\n",
    "        self.learning_rate = learning_rate\n",
    "\n",
    "        # Initialize weights\n",
    "        \n",
    "        self.weights_0_1 = np.zeros((input_nodes, hidden_nodes))\n",
    "        \n",
    "        # initialize self.weights_1_2 as a matrix of random values. \n",
    "        #       These are the weights between the hidden layer and the output layer.\n",
    "        # self.weights_1_2 = np.random.rand(hidden_nodes, output_nodes)\n",
    "        self.weights_1_2 = np.random.normal(0.0, hidden_nodes**-0.5, (hidden_nodes, output_nodes))\n",
    "        \n",
    "        # Create the input layer, a two-dimensional matrix with shape \n",
    "        # 1 x input_nodes, with all values initialized to zero\n",
    "        self.layer_0 = np.zeros((1, input_nodes))        \n",
    "        \n",
    "   \n",
    "    def update_input_layer(self, review):\n",
    "        '''\n",
    "        Sets the input layer as a row matrix (1 x size(vocab)) of counters (including zeros)\n",
    "        \n",
    "        :param review: string\n",
    "        '''\n",
    "        \n",
    "        words_counter = Counter(review.split(' '))\n",
    "        \"\"\"Like {'pero': 4, 'de': 3, 'nuevo': 2}, does not have zeroes\"\"\"\n",
    "        \n",
    "        # self.layer_0[0] = np.array([words_counter[word] for word in self.review_vocab])\n",
    "        self.layer_0[0] = np.array([int(words_counter[word] > 0) for word in self.review_vocab])            \n",
    "                \n",
    "    def get_target_for_label(self, label):\n",
    "        '''\n",
    "        :return: A numeric representation of the label (1=POSITIVE, 0=NEGATIVE)\n",
    "        '''\n",
    "        \n",
    "        return int(label == 'POSITIVE')\n",
    "        \n",
    "    def sigmoid(self, x):\n",
    "        return 1 / (1 + np.exp(-x))\n",
    "    \n",
    "    def sigmoid_output_2_derivative(self, output):\n",
    "        '''\n",
    "        Return the derivative of the sigmoid activation function, \n",
    "        where \"output\" is the original output from the sigmoid function \n",
    "        '''\n",
    "        return output * (1 - output)\n",
    "    \n",
    "    def identity(self, x):\n",
    "        return x\n",
    "    \n",
    "    def identity_output_2_derivative(self, output):\n",
    "        '''\n",
    "        Because we're using identity as activation function in hidden layer\n",
    "        '''\n",
    "        return 1  # Derivative of identity function is 1\n",
    "\n",
    "    def train(self, training_reviews, training_labels):\n",
    "        \n",
    "        # make sure out we have a matching number of reviews and labels\n",
    "        assert(len(training_reviews) == len(training_labels))\n",
    "        \n",
    "        # Keep track of correct predictions to display accuracy during training \n",
    "        correct_so_far = 0\n",
    "        \n",
    "        # Remember when we started for printing time statistics\n",
    "        start = time.time()\n",
    "\n",
    "        # loop through all the given reviews and run a forward and backward pass,\n",
    "        # updating weights for every item\n",
    "        for i, (review, label) in enumerate(zip(training_reviews, training_labels)):\n",
    "            \n",
    "            # TODO: Get the next review and its correct label\n",
    "            self.update_input_layer(review)\n",
    "            target = np.array([[get_target_for_label(label)]])\n",
    "            \"\"\"s(1, no)\"\"\"\n",
    "            \n",
    "            # Forward pass through the network. \n",
    "            # Do not use an activation function for the hidden layer,\n",
    "            # but use the sigmoid activation function for the output layer.\n",
    "            \n",
    "            layer_1_input = np.dot(self.layer_0, self.weights_0_1)\n",
    "            \"\"\"s(1, nh) = (1, ni) x (ni, nh)\"\"\"\n",
    "            \n",
    "            layer_1_output = self.identity(layer_1_input)  # Because it's instructing not to use activation (to remove non-linearity)\n",
    "            \n",
    "            layer_2_input = np.dot(layer_1_output, self.weights_1_2)\n",
    "            \"\"\"s(1, no) = (1, nh) x (nh, no)\"\"\" \n",
    "            \n",
    "            layer_2_output = self.sigmoid(layer_2_input)\n",
    "            # s(1, no) = (1, 1)\n",
    "            \n",
    "            output = layer_2_output  # Just convenience alias                        \n",
    "            \n",
    "            # Back propagation pass here.            \n",
    "            error = target - output\n",
    "            \"\"\"s(1, no)\"\"\"\n",
    "                      \n",
    "            output_error_term = error * self.sigmoid_output_2_derivative(output)\n",
    "            \"\"\"s(1, no)\"\"\"                        \n",
    "            \n",
    "            layer_1_error_term = np.dot(output_error_term, self.weights_1_2.T) * self.identity_output_2_derivative(layer_1_output)\n",
    "            \"\"\"s(1, nh) = (1, no) x (no, nh) \n",
    "            Identity derivative is 1 but put to be more explicit\n",
    "            \"\"\"\n",
    "            \n",
    "            D_1_2 = np.dot(layer_1_output.T, output_error_term) / 1\n",
    "            \"\"\"s(nh, no) = (nh, 1) x (1, no)\"\"\"\n",
    "            \n",
    "            D_0_1 = np.dot(self.layer_0.T, layer_1_error_term) / 1\n",
    "            \"\"\"s(ni, nh) = (ni, 1) x (1, nh)\"\"\"\n",
    "            \n",
    "            self.weights_1_2 += self.learning_rate * D_1_2\n",
    "            self.weights_0_1 += self.learning_rate * D_0_1\n",
    "            \n",
    "            # Keep track of correct predictions.\n",
    "            correct_so_far += abs(error[0][0]) < 0.5\n",
    "            \n",
    "            \n",
    "            # For debug purposes, print out our prediction accuracy and speed \n",
    "            # throughout the training process. \n",
    "\n",
    "            elapsed_time = float(time.time() - start)\n",
    "            reviews_per_second = i / elapsed_time if elapsed_time > 0 else 0\n",
    "            \n",
    "            sys.stdout.write(\"\\rProgress:\" + str(100 * i/float(len(training_reviews)))[:4] \\\n",
    "                             + \"% Speed(reviews/sec):\" + str(reviews_per_second)[0:5] \\\n",
    "                             + \" #Correct:\" + str(correct_so_far) + \" #Trained:\" + str(i+1) \\\n",
    "                             + \" Training Accuracy:\" + str(correct_so_far * 100 / float(i+1))[:4] + \"%\")\n",
    "                             \n",
    "            if(i % 2500 == 0):\n",
    "                print(\"\")           \n",
    "    \n",
    "    def test(self, testing_reviews, testing_labels):\n",
    "        \"\"\"\n",
    "        Attempts to predict the labels for the given testing_reviews,\n",
    "        and uses the test_labels to calculate the accuracy of those predictions.\n",
    "        \"\"\"\n",
    "        \n",
    "        # keep track of how many correct predictions we make\n",
    "        correct = 0\n",
    "\n",
    "        # we'll time how many predictions per second we make\n",
    "        start = time.time()\n",
    "\n",
    "        # Loop through each of the given reviews and call run to predict\n",
    "        # its label. \n",
    "        for i in range(len(testing_reviews)):\n",
    "            pred = self.run(testing_reviews[i])\n",
    "            if(pred == testing_labels[i]):\n",
    "                correct += 1\n",
    "            \n",
    "            # For debug purposes, print out our prediction accuracy and speed \n",
    "            # throughout the prediction process. \n",
    "\n",
    "            elapsed_time = float(time.time() - start)\n",
    "            reviews_per_second = i / elapsed_time if elapsed_time > 0 else 0\n",
    "            \n",
    "            sys.stdout.write(\"\\rProgress:\" + str(100 * i/float(len(testing_reviews)))[:4] \\\n",
    "                             + \"% Speed(reviews/sec):\" + str(reviews_per_second)[0:5] \\\n",
    "                             + \" #Correct:\" + str(correct) + \" #Tested:\" + str(i+1) \\\n",
    "                             + \" Testing Accuracy:\" + str(correct * 100 / float(i+1))[:4] + \"%\")\n",
    "    \n",
    "    def run(self, review):\n",
    "        \"\"\"\n",
    "        Returns a POSITIVE or NEGATIVE prediction for the given review.\n",
    "        \"\"\"\n",
    "        # Run a forward pass through the network, like you did in the\"train\" function.         \n",
    "        #       Note: The review passed into this function for prediction \n",
    "        #             might come from anywhere, so you should convert it \n",
    "        #             to lower case prior to using it.\n",
    "        self.update_input_layer(review.lower())\n",
    "                \n",
    "        layer_1_output = np.dot(self.layer_0, self.weights_0_1) # Does not have activation        \n",
    "        ''' s(1, n_hidden) '''\n",
    "        layer_2_output = self.sigmoid(np.dot(layer_1_output, self.weights_1_2))\n",
    "        ''' s(1, 1)'''\n",
    "        output = layer_2_output[0][0]\n",
    "        \n",
    "        # The output layer should now contain a prediction. \n",
    "        # Return `POSITIVE` for predictions greater-than-or-equal-to `0.5`, \n",
    "        # and `NEGATIVE` otherwise.\n",
    "        return 'POSITIVE' if output >= 0.5 else 'NEGATIVE'\n"
   ]
  },
  {
   "cell_type": "markdown",
   "metadata": {},
   "source": [
    "Run the following cell to recreate the network and train it. Notice we've gone back to the higher learning rate of `0.1`."
   ]
  },
  {
   "cell_type": "code",
   "execution_count": 83,
   "metadata": {
    "tags": []
   },
   "outputs": [
    {
     "name": "stdout",
     "output_type": "stream",
     "text": [
      "Progress:0.0% Speed(reviews/sec):0.0 #Correct:0 #Trained:1 Training Accuracy:0.0%\n",
      "Progress:10.4% Speed(reviews/sec):13.53 #Correct:1948 #Trained:2501 Training Accuracy:77.8%\n",
      "Progress:20.8% Speed(reviews/sec):13.24 #Correct:3993 #Trained:5001 Training Accuracy:79.8%\n",
      "Progress:31.2% Speed(reviews/sec):12.99 #Correct:6120 #Trained:7501 Training Accuracy:81.5%\n",
      "Progress:41.6% Speed(reviews/sec):12.57 #Correct:8277 #Trained:10001 Training Accuracy:82.7%\n",
      "Progress:52.0% Speed(reviews/sec):12.42 #Correct:10438 #Trained:12501 Training Accuracy:83.4%\n",
      "Progress:62.5% Speed(reviews/sec):12.36 #Correct:12579 #Trained:15001 Training Accuracy:83.8%\n",
      "Progress:72.9% Speed(reviews/sec):12.38 #Correct:14693 #Trained:17501 Training Accuracy:83.9%\n",
      "Progress:83.3% Speed(reviews/sec):12.40 #Correct:16867 #Trained:20001 Training Accuracy:84.3%\n",
      "Progress:93.7% Speed(reviews/sec):12.40 #Correct:19054 #Trained:22501 Training Accuracy:84.6%\n",
      "Progress:99.9% Speed(reviews/sec):12.43 #Correct:20374 #Trained:24000 Training Accuracy:84.8%"
     ]
    }
   ],
   "source": [
    "mlp = SentimentNetwork(reviews[:-1000],labels[:-1000], learning_rate=0.1)\n",
    "mlp.train(reviews[:-1000],labels[:-1000])"
   ]
  },
  {
   "cell_type": "markdown",
   "metadata": {},
   "source": [
    "That should have trained much better than the earlier attempts. It's still not wonderful, but it should have improved dramatically. Run the following cell to test your model with 1000 predictions."
   ]
  },
  {
   "cell_type": "code",
   "execution_count": 84,
   "metadata": {
    "tags": []
   },
   "outputs": [
    {
     "name": "stdout",
     "output_type": "stream",
     "text": [
      "Progress:99.9% Speed(reviews/sec):15.22 #Correct:860 #Tested:1000 Testing Accuracy:86.0%"
     ]
    }
   ],
   "source": [
    "mlp.test(reviews[-1000:],labels[-1000:])"
   ]
  },
  {
   "cell_type": "markdown",
   "metadata": {},
   "source": [
    "# End of Project 4. \n",
    "## Andrew's solution was actually in the previous video, so rewatch that video if you had any problems with that project. Then continue on to the next lesson.\n",
    "# Analyzing Inefficiencies in our Network<a id='lesson_5'></a>\n",
    "The following cells include the code Andrew shows in the next video. We've included it here so you can run the cells along with the video without having to type in everything."
   ]
  },
  {
   "cell_type": "code",
   "execution_count": 5,
   "metadata": {
    "tags": []
   },
   "outputs": [
    {
     "data": {
      "image/png": "[encoded data removed]",
      "text/plain": [
       "<IPython.core.display.Image object>"
      ]
     },
     "execution_count": 5,
     "metadata": {},
     "output_type": "execute_result"
    }
   ],
   "source": [
    "Image(filename='sentiment_network_sparse.png')"
   ]
  },
  {
   "cell_type": "code",
   "execution_count": 6,
   "metadata": {
    "tags": []
   },
   "outputs": [],
   "source": [
    "layer_0 = np.zeros(10)"
   ]
  },
  {
   "cell_type": "code",
   "execution_count": 7,
   "metadata": {
    "tags": []
   },
   "outputs": [
    {
     "data": {
      "text/plain": [
       "array([0., 0., 0., 0., 0., 0., 0., 0., 0., 0.])"
      ]
     },
     "execution_count": 7,
     "metadata": {},
     "output_type": "execute_result"
    }
   ],
   "source": [
    "layer_0"
   ]
  },
  {
   "cell_type": "code",
   "execution_count": 8,
   "metadata": {
    "tags": []
   },
   "outputs": [],
   "source": [
    "layer_0[4] = 1\n",
    "layer_0[9] = 1"
   ]
  },
  {
   "cell_type": "code",
   "execution_count": 9,
   "metadata": {
    "tags": []
   },
   "outputs": [
    {
     "data": {
      "text/plain": [
       "array([0., 0., 0., 0., 1., 0., 0., 0., 0., 1.])"
      ]
     },
     "execution_count": 9,
     "metadata": {},
     "output_type": "execute_result"
    }
   ],
   "source": [
    "layer_0"
   ]
  },
  {
   "cell_type": "code",
   "execution_count": 10,
   "metadata": {
    "tags": []
   },
   "outputs": [],
   "source": [
    "weights_0_1 = np.random.randn(10,5)"
   ]
  },
  {
   "cell_type": "code",
   "execution_count": 11,
   "metadata": {
    "tags": []
   },
   "outputs": [
    {
     "data": {
      "text/plain": [
       "array([ 0.12482628, -0.24905652,  1.88033758,  4.10609929,  0.16834331])"
      ]
     },
     "execution_count": 11,
     "metadata": {},
     "output_type": "execute_result"
    }
   ],
   "source": [
    "layer_0.dot(weights_0_1)"
   ]
  },
  {
   "cell_type": "code",
   "execution_count": 12,
   "metadata": {
    "tags": []
   },
   "outputs": [],
   "source": [
    "indices = [4,9]"
   ]
  },
  {
   "cell_type": "code",
   "execution_count": 13,
   "metadata": {
    "tags": []
   },
   "outputs": [],
   "source": [
    "layer_1 = np.zeros(5)"
   ]
  },
  {
   "cell_type": "code",
   "execution_count": 14,
   "metadata": {
    "tags": []
   },
   "outputs": [],
   "source": [
    "for index in indices:\n",
    "    layer_1 += (1 * weights_0_1[index])"
   ]
  },
  {
   "cell_type": "code",
   "execution_count": 15,
   "metadata": {
    "tags": []
   },
   "outputs": [
    {
     "data": {
      "text/plain": [
       "array([ 0.12482628, -0.24905652,  1.88033758,  4.10609929,  0.16834331])"
      ]
     },
     "execution_count": 15,
     "metadata": {},
     "output_type": "execute_result"
    }
   ],
   "source": [
    "layer_1"
   ]
  },
  {
   "cell_type": "code",
   "execution_count": 16,
   "metadata": {
    "tags": []
   },
   "outputs": [
    {
     "data": {
      "image/png": "[encoded data removed]",
      "text/plain": [
       "<IPython.core.display.Image object>"
      ]
     },
     "execution_count": 16,
     "metadata": {},
     "output_type": "execute_result"
    }
   ],
   "source": [
    "Image(filename='sentiment_network_sparse_2.png')"
   ]
  },
  {
   "cell_type": "code",
   "execution_count": 17,
   "metadata": {
    "tags": []
   },
   "outputs": [],
   "source": [
    "layer_1 = np.zeros(5)"
   ]
  },
  {
   "cell_type": "code",
   "execution_count": 18,
   "metadata": {
    "tags": []
   },
   "outputs": [],
   "source": [
    "for index in indices:\n",
    "    layer_1 += (weights_0_1[index])"
   ]
  },
  {
   "cell_type": "code",
   "execution_count": 19,
   "metadata": {
    "tags": []
   },
   "outputs": [
    {
     "data": {
      "text/plain": [
       "array([ 0.12482628, -0.24905652,  1.88033758,  4.10609929,  0.16834331])"
      ]
     },
     "execution_count": 19,
     "metadata": {},
     "output_type": "execute_result"
    }
   ],
   "source": [
    "layer_1"
   ]
  },
  {
   "cell_type": "markdown",
   "metadata": {},
   "source": [
    "# Project 5: Making our Network More Efficient<a id='project_5'></a>\n",
    "**TODO:** Make the `SentimentNetwork` class more efficient by eliminating unnecessary multiplications and additions that occur during forward and backward propagation. To do that, you can do the following:\n",
    "* Copy the `SentimentNetwork` class from the previous project into the following cell.\n",
    "* Remove the `update_input_layer` function - you will not need it in this version.\n",
    "* Modify `init_network`:\n",
    ">* You no longer need a separate input layer, so remove any mention of `self.layer_0`\n",
    ">* You will be dealing with the old hidden layer more directly, so create `self.layer_1`, a two-dimensional matrix with shape 1 x hidden_nodes, with all values initialized to zero\n",
    "* Modify `train`:\n",
    ">* Change the name of the input parameter `training_reviews` to `training_reviews_raw`. This will help with the next step.\n",
    ">* At the beginning of the function, you'll want to preprocess your reviews to convert them to a list of indices (from `word2index`) that are actually used in the review. This is equivalent to what you saw in the video when Andrew set specific indices to 1. Your code should create a local `list` variable named `training_reviews` that should contain a `list` for each review in `training_reviews_raw`. Those lists should contain the indices for words found in the review.\n",
    ">* Remove call to `update_input_layer`\n",
    ">* Use `self`'s  `layer_1` instead of a local `layer_1` object.\n",
    ">* In the forward pass, replace the code that updates `layer_1` with new logic that only adds the weights for the indices used in the review.\n",
    ">* When updating `weights_0_1`, only update the individual weights that were used in the forward pass.\n",
    "* Modify `run`:\n",
    ">* Remove call to `update_input_layer` \n",
    ">* Use `self`'s  `layer_1` instead of a local `layer_1` object.\n",
    ">* Much like you did in `train`, you will need to pre-process the `review` so you can work with word indices, then update `layer_1` by adding weights for the indices used in the review."
   ]
  },
  {
   "cell_type": "code",
   "execution_count": 100,
   "metadata": {
    "tags": []
   },
   "outputs": [],
   "source": [
    "# TODO: -Copy the SentimentNetwork class from Project 4 lesson\n",
    "#       -Modify it according to the above instructions \n",
    "\n",
    "# TODO: -Copy the SentimentNetwork class from Projet 3 lesson\n",
    "#       -Modify it to reduce noise, like in the video \n",
    "\n",
    "import time\n",
    "import sys\n",
    "import numpy as np\n",
    "\n",
    "# Encapsulate our neural network in a class\n",
    "class SentimentNetwork:\n",
    "    def __init__(self, reviews, labels, hidden_nodes = 10, learning_rate = 0.1):\n",
    "        \"\"\"Create a SentimenNetwork with the given settings\n",
    "        Args:\n",
    "            reviews(list) - List of reviews used for training\n",
    "            labels(list) - List of POSITIVE/NEGATIVE labels associated with the given reviews\n",
    "            hidden_nodes(int) - Number of nodes to create in the hidden layer\n",
    "            learning_rate(float) - Learning rate to use while training\n",
    "        \n",
    "        \"\"\"\n",
    "        # Assign a seed to our random number generator to ensure we get\n",
    "        # reproducable results during development \n",
    "        np.random.seed(1)\n",
    "\n",
    "        # process the reviews and their associated labels so that everything\n",
    "        # is ready for training\n",
    "        self.pre_process_data(reviews, labels)\n",
    "        \n",
    "        # Build the network to have the number of hidden nodes and the learning rate that\n",
    "        # were passed into this initializer. Make the same number of input nodes as\n",
    "        # there are vocabulary words and create a single output node.\n",
    "        self.init_network(len(self.review_vocab), hidden_nodes, 1, learning_rate)\n",
    "\n",
    "    def pre_process_data(self, reviews, labels):\n",
    "        '''\n",
    "        Creates the review and label vocabs\n",
    "        \n",
    "        :param reviews: list of reviews (strings)\n",
    "        :param labels: list of reviews' corresponding labels (strings, i.e: 'POSITIVE')\n",
    "        '''\n",
    "        \n",
    "        review_vocab = set(' '.join(reviews).split(' '))\n",
    "        \n",
    "        # Convert the vocabulary set to a list so we can access words via indices\n",
    "        self.review_vocab = list(review_vocab)\n",
    "        \n",
    "        label_vocab = set(' '.join(labels).split(' '))\n",
    "        \n",
    "        # Convert the label vocabulary set to a list so we can access labels via indices\n",
    "        self.label_vocab = list(label_vocab)\n",
    "        \n",
    "        # Store the sizes of the review and label vocabularies.\n",
    "        self.review_vocab_size = len(self.review_vocab)\n",
    "        self.label_vocab_size = len(self.label_vocab)\n",
    "        \n",
    "        # Create a dictionary of words in the vocabulary mapped to index positions\n",
    "        self.word2index = {word: i for i, word in enumerate(self.review_vocab)}\n",
    "        \n",
    "        # Create a dictionary of labels mapped to index positions\n",
    "        self.label2index = {label: i for i, label in enumerate(self.label_vocab)}       \n",
    "        \n",
    "    def init_network(self, input_nodes, hidden_nodes, output_nodes, learning_rate):\n",
    "        '''\n",
    "        :param input_nodes int:\n",
    "        :param hidden_nodes int:\n",
    "        :param output_nodes int:\n",
    "        :param learning_rate float:\n",
    "        '''\n",
    "        # Store the number of nodes in input, hidden, and output layers.\n",
    "        self.input_nodes = input_nodes    # Aka ni in comments\n",
    "        self.hidden_nodes = hidden_nodes  # Aka nh in comments\n",
    "        self.output_nodes = output_nodes  # Aka no in comments\n",
    "\n",
    "        # Store the learning rate\n",
    "        self.learning_rate = learning_rate\n",
    "\n",
    "        # Initialize weights\n",
    "        \n",
    "        self.weights_0_1 = np.zeros((input_nodes, hidden_nodes))\n",
    "        \n",
    "        # initialize self.weights_1_2 as a matrix of random values. \n",
    "        #       These are the weights between the hidden layer and the output layer.\n",
    "        # self.weights_1_2 = np.random.rand(hidden_nodes, output_nodes)\n",
    "        self.weights_1_2 = np.random.normal(0.0, hidden_nodes**-0.5, (hidden_nodes, output_nodes))\n",
    "        \n",
    "        # Create the input layer, a two-dimensional matrix with shape \n",
    "        # 1 x input_nodes, with all values initialized to zero\n",
    "        # self.layer_0 = np.zeros((1, input_nodes))                                 \n",
    "        # self.layer_1 = np.zeros((1, hidden_nodes))                                 \n",
    "                \n",
    "    def get_target_for_label(self, label):\n",
    "        '''\n",
    "        :return: A numeric representation of the label (1=POSITIVE, 0=NEGATIVE)\n",
    "        '''\n",
    "        \n",
    "        return int(label == 'POSITIVE')\n",
    "        \n",
    "    def sigmoid(self, x):\n",
    "        return 1 / (1 + np.exp(-x))\n",
    "    \n",
    "    def sigmoid_output_2_derivative(self, output):\n",
    "        '''\n",
    "        Return the derivative of the sigmoid activation function, \n",
    "        where \"output\" is the original output from the sigmoid function \n",
    "        '''\n",
    "        return output * (1 - output)\n",
    "    \n",
    "    def identity(self, x):\n",
    "        return x\n",
    "    \n",
    "    def identity_output_2_derivative(self, output):\n",
    "        '''\n",
    "        Because we're using identity as activation function in hidden layer\n",
    "        '''\n",
    "        return 1  # Derivative of identity function is 1\n",
    "\n",
    "    def train(self, training_reviews, training_labels):\n",
    "        \n",
    "        # make sure out we have a matching number of reviews and labels\n",
    "        assert(len(training_reviews) == len(training_labels))                \n",
    "        \n",
    "        # Keep track of correct predictions to display accuracy during training \n",
    "        correct_so_far = 0\n",
    "        \n",
    "        # Remember when we started for printing time statistics\n",
    "        start = time.time()\n",
    "\n",
    "        # loop through all the given reviews and run a forward and backward pass,\n",
    "        # updating weights for every item\n",
    "        for i, (review, label) in enumerate(zip(training_reviews, training_labels)):\n",
    "            \n",
    "            # TODO: Get the next review and its correct label\n",
    "            # self.update_input_layer(review)\n",
    "            layer_0_indices = [self.word2index[word] for word in set(review.split(' ')) if word in self.word2index]            \n",
    "            \n",
    "            target = np.array([[self.get_target_for_label(label)]])\n",
    "            \"\"\"s(1, no)\"\"\"\n",
    "            \n",
    "            # Forward pass through the network. \n",
    "            # Do not use an activation function for the hidden layer,\n",
    "            # but use the sigmoid activation function for the output layer.\n",
    "            \n",
    "            # Commenting following line to implement the optimized matrix multiplication\n",
    "            #layer_1_input = np.dot(self.layer_0, self.weights_0_1)\n",
    "            # Optimized matrix mul\n",
    "            layer_1_input = np.zeros((1, self.hidden_nodes))\n",
    "            for index in layer_0_indices:\n",
    "                layer_1_input += self.weights_0_1[index]\n",
    "            \"\"\"s(1, nh) = (1, ni) x (ni, nh)\"\"\"\n",
    "            \n",
    "            layer_1_output = self.identity(layer_1_input)  # Because it's instructing not to use activation (to remove non-linearity)\n",
    "            \n",
    "            layer_2_input = np.dot(layer_1_output, self.weights_1_2)\n",
    "            \"\"\"s(1, no) = (1, nh) x (nh, no)\"\"\" \n",
    "            \n",
    "            layer_2_output = self.sigmoid(layer_2_input)\n",
    "            # s(1, no) = (1, 1)\n",
    "            \n",
    "            output = layer_2_output  # Just convenience alias                        \n",
    "            \n",
    "            # Back propagation pass here.            \n",
    "            error = target - output\n",
    "            \"\"\"s(1, no)\"\"\"\n",
    "                      \n",
    "            output_error_term = error * self.sigmoid_output_2_derivative(output)\n",
    "            \"\"\"s(1, no)\"\"\"                        \n",
    "            \n",
    "            layer_1_error_term = np.dot(output_error_term, self.weights_1_2.T) * self.identity_output_2_derivative(layer_1_output)\n",
    "            \"\"\"s(1, nh) = (1, no) x (no, nh) \n",
    "            Identity derivative is 1 but put to be more explicit\n",
    "            \"\"\"\n",
    "            \n",
    "            D_1_2 = np.dot(layer_1_output.T, output_error_term) / 1\n",
    "            \"\"\"s(nh, no) = (nh, 1) x (1, no)\"\"\"\n",
    "            \n",
    "            # Commenting following lines to implement the optimized weight update\n",
    "            # D_0_1 = np.dot(self.layer_0.T, layer_1_error_term) / 1            \n",
    "            \"\"\"s(ni, nh) = (ni, 1) x (1, nh)\"\"\"\n",
    "            # self.weights_0_1 += self.learning_rate * D_0_1\n",
    "            \n",
    "            self.weights_1_2 += self.learning_rate * D_1_2\n",
    "            \n",
    "            # optimized weight update\n",
    "            for index in layer_0_indices:\n",
    "                self.weights_0_1[index] += self.learning_rate * layer_1_error_term[0]\n",
    "            \n",
    "            # Keep track of correct predictions.\n",
    "            correct_so_far += abs(error[0][0]) < 0.5\n",
    "            \n",
    "            \n",
    "            # For debug purposes, print out our prediction accuracy and speed \n",
    "            # throughout the training process. \n",
    "\n",
    "            elapsed_time = float(time.time() - start)\n",
    "            reviews_per_second = i / elapsed_time if elapsed_time > 0 else 0\n",
    "            \n",
    "            sys.stdout.write(\"\\rProgress:\" + str(100 * i/float(len(training_reviews)))[:4] \\\n",
    "                             + \"% Speed(reviews/sec):\" + str(reviews_per_second)[0:5] \\\n",
    "                             + \" #Correct:\" + str(correct_so_far) + \" #Trained:\" + str(i+1) \\\n",
    "                             + \" Training Accuracy:\" + str(correct_so_far * 100 / float(i+1))[:4] + \"%\")\n",
    "                             \n",
    "            if(i % 2500 == 0):\n",
    "                print(\"\")           \n",
    "    \n",
    "    def test(self, testing_reviews, testing_labels):\n",
    "        \"\"\"\n",
    "        Attempts to predict the labels for the given testing_reviews,\n",
    "        and uses the test_labels to calculate the accuracy of those predictions.\n",
    "        \"\"\"\n",
    "        \n",
    "        # keep track of how many correct predictions we make\n",
    "        correct = 0\n",
    "\n",
    "        # we'll time how many predictions per second we make\n",
    "        start = time.time()\n",
    "\n",
    "        # Loop through each of the given reviews and call run to predict\n",
    "        # its label. \n",
    "        for i in range(len(testing_reviews)):\n",
    "            pred = self.run(testing_reviews[i])\n",
    "            if(pred == testing_labels[i]):\n",
    "                correct += 1\n",
    "            \n",
    "            # For debug purposes, print out our prediction accuracy and speed \n",
    "            # throughout the prediction process. \n",
    "\n",
    "            elapsed_time = float(time.time() - start)\n",
    "            reviews_per_second = i / elapsed_time if elapsed_time > 0 else 0\n",
    "            \n",
    "            sys.stdout.write(\"\\rProgress:\" + str(100 * i/float(len(testing_reviews)))[:4] \\\n",
    "                             + \"% Speed(reviews/sec):\" + str(reviews_per_second)[0:5] \\\n",
    "                             + \" #Correct:\" + str(correct) + \" #Tested:\" + str(i+1) \\\n",
    "                             + \" Testing Accuracy:\" + str(correct * 100 / float(i+1))[:4] + \"%\")\n",
    "    \n",
    "    def run(self, review):\n",
    "        \"\"\"\n",
    "        Returns a POSITIVE or NEGATIVE prediction for the given review.\n",
    "        \"\"\"\n",
    "        # Run a forward pass through the network, like you did in the\"train\" function.         \n",
    "        #       Note: The review passed into this function for prediction \n",
    "        #             might come from anywhere, so you should convert it \n",
    "        #             to lower case prior to using it.\n",
    "        # self.update_input_layer(review.lower())        \n",
    "        \n",
    "        # layer_1_output = np.dot(self.layer_0, self.weights_0_1) # Does not have activation\n",
    "        # optimized version\n",
    "        layer_0_indices = [self.word2index[word] for word in set(review.lower().split(' ')) if word in self.word2index]        \n",
    "        layer_1_input = np.zeros((1, self.hidden_nodes))\n",
    "        for index in layer_0_indices:\n",
    "            layer_1_input += self.weights_0_1[index]\n",
    "        layer_1_output = self.identity(layer_1_input)\n",
    "            \n",
    "        ''' s(1, n_hidden) '''\n",
    "        layer_2_output = self.sigmoid(np.dot(layer_1_output, self.weights_1_2))\n",
    "        ''' s(1, 1)'''\n",
    "        output = layer_2_output[0][0]\n",
    "        \n",
    "        # The output layer should now contain a prediction. \n",
    "        # Return `POSITIVE` for predictions greater-than-or-equal-to `0.5`, \n",
    "        # and `NEGATIVE` otherwise.\n",
    "        return 'POSITIVE' if output >= 0.5 else 'NEGATIVE'\n"
   ]
  },
  {
   "cell_type": "markdown",
   "metadata": {},
   "source": [
    "Run the following cell to recreate the network and train it once again."
   ]
  },
  {
   "cell_type": "code",
   "execution_count": 101,
   "metadata": {
    "tags": []
   },
   "outputs": [
    {
     "name": "stdout",
     "output_type": "stream",
     "text": [
      "Progress:0.0% Speed(reviews/sec):0.0 #Correct:0 #Trained:1 Training Accuracy:0.0%\n",
      "Progress:10.4% Speed(reviews/sec):759.0 #Correct:1948 #Trained:2501 Training Accuracy:77.8%\n",
      "Progress:20.8% Speed(reviews/sec):750.1 #Correct:3993 #Trained:5001 Training Accuracy:79.8%\n",
      "Progress:31.2% Speed(reviews/sec):752.2 #Correct:6120 #Trained:7501 Training Accuracy:81.5%\n",
      "Progress:41.6% Speed(reviews/sec):753.2 #Correct:8277 #Trained:10001 Training Accuracy:82.7%\n",
      "Progress:52.0% Speed(reviews/sec):752.7 #Correct:10438 #Trained:12501 Training Accuracy:83.4%\n",
      "Progress:62.5% Speed(reviews/sec):744.5 #Correct:12579 #Trained:15001 Training Accuracy:83.8%\n",
      "Progress:72.9% Speed(reviews/sec):744.8 #Correct:14693 #Trained:17501 Training Accuracy:83.9%\n",
      "Progress:83.3% Speed(reviews/sec):736.5 #Correct:16867 #Trained:20001 Training Accuracy:84.3%\n",
      "Progress:93.7% Speed(reviews/sec):732.0 #Correct:19054 #Trained:22501 Training Accuracy:84.6%\n",
      "Progress:99.9% Speed(reviews/sec):729.3 #Correct:20374 #Trained:24000 Training Accuracy:84.8%"
     ]
    }
   ],
   "source": [
    "mlp = SentimentNetwork(reviews[:-1000],labels[:-1000], learning_rate=0.1)\n",
    "mlp.train(reviews[:-1000],labels[:-1000])"
   ]
  },
  {
   "cell_type": "markdown",
   "metadata": {},
   "source": [
    "That should have trained much better than the earlier attempts. Run the following cell to test your model with 1000 predictions."
   ]
  },
  {
   "cell_type": "code",
   "execution_count": 102,
   "metadata": {
    "tags": []
   },
   "outputs": [
    {
     "name": "stdout",
     "output_type": "stream",
     "text": [
      "Progress:99.9% Speed(reviews/sec):1506. #Correct:860 #Tested:1000 Testing Accuracy:86.0%"
     ]
    }
   ],
   "source": [
    "mlp.test(reviews[-1000:],labels[-1000:])"
   ]
  },
  {
   "cell_type": "code",
   "execution_count": 104,
   "metadata": {},
   "outputs": [
    {
     "name": "stdout",
     "output_type": "stream",
     "text": [
      "Progress:0.0% Speed(reviews/sec):0.0 #Correct:0 #Trained:1 Training Accuracy:0.0%\n",
      "Progress:10.4% Speed(reviews/sec):765.7 #Correct:1948 #Trained:2501 Training Accuracy:77.8%\n",
      "Progress:20.8% Speed(reviews/sec):755.7 #Correct:3993 #Trained:5001 Training Accuracy:79.8%\n",
      "Progress:31.2% Speed(reviews/sec):737.3 #Correct:6120 #Trained:7501 Training Accuracy:81.5%\n",
      "Progress:41.6% Speed(reviews/sec):729.1 #Correct:8277 #Trained:10001 Training Accuracy:82.7%\n",
      "Progress:52.0% Speed(reviews/sec):728.9 #Correct:10438 #Trained:12501 Training Accuracy:83.4%\n",
      "Progress:62.5% Speed(reviews/sec):728.0 #Correct:12579 #Trained:15001 Training Accuracy:83.8%\n",
      "Progress:72.9% Speed(reviews/sec):726.8 #Correct:14693 #Trained:17501 Training Accuracy:83.9%\n",
      "Progress:83.3% Speed(reviews/sec):727.2 #Correct:16867 #Trained:20001 Training Accuracy:84.3%\n",
      "Progress:93.7% Speed(reviews/sec):724.2 #Correct:19054 #Trained:22501 Training Accuracy:84.6%\n",
      "Progress:0.0% Speed(reviews/sec):0.0 #Correct:1 #Trained:1 Training Accuracy:100.%uracy:84.8%\n",
      "Progress:10.4% Speed(reviews/sec):737.0 #Correct:2285 #Trained:2501 Training Accuracy:91.3%\n",
      "Progress:20.8% Speed(reviews/sec):712.2 #Correct:4552 #Trained:5001 Training Accuracy:91.0%\n",
      "Progress:31.2% Speed(reviews/sec):720.8 #Correct:6812 #Trained:7501 Training Accuracy:90.8%\n",
      "Progress:41.6% Speed(reviews/sec):716.3 #Correct:9093 #Trained:10001 Training Accuracy:90.9%\n",
      "Progress:52.0% Speed(reviews/sec):707.6 #Correct:11349 #Trained:12501 Training Accuracy:90.7%\n",
      "Progress:62.5% Speed(reviews/sec):711.5 #Correct:13617 #Trained:15001 Training Accuracy:90.7%\n",
      "Progress:72.9% Speed(reviews/sec):713.8 #Correct:15863 #Trained:17501 Training Accuracy:90.6%\n",
      "Progress:83.3% Speed(reviews/sec):710.0 #Correct:18151 #Trained:20001 Training Accuracy:90.7%\n",
      "Progress:93.7% Speed(reviews/sec):709.4 #Correct:20415 #Trained:22501 Training Accuracy:90.7%\n",
      "Progress:0.0% Speed(reviews/sec):0.0 #Correct:1 #Trained:1 Training Accuracy:100.%uracy:90.7%\n",
      "Progress:10.4% Speed(reviews/sec):751.8 #Correct:2341 #Trained:2501 Training Accuracy:93.6%\n",
      "Progress:20.8% Speed(reviews/sec):732.4 #Correct:4673 #Trained:5001 Training Accuracy:93.4%\n",
      "Progress:31.2% Speed(reviews/sec):735.6 #Correct:6989 #Trained:7501 Training Accuracy:93.1%\n",
      "Progress:41.6% Speed(reviews/sec):741.0 #Correct:9321 #Trained:10001 Training Accuracy:93.2%\n",
      "Progress:52.0% Speed(reviews/sec):739.2 #Correct:11638 #Trained:12501 Training Accuracy:93.0%\n",
      "Progress:62.5% Speed(reviews/sec):739.6 #Correct:13963 #Trained:15001 Training Accuracy:93.0%\n",
      "Progress:72.9% Speed(reviews/sec):736.3 #Correct:16255 #Trained:17501 Training Accuracy:92.8%\n",
      "Progress:83.3% Speed(reviews/sec):734.6 #Correct:18595 #Trained:20001 Training Accuracy:92.9%\n",
      "Progress:93.7% Speed(reviews/sec):733.3 #Correct:20915 #Trained:22501 Training Accuracy:92.9%\n",
      "Progress:0.0% Speed(reviews/sec):0.0 #Correct:1 #Trained:1 Training Accuracy:100.%uracy:92.9%\n",
      "Progress:10.4% Speed(reviews/sec):762.1 #Correct:2372 #Trained:2501 Training Accuracy:94.8%\n",
      "Progress:20.8% Speed(reviews/sec):718.7 #Correct:4738 #Trained:5001 Training Accuracy:94.7%\n",
      "Progress:31.2% Speed(reviews/sec):725.0 #Correct:7091 #Trained:7501 Training Accuracy:94.5%\n",
      "Progress:41.6% Speed(reviews/sec):734.4 #Correct:9442 #Trained:10001 Training Accuracy:94.4%\n",
      "Progress:52.0% Speed(reviews/sec):733.7 #Correct:11795 #Trained:12501 Training Accuracy:94.3%\n",
      "Progress:62.5% Speed(reviews/sec):736.1 #Correct:14147 #Trained:15001 Training Accuracy:94.3%\n",
      "Progress:72.9% Speed(reviews/sec):736.7 #Correct:16492 #Trained:17501 Training Accuracy:94.2%\n",
      "Progress:83.3% Speed(reviews/sec):736.5 #Correct:18843 #Trained:20001 Training Accuracy:94.2%\n",
      "Progress:93.7% Speed(reviews/sec):736.1 #Correct:21184 #Trained:22501 Training Accuracy:94.1%\n",
      "Progress:0.0% Speed(reviews/sec):0.0 #Correct:1 #Trained:1 Training Accuracy:100.%uracy:94.1%\n",
      "Progress:10.4% Speed(reviews/sec):747.4 #Correct:2392 #Trained:2501 Training Accuracy:95.6%\n",
      "Progress:20.8% Speed(reviews/sec):734.0 #Correct:4774 #Trained:5001 Training Accuracy:95.4%\n",
      "Progress:31.2% Speed(reviews/sec):738.3 #Correct:7147 #Trained:7501 Training Accuracy:95.2%\n",
      "Progress:41.6% Speed(reviews/sec):746.1 #Correct:9509 #Trained:10001 Training Accuracy:95.0%\n",
      "Progress:52.0% Speed(reviews/sec):746.0 #Correct:11885 #Trained:12501 Training Accuracy:95.0%\n",
      "Progress:62.5% Speed(reviews/sec):745.7 #Correct:14244 #Trained:15001 Training Accuracy:94.9%\n",
      "Progress:72.9% Speed(reviews/sec):745.4 #Correct:16594 #Trained:17501 Training Accuracy:94.8%\n",
      "Progress:83.3% Speed(reviews/sec):743.3 #Correct:18987 #Trained:20001 Training Accuracy:94.9%\n",
      "Progress:93.7% Speed(reviews/sec):743.1 #Correct:21338 #Trained:22501 Training Accuracy:94.8%\n",
      "Progress:0.0% Speed(reviews/sec):0.0 #Correct:1 #Trained:1 Training Accuracy:100.%uracy:94.7%\n",
      "Progress:10.4% Speed(reviews/sec):757.9 #Correct:2396 #Trained:2501 Training Accuracy:95.8%\n",
      "Progress:20.8% Speed(reviews/sec):747.8 #Correct:4781 #Trained:5001 Training Accuracy:95.6%\n",
      "Progress:31.2% Speed(reviews/sec):747.3 #Correct:7158 #Trained:7501 Training Accuracy:95.4%\n",
      "Progress:41.6% Speed(reviews/sec):749.1 #Correct:9555 #Trained:10001 Training Accuracy:95.5%\n",
      "Progress:52.0% Speed(reviews/sec):747.7 #Correct:11929 #Trained:12501 Training Accuracy:95.4%\n",
      "Progress:62.5% Speed(reviews/sec):747.9 #Correct:14295 #Trained:15001 Training Accuracy:95.2%\n",
      "Progress:72.9% Speed(reviews/sec):745.9 #Correct:16678 #Trained:17501 Training Accuracy:95.2%\n",
      "Progress:83.3% Speed(reviews/sec):740.1 #Correct:19062 #Trained:20001 Training Accuracy:95.3%\n",
      "Progress:93.7% Speed(reviews/sec):738.2 #Correct:21452 #Trained:22501 Training Accuracy:95.3%\n",
      "Progress:0.0% Speed(reviews/sec):0.0 #Correct:1 #Trained:1 Training Accuracy:100.%uracy:95.3%\n",
      "Progress:10.4% Speed(reviews/sec):758.5 #Correct:2403 #Trained:2501 Training Accuracy:96.0%\n",
      "Progress:20.8% Speed(reviews/sec):742.6 #Correct:4816 #Trained:5001 Training Accuracy:96.3%\n",
      "Progress:31.2% Speed(reviews/sec):743.3 #Correct:7212 #Trained:7501 Training Accuracy:96.1%\n",
      "Progress:41.6% Speed(reviews/sec):746.0 #Correct:9606 #Trained:10001 Training Accuracy:96.0%\n",
      "Progress:52.0% Speed(reviews/sec):743.0 #Correct:12003 #Trained:12501 Training Accuracy:96.0%\n",
      "Progress:62.5% Speed(reviews/sec):742.6 #Correct:14395 #Trained:15001 Training Accuracy:95.9%\n",
      "Progress:72.9% Speed(reviews/sec):740.4 #Correct:16780 #Trained:17501 Training Accuracy:95.8%\n",
      "Progress:83.3% Speed(reviews/sec):733.1 #Correct:19178 #Trained:20001 Training Accuracy:95.8%\n",
      "Progress:93.7% Speed(reviews/sec):732.9 #Correct:21569 #Trained:22501 Training Accuracy:95.8%\n",
      "Progress:0.0% Speed(reviews/sec):0.0 #Correct:1 #Trained:1 Training Accuracy:100.%uracy:95.9%\n",
      "Progress:10.4% Speed(reviews/sec):764.0 #Correct:2420 #Trained:2501 Training Accuracy:96.7%\n",
      "Progress:20.8% Speed(reviews/sec):745.7 #Correct:4838 #Trained:5001 Training Accuracy:96.7%\n",
      "Progress:31.2% Speed(reviews/sec):741.1 #Correct:7242 #Trained:7501 Training Accuracy:96.5%\n",
      "Progress:41.6% Speed(reviews/sec):744.0 #Correct:9623 #Trained:10001 Training Accuracy:96.2%\n",
      "Progress:52.0% Speed(reviews/sec):743.2 #Correct:12014 #Trained:12501 Training Accuracy:96.1%\n",
      "Progress:62.5% Speed(reviews/sec):743.6 #Correct:14412 #Trained:15001 Training Accuracy:96.0%\n",
      "Progress:72.9% Speed(reviews/sec):741.9 #Correct:16811 #Trained:17501 Training Accuracy:96.0%\n",
      "Progress:83.3% Speed(reviews/sec):739.1 #Correct:19222 #Trained:20001 Training Accuracy:96.1%\n",
      "Progress:93.7% Speed(reviews/sec):738.0 #Correct:21621 #Trained:22501 Training Accuracy:96.0%\n",
      "Progress:0.0% Speed(reviews/sec):0.0 #Correct:1 #Trained:1 Training Accuracy:100.%uracy:96.0%\n",
      "Progress:10.4% Speed(reviews/sec):759.2 #Correct:2418 #Trained:2501 Training Accuracy:96.6%\n",
      "Progress:20.8% Speed(reviews/sec):747.5 #Correct:4838 #Trained:5001 Training Accuracy:96.7%\n",
      "Progress:31.2% Speed(reviews/sec):745.0 #Correct:7252 #Trained:7501 Training Accuracy:96.6%\n",
      "Progress:41.6% Speed(reviews/sec):749.8 #Correct:9663 #Trained:10001 Training Accuracy:96.6%\n",
      "Progress:52.0% Speed(reviews/sec):748.6 #Correct:12077 #Trained:12501 Training Accuracy:96.6%\n",
      "Progress:62.5% Speed(reviews/sec):748.9 #Correct:14484 #Trained:15001 Training Accuracy:96.5%\n",
      "Progress:72.9% Speed(reviews/sec):748.1 #Correct:16900 #Trained:17501 Training Accuracy:96.5%\n",
      "Progress:83.3% Speed(reviews/sec):744.8 #Correct:19333 #Trained:20001 Training Accuracy:96.6%\n",
      "Progress:93.7% Speed(reviews/sec):744.1 #Correct:21747 #Trained:22501 Training Accuracy:96.6%\n",
      "Progress:0.0% Speed(reviews/sec):0.0 #Correct:1 #Trained:1 Training Accuracy:100.%uracy:96.6%\n",
      "Progress:10.4% Speed(reviews/sec):755.2 #Correct:2420 #Trained:2501 Training Accuracy:96.7%\n",
      "Progress:20.8% Speed(reviews/sec):739.9 #Correct:4842 #Trained:5001 Training Accuracy:96.8%\n",
      "Progress:31.2% Speed(reviews/sec):742.3 #Correct:7262 #Trained:7501 Training Accuracy:96.8%\n",
      "Progress:41.6% Speed(reviews/sec):748.4 #Correct:9661 #Trained:10001 Training Accuracy:96.6%\n",
      "Progress:52.0% Speed(reviews/sec):747.4 #Correct:12065 #Trained:12501 Training Accuracy:96.5%\n",
      "Progress:62.5% Speed(reviews/sec):744.9 #Correct:14471 #Trained:15001 Training Accuracy:96.4%\n",
      "Progress:72.9% Speed(reviews/sec):744.0 #Correct:16884 #Trained:17501 Training Accuracy:96.4%\n",
      "Progress:83.3% Speed(reviews/sec):742.4 #Correct:19315 #Trained:20001 Training Accuracy:96.5%\n",
      "Progress:93.7% Speed(reviews/sec):741.8 #Correct:21731 #Trained:22501 Training Accuracy:96.5%\n",
      "Progress:99.9% Speed(reviews/sec):741.7 #Correct:23180 #Trained:24000 Training Accuracy:96.5%"
     ]
    }
   ],
   "source": [
    "mlp_supertrained = SentimentNetwork(reviews[:-1000],labels[:-1000], learning_rate=0.1)\n",
    "for i in range(10):\n",
    "    mlp_supertrained.train(reviews[:-1000],labels[:-1000])"
   ]
  },
  {
   "cell_type": "code",
   "execution_count": 105,
   "metadata": {},
   "outputs": [
    {
     "name": "stdout",
     "output_type": "stream",
     "text": [
      "Progress:99.9% Speed(reviews/sec):1504. #Correct:819 #Tested:1000 Testing Accuracy:81.9%"
     ]
    }
   ],
   "source": [
    "mlp_supertrained.test(reviews[-1000:],labels[-1000:])"
   ]
  },
  {
   "cell_type": "markdown",
   "metadata": {},
   "source": [
    "# End of Project 5. \n",
    "## Watch the next video to see Andrew's solution, then continue on to the next lesson.\n",
    "# Further Noise Reduction<a id='lesson_6'></a>"
   ]
  },
  {
   "cell_type": "code",
   "execution_count": 127,
   "metadata": {
    "tags": []
   },
   "outputs": [
    {
     "data": {
      "image/png": "[encoded data removed]",
      "text/plain": [
       "<IPython.core.display.Image object>"
      ]
     },
     "execution_count": 127,
     "metadata": {},
     "output_type": "execute_result"
    }
   ],
   "source": [
    "Image(filename='sentiment_network_sparse_2.png')"
   ]
  },
  {
   "cell_type": "code",
   "execution_count": 130,
   "metadata": {
    "tags": []
   },
   "outputs": [
    {
     "data": {
      "text/plain": [
       "[('edie', 4.6913478822291435),\n",
       " ('paulie', 4.07753744390572),\n",
       " ('felix', 3.152736022363656),\n",
       " ('polanski', 2.8233610476132043),\n",
       " ('matthau', 2.80672172860924),\n",
       " ('victoria', 2.681021528714291),\n",
       " ('mildred', 2.6026896854443837),\n",
       " ('gandhi', 2.538973871058276),\n",
       " ('flawless', 2.451005098112319),\n",
       " ('superbly', 2.26002547857525),\n",
       " ('perfection', 2.159484249353372),\n",
       " ('astaire', 2.1400661634962708),\n",
       " ('captures', 2.038619547159581),\n",
       " ('voight', 2.030170492673053),\n",
       " ('wonderfully', 2.0218960560332353),\n",
       " ('powell', 1.978345424808467),\n",
       " ('brosnan', 1.9547990964725592),\n",
       " ('lily', 1.9203768470501485),\n",
       " ('bakshi', 1.9029851043382795),\n",
       " ('lincoln', 1.9014583864844796),\n",
       " ('refreshing', 1.8551812956655511),\n",
       " ('breathtaking', 1.8481124057791867),\n",
       " ('bourne', 1.8478489358790986),\n",
       " ('lemmon', 1.8458266904983307),\n",
       " ('delightful', 1.8002701588959635),\n",
       " ('flynn', 1.7996646487351682),\n",
       " ('andrews', 1.7764919970972666),\n",
       " ('homer', 1.7692866133759964),\n",
       " ('beautifully', 1.7626953362841438),\n",
       " ('soccer', 1.7578579175523736)]"
      ]
     },
     "execution_count": 130,
     "metadata": {},
     "output_type": "execute_result"
    }
   ],
   "source": [
    "# words most frequently seen in a review with a \"POSITIVE\" label\n",
    "pos_neg_ratios.most_common()[0:30]"
   ]
  },
  {
   "cell_type": "code",
   "execution_count": 129,
   "metadata": {
    "tags": []
   },
   "outputs": [
    {
     "data": {
      "text/plain": [
       "[('boll', -4.969813299576001),\n",
       " ('uwe', -4.624972813284271),\n",
       " ('seagal', -3.644143560272545),\n",
       " ('unwatchable', -3.258096538021482),\n",
       " ('stinker', -3.2088254890146994),\n",
       " ('mst', -2.9502698994772336),\n",
       " ('incoherent', -2.9368917735310576),\n",
       " ('unfunny', -2.6922395950755678),\n",
       " ('waste', -2.6193845640165536),\n",
       " ('blah', -2.5704288232261625),\n",
       " ('horrid', -2.4849066497880004),\n",
       " ('pointless', -2.4553061800117097),\n",
       " ('atrocious', -2.4259083090260445),\n",
       " ('redeeming', -2.3682390632154826),\n",
       " ('prom', -2.3608540011180215),\n",
       " ('drivel', -2.3470368555648795),\n",
       " ('lousy', -2.307572634505085),\n",
       " ('worst', -2.286987896180378),\n",
       " ('laughable', -2.264363880173848),\n",
       " ('awful', -2.227194247027435),\n",
       " ('poorly', -2.2207550747464135),\n",
       " ('wasting', -2.204604684633842),\n",
       " ('remotely', -2.1972245773362196),\n",
       " ('existent', -2.0794415416798357),\n",
       " ('boredom', -1.995100393246085),\n",
       " ('miserably', -1.9924301646902063),\n",
       " ('sucks', -1.987068221548821),\n",
       " ('uninspired', -1.9832976811269336),\n",
       " ('lame', -1.981767458946166),\n",
       " ('insult', -1.978345424808467)]"
      ]
     },
     "execution_count": 129,
     "metadata": {},
     "output_type": "execute_result"
    }
   ],
   "source": [
    "# words most frequently seen in a review with a \"NEGATIVE\" label\n",
    "list(reversed(pos_neg_ratios.most_common()))[0:30]"
   ]
  },
  {
   "cell_type": "code",
   "execution_count": 131,
   "metadata": {
    "tags": []
   },
   "outputs": [
    {
     "data": {
      "text/html": [
       "\n",
       "    <div class=\"bk-root\">\n",
       "        <a href=\"https://bokeh.org\" target=\"_blank\" class=\"bk-logo bk-logo-small bk-logo-notebook\"></a>\n",
       "        <span id=\"1002\">Loading BokehJS ...</span>\n",
       "    </div>"
      ]
     },
     "metadata": {},
     "output_type": "display_data"
    },
    {
     "data": {
      "application/javascript": [
       "\n",
       "(function(root) {\n",
       "  function now() {\n",
       "    return new Date();\n",
       "  }\n",
       "\n",
       "  var force = true;\n",
       "\n",
       "  if (typeof root._bokeh_onload_callbacks === \"undefined\" || force === true) {\n",
       "    root._bokeh_onload_callbacks = [];\n",
       "    root._bokeh_is_loading = undefined;\n",
       "  }\n",
       "\n",
       "  var JS_MIME_TYPE = 'application/javascript';\n",
       "  var HTML_MIME_TYPE = 'text/html';\n",
       "  var EXEC_MIME_TYPE = 'application/vnd.bokehjs_exec.v0+json';\n",
       "  var CLASS_NAME = 'output_bokeh rendered_html';\n",
       "\n",
       "  /**\n",
       "   * Render data to the DOM node\n",
       "   */\n",
       "  function render(props, node) {\n",
       "    var script = document.createElement(\"script\");\n",
       "    node.appendChild(script);\n",
       "  }\n",
       "\n",
       "  /**\n",
       "   * Handle when an output is cleared or removed\n",
       "   */\n",
       "  function handleClearOutput(event, handle) {\n",
       "    var cell = handle.cell;\n",
       "\n",
       "    var id = cell.output_area._bokeh_element_id;\n",
       "    var server_id = cell.output_area._bokeh_server_id;\n",
       "    // Clean up Bokeh references\n",
       "    if (id != null && id in Bokeh.index) {\n",
       "      Bokeh.index[id].model.document.clear();\n",
       "      delete Bokeh.index[id];\n",
       "    }\n",
       "\n",
       "    if (server_id !== undefined) {\n",
       "      // Clean up Bokeh references\n",
       "      var cmd = \"from bokeh.io.state import curstate; print(curstate().uuid_to_server['\" + server_id + \"'].get_sessions()[0].document.roots[0]._id)\";\n",
       "      cell.notebook.kernel.execute(cmd, {\n",
       "        iopub: {\n",
       "          output: function(msg) {\n",
       "            var id = msg.content.text.trim();\n",
       "            if (id in Bokeh.index) {\n",
       "              Bokeh.index[id].model.document.clear();\n",
       "              delete Bokeh.index[id];\n",
       "            }\n",
       "          }\n",
       "        }\n",
       "      });\n",
       "      // Destroy server and session\n",
       "      var cmd = \"import bokeh.io.notebook as ion; ion.destroy_server('\" + server_id + \"')\";\n",
       "      cell.notebook.kernel.execute(cmd);\n",
       "    }\n",
       "  }\n",
       "\n",
       "  /**\n",
       "   * Handle when a new output is added\n",
       "   */\n",
       "  function handleAddOutput(event, handle) {\n",
       "    var output_area = handle.output_area;\n",
       "    var output = handle.output;\n",
       "\n",
       "    // limit handleAddOutput to display_data with EXEC_MIME_TYPE content only\n",
       "    if ((output.output_type != \"display_data\") || (!Object.prototype.hasOwnProperty.call(output.data, EXEC_MIME_TYPE))) {\n",
       "      return\n",
       "    }\n",
       "\n",
       "    var toinsert = output_area.element.find(\".\" + CLASS_NAME.split(' ')[0]);\n",
       "\n",
       "    if (output.metadata[EXEC_MIME_TYPE][\"id\"] !== undefined) {\n",
       "      toinsert[toinsert.length - 1].firstChild.textContent = output.data[JS_MIME_TYPE];\n",
       "      // store reference to embed id on output_area\n",
       "      output_area._bokeh_element_id = output.metadata[EXEC_MIME_TYPE][\"id\"];\n",
       "    }\n",
       "    if (output.metadata[EXEC_MIME_TYPE][\"server_id\"] !== undefined) {\n",
       "      var bk_div = document.createElement(\"div\");\n",
       "      bk_div.innerHTML = output.data[HTML_MIME_TYPE];\n",
       "      var script_attrs = bk_div.children[0].attributes;\n",
       "      for (var i = 0; i < script_attrs.length; i++) {\n",
       "        toinsert[toinsert.length - 1].firstChild.setAttribute(script_attrs[i].name, script_attrs[i].value);\n",
       "        toinsert[toinsert.length - 1].firstChild.textContent = bk_div.children[0].textContent\n",
       "      }\n",
       "      // store reference to server id on output_area\n",
       "      output_area._bokeh_server_id = output.metadata[EXEC_MIME_TYPE][\"server_id\"];\n",
       "    }\n",
       "  }\n",
       "\n",
       "  function register_renderer(events, OutputArea) {\n",
       "\n",
       "    function append_mime(data, metadata, element) {\n",
       "      // create a DOM node to render to\n",
       "      var toinsert = this.create_output_subarea(\n",
       "        metadata,\n",
       "        CLASS_NAME,\n",
       "        EXEC_MIME_TYPE\n",
       "      );\n",
       "      this.keyboard_manager.register_events(toinsert);\n",
       "      // Render to node\n",
       "      var props = {data: data, metadata: metadata[EXEC_MIME_TYPE]};\n",
       "      render(props, toinsert[toinsert.length - 1]);\n",
       "      element.append(toinsert);\n",
       "      return toinsert\n",
       "    }\n",
       "\n",
       "    /* Handle when an output is cleared or removed */\n",
       "    events.on('clear_output.CodeCell', handleClearOutput);\n",
       "    events.on('delete.Cell', handleClearOutput);\n",
       "\n",
       "    /* Handle when a new output is added */\n",
       "    events.on('output_added.OutputArea', handleAddOutput);\n",
       "\n",
       "    /**\n",
       "     * Register the mime type and append_mime function with output_area\n",
       "     */\n",
       "    OutputArea.prototype.register_mime_type(EXEC_MIME_TYPE, append_mime, {\n",
       "      /* Is output safe? */\n",
       "      safe: true,\n",
       "      /* Index of renderer in `output_area.display_order` */\n",
       "      index: 0\n",
       "    });\n",
       "  }\n",
       "\n",
       "  // register the mime type if in Jupyter Notebook environment and previously unregistered\n",
       "  if (root.Jupyter !== undefined) {\n",
       "    var events = require('base/js/events');\n",
       "    var OutputArea = require('notebook/js/outputarea').OutputArea;\n",
       "\n",
       "    if (OutputArea.prototype.mime_types().indexOf(EXEC_MIME_TYPE) == -1) {\n",
       "      register_renderer(events, OutputArea);\n",
       "    }\n",
       "  }\n",
       "\n",
       "  \n",
       "  if (typeof (root._bokeh_timeout) === \"undefined\" || force === true) {\n",
       "    root._bokeh_timeout = Date.now() + 5000;\n",
       "    root._bokeh_failed_load = false;\n",
       "  }\n",
       "\n",
       "  var NB_LOAD_WARNING = {'data': {'text/html':\n",
       "     \"<div style='background-color: #fdd'>\\n\"+\n",
       "     \"<p>\\n\"+\n",
       "     \"BokehJS does not appear to have successfully loaded. If loading BokehJS from CDN, this \\n\"+\n",
       "     \"may be due to a slow or bad network connection. Possible fixes:\\n\"+\n",
       "     \"</p>\\n\"+\n",
       "     \"<ul>\\n\"+\n",
       "     \"<li>re-rerun `output_notebook()` to attempt to load from CDN again, or</li>\\n\"+\n",
       "     \"<li>use INLINE resources instead, as so:</li>\\n\"+\n",
       "     \"</ul>\\n\"+\n",
       "     \"<code>\\n\"+\n",
       "     \"from bokeh.resources import INLINE\\n\"+\n",
       "     \"output_notebook(resources=INLINE)\\n\"+\n",
       "     \"</code>\\n\"+\n",
       "     \"</div>\"}};\n",
       "\n",
       "  function display_loaded() {\n",
       "    var el = document.getElementById(\"1002\");\n",
       "    if (el != null) {\n",
       "      el.textContent = \"BokehJS is loading...\";\n",
       "    }\n",
       "    if (root.Bokeh !== undefined) {\n",
       "      if (el != null) {\n",
       "        el.textContent = \"BokehJS \" + root.Bokeh.version + \" successfully loaded.\";\n",
       "      }\n",
       "    } else if (Date.now() < root._bokeh_timeout) {\n",
       "      setTimeout(display_loaded, 100)\n",
       "    }\n",
       "  }\n",
       "\n",
       "\n",
       "  function run_callbacks() {\n",
       "    try {\n",
       "      root._bokeh_onload_callbacks.forEach(function(callback) {\n",
       "        if (callback != null)\n",
       "          callback();\n",
       "      });\n",
       "    } finally {\n",
       "      delete root._bokeh_onload_callbacks\n",
       "    }\n",
       "    console.debug(\"Bokeh: all callbacks have finished\");\n",
       "  }\n",
       "\n",
       "  function load_libs(css_urls, js_urls, callback) {\n",
       "    if (css_urls == null) css_urls = [];\n",
       "    if (js_urls == null) js_urls = [];\n",
       "\n",
       "    root._bokeh_onload_callbacks.push(callback);\n",
       "    if (root._bokeh_is_loading > 0) {\n",
       "      console.debug(\"Bokeh: BokehJS is being loaded, scheduling callback at\", now());\n",
       "      return null;\n",
       "    }\n",
       "    if (js_urls == null || js_urls.length === 0) {\n",
       "      run_callbacks();\n",
       "      return null;\n",
       "    }\n",
       "    console.debug(\"Bokeh: BokehJS not loaded, scheduling load and callback at\", now());\n",
       "    root._bokeh_is_loading = css_urls.length + js_urls.length;\n",
       "\n",
       "    function on_load() {\n",
       "      root._bokeh_is_loading--;\n",
       "      if (root._bokeh_is_loading === 0) {\n",
       "        console.debug(\"Bokeh: all BokehJS libraries/stylesheets loaded\");\n",
       "        run_callbacks()\n",
       "      }\n",
       "    }\n",
       "\n",
       "    function on_error(url) {\n",
       "      console.error(\"failed to load \" + url);\n",
       "    }\n",
       "\n",
       "    for (let i = 0; i < css_urls.length; i++) {\n",
       "      const url = css_urls[i];\n",
       "      const element = document.createElement(\"link\");\n",
       "      element.onload = on_load;\n",
       "      element.onerror = on_error.bind(null, url);\n",
       "      element.rel = \"stylesheet\";\n",
       "      element.type = \"text/css\";\n",
       "      element.href = url;\n",
       "      console.debug(\"Bokeh: injecting link tag for BokehJS stylesheet: \", url);\n",
       "      document.body.appendChild(element);\n",
       "    }\n",
       "\n",
       "    const hashes = {\"https://cdn.bokeh.org/bokeh/release/bokeh-2.3.2.min.js\": \"XypntL49z55iwGVUW4qsEu83zKL3XEcz0MjuGOQ9SlaaQ68X/g+k1FcioZi7oQAc\", \"https://cdn.bokeh.org/bokeh/release/bokeh-tables-2.3.2.min.js\": \"bEsM86IHGDTLCS0Zod8a8WM6Y4+lafAL/eSiyQcuPzinmWNgNO2/olUF0Z2Dkn5i\", \"https://cdn.bokeh.org/bokeh/release/bokeh-widgets-2.3.2.min.js\": \"TX0gSQTdXTTeScqxj6PVQxTiRW8DOoGVwinyi1D3kxv7wuxQ02XkOxv0xwiypcAH\"};\n",
       "\n",
       "    for (let i = 0; i < js_urls.length; i++) {\n",
       "      const url = js_urls[i];\n",
       "      const element = document.createElement('script');\n",
       "      element.onload = on_load;\n",
       "      element.onerror = on_error.bind(null, url);\n",
       "      element.async = false;\n",
       "      element.src = url;\n",
       "      if (url in hashes) {\n",
       "        element.crossOrigin = \"anonymous\";\n",
       "        element.integrity = \"sha384-\" + hashes[url];\n",
       "      }\n",
       "      console.debug(\"Bokeh: injecting script tag for BokehJS library: \", url);\n",
       "      document.head.appendChild(element);\n",
       "    }\n",
       "  };\n",
       "\n",
       "  function inject_raw_css(css) {\n",
       "    const element = document.createElement(\"style\");\n",
       "    element.appendChild(document.createTextNode(css));\n",
       "    document.body.appendChild(element);\n",
       "  }\n",
       "\n",
       "  \n",
       "  var js_urls = [\"https://cdn.bokeh.org/bokeh/release/bokeh-2.3.2.min.js\", \"https://cdn.bokeh.org/bokeh/release/bokeh-widgets-2.3.2.min.js\", \"https://cdn.bokeh.org/bokeh/release/bokeh-tables-2.3.2.min.js\"];\n",
       "  var css_urls = [];\n",
       "  \n",
       "\n",
       "  var inline_js = [\n",
       "    function(Bokeh) {\n",
       "      Bokeh.set_log_level(\"info\");\n",
       "    },\n",
       "    function(Bokeh) {\n",
       "    \n",
       "    \n",
       "    }\n",
       "  ];\n",
       "\n",
       "  function run_inline_js() {\n",
       "    \n",
       "    if (root.Bokeh !== undefined || force === true) {\n",
       "      \n",
       "    for (var i = 0; i < inline_js.length; i++) {\n",
       "      inline_js[i].call(root, root.Bokeh);\n",
       "    }\n",
       "    if (force === true) {\n",
       "        display_loaded();\n",
       "      }} else if (Date.now() < root._bokeh_timeout) {\n",
       "      setTimeout(run_inline_js, 100);\n",
       "    } else if (!root._bokeh_failed_load) {\n",
       "      console.log(\"Bokeh: BokehJS failed to load within specified timeout.\");\n",
       "      root._bokeh_failed_load = true;\n",
       "    } else if (force !== true) {\n",
       "      var cell = $(document.getElementById(\"1002\")).parents('.cell').data().cell;\n",
       "      cell.output_area.append_execute_result(NB_LOAD_WARNING)\n",
       "    }\n",
       "\n",
       "  }\n",
       "\n",
       "  if (root._bokeh_is_loading === 0) {\n",
       "    console.debug(\"Bokeh: BokehJS loaded, going straight to plotting\");\n",
       "    run_inline_js();\n",
       "  } else {\n",
       "    load_libs(css_urls, js_urls, function() {\n",
       "      console.debug(\"Bokeh: BokehJS plotting callback run at\", now());\n",
       "      run_inline_js();\n",
       "    });\n",
       "  }\n",
       "}(window));"
      ],
      "application/vnd.bokehjs_load.v0+json": "\n(function(root) {\n  function now() {\n    return new Date();\n  }\n\n  var force = true;\n\n  if (typeof root._bokeh_onload_callbacks === \"undefined\" || force === true) {\n    root._bokeh_onload_callbacks = [];\n    root._bokeh_is_loading = undefined;\n  }\n\n  \n\n  \n  if (typeof (root._bokeh_timeout) === \"undefined\" || force === true) {\n    root._bokeh_timeout = Date.now() + 5000;\n    root._bokeh_failed_load = false;\n  }\n\n  var NB_LOAD_WARNING = {'data': {'text/html':\n     \"<div style='background-color: #fdd'>\\n\"+\n     \"<p>\\n\"+\n     \"BokehJS does not appear to have successfully loaded. If loading BokehJS from CDN, this \\n\"+\n     \"may be due to a slow or bad network connection. Possible fixes:\\n\"+\n     \"</p>\\n\"+\n     \"<ul>\\n\"+\n     \"<li>re-rerun `output_notebook()` to attempt to load from CDN again, or</li>\\n\"+\n     \"<li>use INLINE resources instead, as so:</li>\\n\"+\n     \"</ul>\\n\"+\n     \"<code>\\n\"+\n     \"from bokeh.resources import INLINE\\n\"+\n     \"output_notebook(resources=INLINE)\\n\"+\n     \"</code>\\n\"+\n     \"</div>\"}};\n\n  function display_loaded() {\n    var el = document.getElementById(\"1002\");\n    if (el != null) {\n      el.textContent = \"BokehJS is loading...\";\n    }\n    if (root.Bokeh !== undefined) {\n      if (el != null) {\n        el.textContent = \"BokehJS \" + root.Bokeh.version + \" successfully loaded.\";\n      }\n    } else if (Date.now() < root._bokeh_timeout) {\n      setTimeout(display_loaded, 100)\n    }\n  }\n\n\n  function run_callbacks() {\n    try {\n      root._bokeh_onload_callbacks.forEach(function(callback) {\n        if (callback != null)\n          callback();\n      });\n    } finally {\n      delete root._bokeh_onload_callbacks\n    }\n    console.debug(\"Bokeh: all callbacks have finished\");\n  }\n\n  function load_libs(css_urls, js_urls, callback) {\n    if (css_urls == null) css_urls = [];\n    if (js_urls == null) js_urls = [];\n\n    root._bokeh_onload_callbacks.push(callback);\n    if (root._bokeh_is_loading > 0) {\n      console.debug(\"Bokeh: BokehJS is being loaded, scheduling callback at\", now());\n      return null;\n    }\n    if (js_urls == null || js_urls.length === 0) {\n      run_callbacks();\n      return null;\n    }\n    console.debug(\"Bokeh: BokehJS not loaded, scheduling load and callback at\", now());\n    root._bokeh_is_loading = css_urls.length + js_urls.length;\n\n    function on_load() {\n      root._bokeh_is_loading--;\n      if (root._bokeh_is_loading === 0) {\n        console.debug(\"Bokeh: all BokehJS libraries/stylesheets loaded\");\n        run_callbacks()\n      }\n    }\n\n    function on_error(url) {\n      console.error(\"failed to load \" + url);\n    }\n\n    for (let i = 0; i < css_urls.length; i++) {\n      const url = css_urls[i];\n      const element = document.createElement(\"link\");\n      element.onload = on_load;\n      element.onerror = on_error.bind(null, url);\n      element.rel = \"stylesheet\";\n      element.type = \"text/css\";\n      element.href = url;\n      console.debug(\"Bokeh: injecting link tag for BokehJS stylesheet: \", url);\n      document.body.appendChild(element);\n    }\n\n    const hashes = {\"https://cdn.bokeh.org/bokeh/release/bokeh-2.3.2.min.js\": \"XypntL49z55iwGVUW4qsEu83zKL3XEcz0MjuGOQ9SlaaQ68X/g+k1FcioZi7oQAc\", \"https://cdn.bokeh.org/bokeh/release/bokeh-tables-2.3.2.min.js\": \"bEsM86IHGDTLCS0Zod8a8WM6Y4+lafAL/eSiyQcuPzinmWNgNO2/olUF0Z2Dkn5i\", \"https://cdn.bokeh.org/bokeh/release/bokeh-widgets-2.3.2.min.js\": \"TX0gSQTdXTTeScqxj6PVQxTiRW8DOoGVwinyi1D3kxv7wuxQ02XkOxv0xwiypcAH\"};\n\n    for (let i = 0; i < js_urls.length; i++) {\n      const url = js_urls[i];\n      const element = document.createElement('script');\n      element.onload = on_load;\n      element.onerror = on_error.bind(null, url);\n      element.async = false;\n      element.src = url;\n      if (url in hashes) {\n        element.crossOrigin = \"anonymous\";\n        element.integrity = \"sha384-\" + hashes[url];\n      }\n      console.debug(\"Bokeh: injecting script tag for BokehJS library: \", url);\n      document.head.appendChild(element);\n    }\n  };\n\n  function inject_raw_css(css) {\n    const element = document.createElement(\"style\");\n    element.appendChild(document.createTextNode(css));\n    document.body.appendChild(element);\n  }\n\n  \n  var js_urls = [\"https://cdn.bokeh.org/bokeh/release/bokeh-2.3.2.min.js\", \"https://cdn.bokeh.org/bokeh/release/bokeh-widgets-2.3.2.min.js\", \"https://cdn.bokeh.org/bokeh/release/bokeh-tables-2.3.2.min.js\"];\n  var css_urls = [];\n  \n\n  var inline_js = [\n    function(Bokeh) {\n      Bokeh.set_log_level(\"info\");\n    },\n    function(Bokeh) {\n    \n    \n    }\n  ];\n\n  function run_inline_js() {\n    \n    if (root.Bokeh !== undefined || force === true) {\n      \n    for (var i = 0; i < inline_js.length; i++) {\n      inline_js[i].call(root, root.Bokeh);\n    }\n    if (force === true) {\n        display_loaded();\n      }} else if (Date.now() < root._bokeh_timeout) {\n      setTimeout(run_inline_js, 100);\n    } else if (!root._bokeh_failed_load) {\n      console.log(\"Bokeh: BokehJS failed to load within specified timeout.\");\n      root._bokeh_failed_load = true;\n    } else if (force !== true) {\n      var cell = $(document.getElementById(\"1002\")).parents('.cell').data().cell;\n      cell.output_area.append_execute_result(NB_LOAD_WARNING)\n    }\n\n  }\n\n  if (root._bokeh_is_loading === 0) {\n    console.debug(\"Bokeh: BokehJS loaded, going straight to plotting\");\n    run_inline_js();\n  } else {\n    load_libs(css_urls, js_urls, function() {\n      console.debug(\"Bokeh: BokehJS plotting callback run at\", now());\n      run_inline_js();\n    });\n  }\n}(window));"
     },
     "metadata": {},
     "output_type": "display_data"
    }
   ],
   "source": [
    "from bokeh.models import ColumnDataSource, LabelSet\n",
    "from bokeh.plotting import figure, show, output_file\n",
    "from bokeh.io import output_notebook\n",
    "output_notebook()"
   ]
  },
  {
   "cell_type": "code",
   "execution_count": 132,
   "metadata": {
    "tags": []
   },
   "outputs": [
    {
     "name": "stderr",
     "output_type": "stream",
     "text": [
      "<ipython-input-132-fee1970bca74>:1: DeprecationWarning: The normed argument is ignored when density is provided. In future passing both will result in an error.\n",
      "  hist, edges = np.histogram(list(map(lambda x:x[1],pos_neg_ratios.most_common())), density=True, bins=100, normed=True)\n"
     ]
    },
    {
     "data": {
      "text/html": [
       "\n",
       "\n",
       "\n",
       "\n",
       "\n",
       "\n",
       "  <div class=\"bk-root\" id=\"b503c42a-33a4-4979-b498-b7112945db72\" data-root-id=\"1003\"></div>\n"
      ]
     },
     "metadata": {},
     "output_type": "display_data"
    },
    {
     "data": {
      "application/javascript": [
       "(function(root) {\n",
       "  function embed_document(root) {\n",
       "    \n",
       "  var docs_json = {\"d34ccd18-e9fd-4d23-b505-d24a5f1f30ab\":{\"defs\":[],\"roots\":{\"references\":[{\"attributes\":{\"below\":[{\"id\":\"1014\"}],\"center\":[{\"id\":\"1017\"},{\"id\":\"1021\"}],\"left\":[{\"id\":\"1018\"}],\"renderers\":[{\"id\":\"1034\"}],\"title\":{\"id\":\"1004\"},\"toolbar\":{\"id\":\"1026\"},\"toolbar_location\":\"above\",\"x_range\":{\"id\":\"1006\"},\"x_scale\":{\"id\":\"1010\"},\"y_range\":{\"id\":\"1008\"},\"y_scale\":{\"id\":\"1012\"}},\"id\":\"1003\",\"subtype\":\"Figure\",\"type\":\"Plot\"},{\"attributes\":{\"bottom\":{\"value\":0},\"fill_alpha\":{\"value\":0.1},\"fill_color\":{\"value\":\"#1f77b4\"},\"left\":{\"field\":\"left\"},\"line_alpha\":{\"value\":0.1},\"line_color\":{\"value\":\"#555555\"},\"right\":{\"field\":\"right\"},\"top\":{\"field\":\"top\"}},\"id\":\"1033\",\"type\":\"Quad\"},{\"attributes\":{},\"id\":\"1012\",\"type\":\"LinearScale\"},{\"attributes\":{},\"id\":\"1041\",\"type\":\"AllLabels\"},{\"attributes\":{\"formatter\":{\"id\":\"1039\"},\"major_label_policy\":{\"id\":\"1038\"},\"ticker\":{\"id\":\"1015\"}},\"id\":\"1014\",\"type\":\"LinearAxis\"},{\"attributes\":{},\"id\":\"1010\",\"type\":\"LinearScale\"},{\"attributes\":{},\"id\":\"1042\",\"type\":\"BasicTickFormatter\"},{\"attributes\":{\"text\":\"Word Positive/Negative Affinity Distribution\"},\"id\":\"1004\",\"type\":\"Title\"},{\"attributes\":{\"formatter\":{\"id\":\"1042\"},\"major_label_policy\":{\"id\":\"1041\"},\"ticker\":{\"id\":\"1019\"}},\"id\":\"1018\",\"type\":\"LinearAxis\"},{\"attributes\":{},\"id\":\"1008\",\"type\":\"DataRange1d\"},{\"attributes\":{\"data\":{\"left\":{\"__ndarray__\":\"fZ7TvBbhE8D57U6VKH4TwHU9ym06GxPA8YxFRky4EsBu3MAeXlUSwOorPPdv8hHAZnu3z4GPEcDiyjKokywRwF4aroClyRDA2mkpWbdmEMBWuaQxyQMQwKURQBS2QQ/AnbA2xdl7DsCVTy12/bUNwI7uIych8AzAho0a2EQqDMB+LBGJaGQLwHbLBzqMngrAbmr+6q/YCcBnCfWb0xIJwF+o60z3TAjAV0fi/RqHB8BQ5tiuPsEGwEiFz19i+wXAQCTGEIY1BcA4w7zBqW8EwDBis3LNqQPAKQGqI/HjAsAhoKDUFB4CwBk/l4U4WAHAEt6NNlySAMAU+gjP/5j/vwQ49jBHDf6/9HXjko6B/L/ks9D01fX6v9bxvVYdavm/xi+ruGTe97+2bZgarFL2v6irhXzzxvS/mOly3jo787+IJ2BAgq/xv3hlTaLJI/C/0EZ1CCIw7b+wwk/MsBjqv5g+KpA/Aee/eLoEVM7p479YNt8XXdLgv3Bkc7fXddu/MFwoP/VG1b/gp7qNJTDOv2CXJJ1g0sG/gBs6sm7Spb+AJh4QpaSrPwCanTTuRsM/gKozJbOkzz+A3eQKPAHWP8DlL4MeMNw/AHe9fYAv4T8g++K58UbkP0B/CPZiXuc/WAMuMtR16j94h1NuRY3tP8yFPFVbUvA/3EdP8xPe8T/sCWKRzGnzP/zLdC+F9fQ/DI6HzT2B9j8cUJpr9gz4PywSrQmvmPk/ONS/p2ck+z9IltJFILD8P1hY5ePYO/4/aBr4gZHH/z88bgUQpakAQETPDl+BbwFATDAYrl01AkBSkSH9OfsCQFryKkwWwQNAYlM0m/KGBEBqtD3qzkwFQHIVRzmrEgZAenZQiIfYBkCC11nXY54HQIo4YyZAZAhAkplsdRwqCUCa+nXE+O8JQKJbfxPVtQpAqryIYrF7C0CuHZKxjUEMQLZ+mwBqBw1Avt+kT0bNDUDGQK6eIpMOQM6ht+3+WA9Aa4Fgnm0PEEDvMeXFW3IQQHPiae1J1RBA95LuFDg4EUB7Q3M8JpsRQP/z92MU/hFAg6R8iwJhEkA=\",\"dtype\":\"float64\",\"order\":\"little\",\"shape\":[100]},\"right\":{\"__ndarray__\":\"+e1OlSh+E8B1PcptOhsTwPGMRUZMuBLAbtzAHl5VEsDqKzz3b/IRwGZ7t8+BjxHA4soyqJMsEcBeGq6ApckQwNppKVm3ZhDAVrmkMckDEMClEUAUtkEPwJ2wNsXZew7AlU8tdv21DcCO7iMnIfAMwIaNGthEKgzAfiwRiWhkC8B2ywc6jJ4KwG5q/uqv2AnAZwn1m9MSCcBfqOtM90wIwFdH4v0ahwfAUObYrj7BBsBIhc9fYvsFwEAkxhCGNQXAOMO8walvBMAwYrNyzakDwCkBqiPx4wLAIaCg1BQeAsAZP5eFOFgBwBLejTZckgDAFPoIz/+Y/78EOPYwRw3+v/R145KOgfy/5LPQ9NX1+r/W8b1WHWr5v8Yvq7hk3ve/tm2YGqxS9r+oq4V888b0v5jpct46O/O/iCdgQIKv8b94ZU2iySPwv9BGdQgiMO2/sMJPzLAY6r+YPiqQPwHnv3i6BFTO6eO/WDbfF13S4L9wZHO313XbvzBcKD/1RtW/4Ke6jSUwzr9glySdYNLBv4AbOrJu0qW/gCYeEKWkqz8Amp007kbDP4CqMyWzpM8/gN3kCjwB1j/A5S+DHjDcPwB3vX2AL+E/IPviufFG5D9Afwj2Yl7nP1gDLjLUdeo/eIdTbkWN7T/MhTxVW1LwP9xHT/MT3vE/7Alikcxp8z/8y3QvhfX0PwyOh809gfY/HFCaa/YM+D8sEq0Jr5j5PzjUv6dnJPs/SJbSRSCw/D9YWOXj2Dv+P2ga+IGRx/8/PG4FEKWpAEBEzw5fgW8BQEwwGK5dNQJAUpEh/Tn7AkBa8ipMFsEDQGJTNJvyhgRAarQ96s5MBUByFUc5qxIGQHp2UIiH2AZAgtdZ12OeB0CKOGMmQGQIQJKZbHUcKglAmvp1xPjvCUCiW38T1bUKQKq8iGKxewtArh2SsY1BDEC2fpsAagcNQL7fpE9GzQ1AxkCuniKTDkDOobft/lgPQGuBYJ5tDxBA7zHlxVtyEEBz4mntSdUQQPeS7hQ4OBFAe0NzPCabEUD/8/djFP4RQIOkfIsCYRJABlUBs/DDEkA=\",\"dtype\":\"float64\",\"order\":\"little\",\"shape\":[100]},\"top\":{\"__ndarray__\":\"P45qoNvWYz8AAAAAAAAAAAAAAAAAAAAAco5qoNvWYz8AAAAAAAAAAAAAAAAAAAAAAAAAAAAAAAAAAAAAAAAAAAAAAAAAAAAAAAAAAAAAAAAAAAAAAAAAAAAAAAAAAAAAAAAAAAAAAABYjmqg29ZjPwAAAAAAAAAAAAAAAAAAAAAAAAAAAAAAAD+OaqDb1mM/WI5qoNvWYz8AAAAAAAAAAD+OaqDb1mM/WI5qoNvWYz8AAAAAAAAAAD+OaqDb1mM/P45qoNvWcz8/jmqg29ZjP4bVn3BJwn0/P45qoNvWgz/PMYWIksyIP1iOaqDb1mM/XtWfcEnCjT+Xg5L8bUebP88xhYiSzIg/B+B3FLdRlj/vMYWIksyIP1vlY+ZtmaI/s9qLQgAKqj8j4HcUt1GmP5eDkvxtR6s/6ZBgCbf6sT93PF0sAFyxP3k0e/Ft8LY/7YCck5IjvT+tOOwONybEP7PWGiU31Mw/7nwrdsntzz94uqSdG8HSP3owCtSkutk/PlF/djK/4T9494/HxNjkP0DH5Ky7uOg/l4OS/G1H6z8Alr7dxIbtP+vFafjNpuk/st78X8k/5z/rydoVl9zmPyI74ncSSuI/CNwG9+0b2T9c4fLIpGPVP72TVnKSHtA/IzdxWkkUxT94OOwONybEPyUvjx+3qLo/W+Vj5m2Zsj8jN3FaSRS1Pz+OaqDb1qM/B+B3FLdRpj+Xg5L8bUebP72TVnKSHqA/B+B3FLdRlj9e1Z9wScKNP88xhYiSzIg/XtWfcEnCfT8/jmqg29ZzPz+OaqDb1mM/AAAAAAAAAAA/jmqg29ZjPz+OaqDb1mM/P45qoNvWYz8/jmqg29ZjPz+OaqDb1nM/AAAAAAAAAAAAAAAAAAAAAAAAAAAAAAAAP45qoNvWYz8AAAAAAAAAAAAAAAAAAAAAAAAAAAAAAAAAAAAAAAAAAAAAAAAAAAAAAAAAAAAAAAAAAAAAAAAAAAAAAAAAAAAAP45qoNvWYz8AAAAAAAAAAAAAAAAAAAAAAAAAAAAAAAAAAAAAAAAAAAAAAAAAAAAAco5qoNvWYz8=\",\"dtype\":\"float64\",\"order\":\"little\",\"shape\":[100]}},\"selected\":{\"id\":\"1044\"},\"selection_policy\":{\"id\":\"1043\"}},\"id\":\"1031\",\"type\":\"ColumnDataSource\"},{\"attributes\":{},\"id\":\"1015\",\"type\":\"BasicTicker\"},{\"attributes\":{\"data_source\":{\"id\":\"1031\"},\"glyph\":{\"id\":\"1032\"},\"hover_glyph\":null,\"muted_glyph\":null,\"nonselection_glyph\":{\"id\":\"1033\"},\"view\":{\"id\":\"1035\"}},\"id\":\"1034\",\"type\":\"GlyphRenderer\"},{\"attributes\":{\"axis\":{\"id\":\"1014\"},\"ticker\":null},\"id\":\"1017\",\"type\":\"Grid\"},{\"attributes\":{\"axis\":{\"id\":\"1018\"},\"dimension\":1,\"ticker\":null},\"id\":\"1021\",\"type\":\"Grid\"},{\"attributes\":{},\"id\":\"1019\",\"type\":\"BasicTicker\"},{\"attributes\":{},\"id\":\"1043\",\"type\":\"UnionRenderers\"},{\"attributes\":{\"source\":{\"id\":\"1031\"}},\"id\":\"1035\",\"type\":\"CDSView\"},{\"attributes\":{\"active_multi\":null,\"tools\":[{\"id\":\"1022\"},{\"id\":\"1023\"},{\"id\":\"1024\"},{\"id\":\"1025\"}]},\"id\":\"1026\",\"type\":\"Toolbar\"},{\"attributes\":{},\"id\":\"1023\",\"type\":\"WheelZoomTool\"},{\"attributes\":{},\"id\":\"1044\",\"type\":\"Selection\"},{\"attributes\":{},\"id\":\"1022\",\"type\":\"PanTool\"},{\"attributes\":{},\"id\":\"1024\",\"type\":\"ResetTool\"},{\"attributes\":{},\"id\":\"1025\",\"type\":\"SaveTool\"},{\"attributes\":{},\"id\":\"1006\",\"type\":\"DataRange1d\"},{\"attributes\":{},\"id\":\"1039\",\"type\":\"BasicTickFormatter\"},{\"attributes\":{},\"id\":\"1038\",\"type\":\"AllLabels\"},{\"attributes\":{\"bottom\":{\"value\":0},\"fill_color\":{\"value\":\"#1f77b4\"},\"left\":{\"field\":\"left\"},\"line_color\":{\"value\":\"#555555\"},\"right\":{\"field\":\"right\"},\"top\":{\"field\":\"top\"}},\"id\":\"1032\",\"type\":\"Quad\"}],\"root_ids\":[\"1003\"]},\"title\":\"Bokeh Application\",\"version\":\"2.3.2\"}};\n",
       "  var render_items = [{\"docid\":\"d34ccd18-e9fd-4d23-b505-d24a5f1f30ab\",\"root_ids\":[\"1003\"],\"roots\":{\"1003\":\"b503c42a-33a4-4979-b498-b7112945db72\"}}];\n",
       "  root.Bokeh.embed.embed_items_notebook(docs_json, render_items);\n",
       "\n",
       "  }\n",
       "  if (root.Bokeh !== undefined) {\n",
       "    embed_document(root);\n",
       "  } else {\n",
       "    var attempts = 0;\n",
       "    var timer = setInterval(function(root) {\n",
       "      if (root.Bokeh !== undefined) {\n",
       "        clearInterval(timer);\n",
       "        embed_document(root);\n",
       "      } else {\n",
       "        attempts++;\n",
       "        if (attempts > 100) {\n",
       "          clearInterval(timer);\n",
       "          console.log(\"Bokeh: ERROR: Unable to run BokehJS code because BokehJS library is missing\");\n",
       "        }\n",
       "      }\n",
       "    }, 10, root)\n",
       "  }\n",
       "})(window);"
      ],
      "application/vnd.bokehjs_exec.v0+json": ""
     },
     "metadata": {
      "application/vnd.bokehjs_exec.v0+json": {
       "id": "1003"
      }
     },
     "output_type": "display_data"
    }
   ],
   "source": [
    "hist, edges = np.histogram(list(map(lambda x:x[1],pos_neg_ratios.most_common())), density=True, bins=100, normed=True)\n",
    "\n",
    "p = figure(tools=\"pan,wheel_zoom,reset,save\",\n",
    "           toolbar_location=\"above\",\n",
    "           title=\"Word Positive/Negative Affinity Distribution\")\n",
    "p.quad(top=hist, bottom=0, left=edges[:-1], right=edges[1:], line_color=\"#555555\")\n",
    "show(p)"
   ]
  },
  {
   "cell_type": "code",
   "execution_count": 133,
   "metadata": {
    "tags": []
   },
   "outputs": [],
   "source": [
    "frequency_frequency = Counter()\n",
    "\n",
    "for word, cnt in total_counts.most_common():\n",
    "    frequency_frequency[cnt] += 1"
   ]
  },
  {
   "cell_type": "code",
   "execution_count": 139,
   "metadata": {},
   "outputs": [
    {
     "data": {
      "text/plain": [
       "4274"
      ]
     },
     "execution_count": 139,
     "metadata": {},
     "output_type": "execute_result"
    }
   ],
   "source": [
    "len(pos_neg_ratios)\n",
    "# len(total_counts)"
   ]
  },
  {
   "cell_type": "code",
   "execution_count": 134,
   "metadata": {
    "tags": []
   },
   "outputs": [
    {
     "name": "stderr",
     "output_type": "stream",
     "text": [
      "<ipython-input-134-315602391ecc>:1: DeprecationWarning: The normed argument is ignored when density is provided. In future passing both will result in an error.\n",
      "  hist, edges = np.histogram(list(map(lambda x:x[1],frequency_frequency.most_common())), density=True, bins=100, normed=True)\n"
     ]
    },
    {
     "data": {
      "text/html": [
       "\n",
       "\n",
       "\n",
       "\n",
       "\n",
       "\n",
       "  <div class=\"bk-root\" id=\"1f2d48f6-1b4c-45ab-8e29-8a9aeb8443b0\" data-root-id=\"1090\"></div>\n"
      ]
     },
     "metadata": {},
     "output_type": "display_data"
    },
    {
     "data": {
      "application/javascript": [
       "(function(root) {\n",
       "  function embed_document(root) {\n",
       "    \n",
       "  var docs_json = {\"c682edea-1502-4c82-ba1d-6a678b024c6d\":{\"defs\":[],\"roots\":{\"references\":[{\"attributes\":{\"below\":[{\"id\":\"1101\"}],\"center\":[{\"id\":\"1104\"},{\"id\":\"1108\"}],\"left\":[{\"id\":\"1105\"}],\"renderers\":[{\"id\":\"1121\"}],\"title\":{\"id\":\"1091\"},\"toolbar\":{\"id\":\"1113\"},\"toolbar_location\":\"above\",\"x_range\":{\"id\":\"1093\"},\"x_scale\":{\"id\":\"1097\"},\"y_range\":{\"id\":\"1095\"},\"y_scale\":{\"id\":\"1099\"}},\"id\":\"1090\",\"subtype\":\"Figure\",\"type\":\"Plot\"},{\"attributes\":{\"formatter\":{\"id\":\"1138\"},\"major_label_policy\":{\"id\":\"1137\"},\"ticker\":{\"id\":\"1106\"}},\"id\":\"1105\",\"type\":\"LinearAxis\"},{\"attributes\":{\"axis\":{\"id\":\"1105\"},\"dimension\":1,\"ticker\":null},\"id\":\"1108\",\"type\":\"Grid\"},{\"attributes\":{},\"id\":\"1134\",\"type\":\"AllLabels\"},{\"attributes\":{},\"id\":\"1097\",\"type\":\"LinearScale\"},{\"attributes\":{},\"id\":\"1135\",\"type\":\"BasicTickFormatter\"},{\"attributes\":{},\"id\":\"1095\",\"type\":\"DataRange1d\"},{\"attributes\":{\"formatter\":{\"id\":\"1135\"},\"major_label_policy\":{\"id\":\"1134\"},\"ticker\":{\"id\":\"1102\"}},\"id\":\"1101\",\"type\":\"LinearAxis\"},{\"attributes\":{},\"id\":\"1102\",\"type\":\"BasicTicker\"},{\"attributes\":{\"axis\":{\"id\":\"1101\"},\"ticker\":null},\"id\":\"1104\",\"type\":\"Grid\"},{\"attributes\":{},\"id\":\"1099\",\"type\":\"LinearScale\"},{\"attributes\":{\"active_multi\":null,\"tools\":[{\"id\":\"1109\"},{\"id\":\"1110\"},{\"id\":\"1111\"},{\"id\":\"1112\"}]},\"id\":\"1113\",\"type\":\"Toolbar\"},{\"attributes\":{\"data\":{\"left\":{\"__ndarray__\":\"AAAAAAAA8D/NzMzMzFhxQM3MzMzMUIFANDMzMzP1iUDNzMzMzEyRQAAAAAAAn5VANDMzMzPxmUBnZmZmZkOeQM3MzMzMSqFAZ2ZmZuZzo0AAAAAAAJ2lQJqZmZkZxqdANDMzMzPvqUDNzMzMTBisQGdmZmZmQa5AAAAAAEA1sEDNzMzMzEmxQJqZmZlZXrJAZ2ZmZuZys0AzMzMzc4e0QAAAAAAAnLVAzczMzIywtkCamZmZGcW3QGdmZmam2bhANDMzMzPuuUAAAAAAwAK7QM3MzMxMF7xAmpmZmdkrvUBnZmZmZkC+QDQzMzPzVL9AAAAAAMA0wEBnZmZmBr/AQM3MzMxMScFAMzMzM5PTwUCamZmZ2V3CQAAAAAAg6MJAZ2ZmZmZyw0DNzMzMrPzDQDMzMzPzhsRAmpmZmTkRxUAAAAAAgJvFQGdmZmbGJcZAzczMzAywxkAzMzMzUzrHQJqZmZmZxMdAAAAAAOBOyEBnZmZmJtnIQM3MzMxsY8lANDMzM7PtyUCamZmZ+XfKQAAAAABAAstAZ2ZmZoaMy0DNzMzMzBbMQDQzMzMTocxAmpmZmVkrzUAAAAAAoLXNQGdmZmbmP85AzczMzCzKzkA0MzMzc1TPQJqZmZm53s9AAAAAAIA00EAzMzMzo3nQQGdmZmbGvtBAmpmZmekD0UDNzMzMDEnRQAAAAAAwjtFAMzMzM1PT0UBnZmZmdhjSQJqZmZmZXdJAzczMzLyi0kAAAAAA4OfSQDMzMzMDLdNAZ2ZmZiZy00CamZmZSbfTQM3MzMxs/NNAAAAAAJBB1EAzMzMzs4bUQGdmZmbWy9RAmpmZmfkQ1UDNzMzMHFbVQAAAAABAm9VAMzMzM2Pg1UBnZmZmhiXWQJqZmZmpatZAzczMzMyv1kAAAAAA8PTWQDMzMzMTOtdAZ2ZmZjZ/10CamZmZWcTXQM3MzMx8CdhAAAAAAKBO2EAzMzMzw5PYQGdmZmbm2NhAmpmZmQke2UDNzMzMLGPZQAAAAABQqNlANDMzM3Pt2UBnZmZmljLaQJqZmZm5d9pAzczMzNy82kA=\",\"dtype\":\"float64\",\"order\":\"little\",\"shape\":[100]},\"right\":{\"__ndarray__\":\"zczMzMxYcUDNzMzMzFCBQDQzMzMz9YlAzczMzMxMkUAAAAAAAJ+VQDQzMzMz8ZlAZ2ZmZmZDnkDNzMzMzEqhQGdmZmbmc6NAAAAAAACdpUCamZmZGcanQDQzMzMz76lAzczMzEwYrEBnZmZmZkGuQAAAAABANbBAzczMzMxJsUCamZmZWV6yQGdmZmbmcrNAMzMzM3OHtEAAAAAAAJy1QM3MzMyMsLZAmpmZmRnFt0BnZmZmptm4QDQzMzMz7rlAAAAAAMACu0DNzMzMTBe8QJqZmZnZK71AZ2ZmZmZAvkA0MzMz81S/QAAAAADANMBAZ2ZmZga/wEDNzMzMTEnBQDMzMzOT08FAmpmZmdldwkAAAAAAIOjCQGdmZmZmcsNAzczMzKz8w0AzMzMz84bEQJqZmZk5EcVAAAAAAICbxUBnZmZmxiXGQM3MzMwMsMZAMzMzM1M6x0CamZmZmcTHQAAAAADgTshAZ2ZmZibZyEDNzMzMbGPJQDQzMzOz7clAmpmZmfl3ykAAAAAAQALLQGdmZmaGjMtAzczMzMwWzEA0MzMzE6HMQJqZmZlZK81AAAAAAKC1zUBnZmZm5j/OQM3MzMwsys5ANDMzM3NUz0CamZmZud7PQAAAAACANNBAMzMzM6N50EBnZmZmxr7QQJqZmZnpA9FAzczMzAxJ0UAAAAAAMI7RQDMzMzNT09FAZ2ZmZnYY0kCamZmZmV3SQM3MzMy8otJAAAAAAODn0kAzMzMzAy3TQGdmZmYmctNAmpmZmUm300DNzMzMbPzTQAAAAACQQdRAMzMzM7OG1EBnZmZm1svUQJqZmZn5ENVAzczMzBxW1UAAAAAAQJvVQDMzMzNj4NVAZ2ZmZoYl1kCamZmZqWrWQM3MzMzMr9ZAAAAAAPD01kAzMzMzEzrXQGdmZmY2f9dAmpmZmVnE10DNzMzMfAnYQAAAAACgTthAMzMzM8OT2EBnZmZm5tjYQJqZmZkJHtlAzczMzCxj2UAAAAAAUKjZQDQzMzNz7dlAZ2ZmZpYy2kCamZmZuXfaQM3MzMzcvNpAAAAAAAAC20A=\",\"dtype\":\"float64\",\"order\":\"little\",\"shape\":[100]},\"top\":{\"__ndarray__\":\"TDhFg5YVbT+JTZDME4n7PtMKDQpDB+Y+1QoNCkMH1j7VCg0KQwfWPgAAAAAAAAAA1QoNCkMHxj7VCg0KQwfGPgAAAAAAAAAA2goNCkMHxj4AAAAAAAAAAAAAAAAAAAAA2goNCkMHxj4AAAAAAAAAAAAAAAAAAAAAAAAAAAAAAAAAAAAAAAAAAAAAAAAAAAAA5QoNCkMHxj4AAAAAAAAAAAAAAAAAAAAAAAAAAAAAAAAAAAAAAAAAAAAAAAAAAAAAAAAAAAAAAAAAAAAAAAAAAAAAAAAAAAAAAAAAAAAAAAAAAAAAAAAAAAAAAAAAAAAAAAAAAAAAAAAAAAAAAAAAAOUKDQpDB8Y+AAAAAAAAAAAAAAAAAAAAAAAAAAAAAAAAAAAAAAAAAAAAAAAAAAAAAAAAAAAAAAAAAAAAAAAAAAAAAAAAAAAAAAAAAAAAAAAAAAAAAAAAAAAAAAAAAAAAAAAAAAAAAAAAAAAAAAAAAAAAAAAAAAAAAAAAAAAAAAAAAAAAAAAAAAAAAAAAAAAAAAAAAAAAAAAAAAAAAAAAAAAAAAAAAAAAAAAAAAAAAAAAAAAAAAAAAAAAAAAAAAAAAAAAAAAAAAAAAAAAAAAAAAAAAAAAAAAAAAAAAAAAAAAAAAAAAAAAAAAAAAAAAAAAAAAAAAAAAAAAAAAAAAAAAAAAAAAAAAAAAAAAAAAAAAAAAAAAAAAAAAAAAAAAAAAAAAAAAAAAAAAAAAAAAAAAAAAAAAAAAAAAAAAAAAAAAAAAAAAAAAAAAAAAAAAAAAAAAAAAAAAAAAAAAAAAAAAAAAAAAAAAAAAAAAAAAAAAAAAAAAAAAAAAAAAAAAAAAAAAAAAAAAAAAAAAAAAAAAAAAAAAAAAAAAAAAAAAAAAAAAAAAAAAAAAAAAAAAAAAAAAAAAAAAAAAAAAAAAAAAAAAAAAAAAAAAAAAAAAAAAAAAAAAAAAAAAAAAAAAAAAAAAAAAAAAAAAAAAAAAAAAAAAAAAAAAAAAAAAAAAAAAAAAAAAAAAAAAAAAAAAAAAAAAAAAAAAAAAAAAAAA5QoNCkMHxj4=\",\"dtype\":\"float64\",\"order\":\"little\",\"shape\":[100]}},\"selected\":{\"id\":\"1140\"},\"selection_policy\":{\"id\":\"1139\"}},\"id\":\"1118\",\"type\":\"ColumnDataSource\"},{\"attributes\":{\"bottom\":{\"value\":0},\"fill_alpha\":{\"value\":0.1},\"fill_color\":{\"value\":\"#1f77b4\"},\"left\":{\"field\":\"left\"},\"line_alpha\":{\"value\":0.1},\"line_color\":{\"value\":\"#555555\"},\"right\":{\"field\":\"right\"},\"top\":{\"field\":\"top\"}},\"id\":\"1120\",\"type\":\"Quad\"},{\"attributes\":{},\"id\":\"1093\",\"type\":\"DataRange1d\"},{\"attributes\":{\"data_source\":{\"id\":\"1118\"},\"glyph\":{\"id\":\"1119\"},\"hover_glyph\":null,\"muted_glyph\":null,\"nonselection_glyph\":{\"id\":\"1120\"},\"view\":{\"id\":\"1122\"}},\"id\":\"1121\",\"type\":\"GlyphRenderer\"},{\"attributes\":{\"bottom\":{\"value\":0},\"fill_color\":{\"value\":\"#1f77b4\"},\"left\":{\"field\":\"left\"},\"line_color\":{\"value\":\"#555555\"},\"right\":{\"field\":\"right\"},\"top\":{\"field\":\"top\"}},\"id\":\"1119\",\"type\":\"Quad\"},{\"attributes\":{\"text\":\"The frequency distribution of the words in our corpus\"},\"id\":\"1091\",\"type\":\"Title\"},{\"attributes\":{},\"id\":\"1110\",\"type\":\"WheelZoomTool\"},{\"attributes\":{},\"id\":\"1109\",\"type\":\"PanTool\"},{\"attributes\":{},\"id\":\"1111\",\"type\":\"ResetTool\"},{\"attributes\":{},\"id\":\"1112\",\"type\":\"SaveTool\"},{\"attributes\":{},\"id\":\"1140\",\"type\":\"Selection\"},{\"attributes\":{},\"id\":\"1137\",\"type\":\"AllLabels\"},{\"attributes\":{},\"id\":\"1138\",\"type\":\"BasicTickFormatter\"},{\"attributes\":{},\"id\":\"1139\",\"type\":\"UnionRenderers\"},{\"attributes\":{\"source\":{\"id\":\"1118\"}},\"id\":\"1122\",\"type\":\"CDSView\"},{\"attributes\":{},\"id\":\"1106\",\"type\":\"BasicTicker\"}],\"root_ids\":[\"1090\"]},\"title\":\"Bokeh Application\",\"version\":\"2.3.2\"}};\n",
       "  var render_items = [{\"docid\":\"c682edea-1502-4c82-ba1d-6a678b024c6d\",\"root_ids\":[\"1090\"],\"roots\":{\"1090\":\"1f2d48f6-1b4c-45ab-8e29-8a9aeb8443b0\"}}];\n",
       "  root.Bokeh.embed.embed_items_notebook(docs_json, render_items);\n",
       "\n",
       "  }\n",
       "  if (root.Bokeh !== undefined) {\n",
       "    embed_document(root);\n",
       "  } else {\n",
       "    var attempts = 0;\n",
       "    var timer = setInterval(function(root) {\n",
       "      if (root.Bokeh !== undefined) {\n",
       "        clearInterval(timer);\n",
       "        embed_document(root);\n",
       "      } else {\n",
       "        attempts++;\n",
       "        if (attempts > 100) {\n",
       "          clearInterval(timer);\n",
       "          console.log(\"Bokeh: ERROR: Unable to run BokehJS code because BokehJS library is missing\");\n",
       "        }\n",
       "      }\n",
       "    }, 10, root)\n",
       "  }\n",
       "})(window);"
      ],
      "application/vnd.bokehjs_exec.v0+json": ""
     },
     "metadata": {
      "application/vnd.bokehjs_exec.v0+json": {
       "id": "1090"
      }
     },
     "output_type": "display_data"
    }
   ],
   "source": [
    "hist, edges = np.histogram(list(map(lambda x:x[1],frequency_frequency.most_common())), density=True, bins=100, normed=True)\n",
    "\n",
    "p = figure(tools=\"pan,wheel_zoom,reset,save\",\n",
    "           toolbar_location=\"above\",\n",
    "           title=\"The frequency distribution of the words in our corpus\")\n",
    "p.quad(top=hist, bottom=0, left=edges[:-1], right=edges[1:], line_color=\"#555555\")\n",
    "show(p)"
   ]
  },
  {
   "cell_type": "markdown",
   "metadata": {},
   "source": [
    "# Project 6: Reducing Noise by Strategically Reducing the Vocabulary<a id='project_6'></a>\n",
    "\n",
    "**TODO:** Improve `SentimentNetwork`'s performance by reducing more noise in the vocabulary. Specifically, do the following:\n",
    "* Copy the `SentimentNetwork` class from the previous project into the following cell.\n",
    "* Modify `pre_process_data`:\n",
    ">* Add two additional parameters: `min_count` and `polarity_cutoff`\n",
    ">* Calculate the positive-to-negative ratios of words used in the reviews. (You can use code you've written elsewhere in the notebook, but we are moving it into the class like we did with other helper code earlier.)\n",
    ">* Andrew's solution only calculates a postive-to-negative ratio for words that occur at least 50 times. This keeps the network from attributing too much sentiment to rarer words. You can choose to add this to your solution if you would like.  \n",
    ">* Change so words are only added to the vocabulary if they occur in the vocabulary more than `min_count` times.\n",
    ">* Change so words are only added to the vocabulary if the absolute value of their postive-to-negative ratio is at least `polarity_cutoff`\n",
    "* Modify `__init__`:\n",
    ">* Add the same two parameters (`min_count` and `polarity_cutoff`) and use them when you call `pre_process_data`"
   ]
  },
  {
   "cell_type": "code",
   "execution_count": 202,
   "metadata": {
    "tags": []
   },
   "outputs": [],
   "source": [
    "# TODO: -Copy the SentimentNetwork class from Project 5 lesson\n",
    "#       -Modify it according to the above instructions\n",
    "\n",
    "import time\n",
    "import sys\n",
    "import numpy as np\n",
    "\n",
    "# Encapsulate our neural network in a class\n",
    "class SentimentNetwork:\n",
    "    def __init__(self, reviews, labels, hidden_nodes = 10, learning_rate = 0.1, min_count=50, polarity_cutoff=0.8):\n",
    "        \"\"\"Create a SentimenNetwork with the given settings\n",
    "        Args:\n",
    "            reviews(list) - List of reviews used for training\n",
    "            labels(list) - List of POSITIVE/NEGATIVE labels associated with the given reviews\n",
    "            hidden_nodes(int) - Number of nodes to create in the hidden layer\n",
    "            learning_rate(float) - Learning rate to use while training\n",
    "        \n",
    "        \"\"\"\n",
    "        # Assign a seed to our random number generator to ensure we get\n",
    "        # reproducable results during development \n",
    "        np.random.seed(1)\n",
    "\n",
    "        # process the reviews and their associated labels so that everything\n",
    "        # is ready for training\n",
    "        self.pre_process_data(reviews, labels, min_count, polarity_cutoff)\n",
    "        \n",
    "        # Build the network to have the number of hidden nodes and the learning rate that\n",
    "        # were passed into this initializer. Make the same number of input nodes as\n",
    "        # there are vocabulary words and create a single output node.\n",
    "        self.init_network(len(self.review_vocab), hidden_nodes, 1, learning_rate)\n",
    "\n",
    "    def pre_process_data(self, reviews, labels, min_count, polarity_cutoff):\n",
    "        '''\n",
    "        Creates the review and label vocabs\n",
    "        \n",
    "        :param reviews: list of reviews (strings)\n",
    "        :param labels: list of reviews' corresponding labels (strings, i.e: 'POSITIVE')        \n",
    "        '''        \n",
    "                \n",
    "        np_reviews = np.array(reviews)        \n",
    "        mask_pos = np.array(labels) == 'POSITIVE'\n",
    "\n",
    "        pos_reviews_big_string = ' '.join(np_reviews[mask_pos])\n",
    "        neg_reviews_big_string = ' '.join(np_reviews[~mask_pos])\n",
    "        all_reviews_big_string = ' '.join(np_reviews)\n",
    "\n",
    "        # Create three Counter objects to store positive, negative and total counts\n",
    "        positive_counts = Counter(pos_reviews_big_string.split(' '))\n",
    "        negative_counts = Counter(neg_reviews_big_string.split(' '))\n",
    "        total_counts = Counter(all_reviews_big_string.split(' '))\n",
    "        total_counts_filtered = {word: count for (word, count) in total_counts.items() if count >= min_count}\n",
    "        \n",
    "        pos_neg_log_ratios = {word: np.log(positive_counts[word] + 0.01) - np.log(negative_counts[word] + 0.01) for word in total_counts_filtered}\n",
    "                \n",
    "        # Old way: includes all vocab\n",
    "        # review_vocab = set(' '.join(reviews).split(' '))\n",
    "        review_vocab = [word for (word, ratio) in pos_neg_log_ratios.items() if abs(ratio) >= polarity_cutoff]\n",
    "        print('len(review_vocab): ', len(review_vocab))\n",
    "        \n",
    "        # Convert the vocabulary set to a list so we can access words via indices\n",
    "        self.review_vocab = list(review_vocab)\n",
    "        \n",
    "        label_vocab = set(' '.join(labels).split(' '))\n",
    "        \n",
    "        # Convert the label vocabulary set to a list so we can access labels via indices\n",
    "        self.label_vocab = list(label_vocab)\n",
    "        \n",
    "        # Store the sizes of the review and label vocabularies.\n",
    "        self.review_vocab_size = len(self.review_vocab)\n",
    "        self.label_vocab_size = len(self.label_vocab)\n",
    "        \n",
    "        # Create a dictionary of words in the vocabulary mapped to index positions\n",
    "        self.word2index = {word: i for i, word in enumerate(self.review_vocab)}\n",
    "        \n",
    "        # Create a dictionary of labels mapped to index positions\n",
    "        self.label2index = {label: i for i, label in enumerate(self.label_vocab)}       \n",
    "        \n",
    "    def init_network(self, input_nodes, hidden_nodes, output_nodes, learning_rate):\n",
    "        '''\n",
    "        :param input_nodes int:\n",
    "        :param hidden_nodes int:\n",
    "        :param output_nodes int:\n",
    "        :param learning_rate float:\n",
    "        '''\n",
    "        # Store the number of nodes in input, hidden, and output layers.\n",
    "        self.input_nodes = input_nodes    # Aka ni in comments\n",
    "        self.hidden_nodes = hidden_nodes  # Aka nh in comments\n",
    "        self.output_nodes = output_nodes  # Aka no in comments\n",
    "\n",
    "        # Store the learning rate\n",
    "        self.learning_rate = learning_rate\n",
    "\n",
    "        # Initialize weights\n",
    "        \n",
    "        self.weights_0_1 = np.zeros((input_nodes, hidden_nodes))\n",
    "        \n",
    "        # initialize self.weights_1_2 as a matrix of random values. \n",
    "        #       These are the weights between the hidden layer and the output layer.\n",
    "        # self.weights_1_2 = np.random.rand(hidden_nodes, output_nodes)\n",
    "        self.weights_1_2 = np.random.normal(0.0, hidden_nodes**-0.5, (hidden_nodes, output_nodes))\n",
    "        \n",
    "        # Create the input layer, a two-dimensional matrix with shape \n",
    "        # 1 x input_nodes, with all values initialized to zero\n",
    "        # self.layer_0 = np.zeros((1, input_nodes))                                 \n",
    "        # self.layer_1 = np.zeros((1, hidden_nodes))                                 \n",
    "                \n",
    "    def get_target_for_label(self, label):\n",
    "        '''\n",
    "        :return: A numeric representation of the label (1=POSITIVE, 0=NEGATIVE)\n",
    "        '''\n",
    "        \n",
    "        return int(label == 'POSITIVE')\n",
    "        \n",
    "    def sigmoid(self, x):\n",
    "        return 1 / (1 + np.exp(-x))\n",
    "    \n",
    "    def sigmoid_output_2_derivative(self, output):\n",
    "        '''\n",
    "        Return the derivative of the sigmoid activation function, \n",
    "        where \"output\" is the original output from the sigmoid function \n",
    "        '''\n",
    "        return output * (1 - output)\n",
    "    \n",
    "    def identity(self, x):\n",
    "        return x\n",
    "    \n",
    "    def identity_output_2_derivative(self, output):\n",
    "        '''\n",
    "        Because we're using identity as activation function in hidden layer\n",
    "        '''\n",
    "        return 1  # Derivative of identity function is 1\n",
    "\n",
    "    def train(self, training_reviews, training_labels):\n",
    "        \n",
    "        # make sure out we have a matching number of reviews and labels\n",
    "        assert(len(training_reviews) == len(training_labels))                \n",
    "        \n",
    "        # Keep track of correct predictions to display accuracy during training \n",
    "        correct_so_far = 0\n",
    "        \n",
    "        # Remember when we started for printing time statistics\n",
    "        start = time.time()\n",
    "\n",
    "        # loop through all the given reviews and run a forward and backward pass,\n",
    "        # updating weights for every item\n",
    "        for i, (review, label) in enumerate(zip(training_reviews, training_labels)):\n",
    "            \n",
    "            # TODO: Get the next review and its correct label\n",
    "            # self.update_input_layer(review)\n",
    "            layer_0_indices = [self.word2index[word] for word in set(review.split(' ')) if word in self.word2index]            \n",
    "            \n",
    "            target = np.array([[self.get_target_for_label(label)]])\n",
    "            \"\"\"s(1, no)\"\"\"\n",
    "            \n",
    "            # Forward pass through the network. \n",
    "            # Do not use an activation function for the hidden layer,\n",
    "            # but use the sigmoid activation function for the output layer.\n",
    "            \n",
    "            # Commenting following line to implement the optimized matrix multiplication\n",
    "            #layer_1_input = np.dot(self.layer_0, self.weights_0_1)\n",
    "            # Optimized matrix mul\n",
    "            layer_1_input = np.zeros((1, self.hidden_nodes))\n",
    "            for index in layer_0_indices:\n",
    "                layer_1_input += self.weights_0_1[index]\n",
    "            \"\"\"s(1, nh) = (1, ni) x (ni, nh)\"\"\"\n",
    "            \n",
    "            layer_1_output = self.identity(layer_1_input)  # Because it's instructing not to use activation (to remove non-linearity)\n",
    "            \n",
    "            layer_2_input = np.dot(layer_1_output, self.weights_1_2)\n",
    "            \"\"\"s(1, no) = (1, nh) x (nh, no)\"\"\" \n",
    "            \n",
    "            layer_2_output = self.sigmoid(layer_2_input)\n",
    "            # s(1, no) = (1, 1)\n",
    "            \n",
    "            output = layer_2_output  # Just convenience alias                        \n",
    "            \n",
    "            # Back propagation pass here.            \n",
    "            error = target - output\n",
    "            \"\"\"s(1, no)\"\"\"\n",
    "                      \n",
    "            output_error_term = error * self.sigmoid_output_2_derivative(output)\n",
    "            \"\"\"s(1, no)\"\"\"                        \n",
    "            \n",
    "            layer_1_error_term = np.dot(output_error_term, self.weights_1_2.T) * self.identity_output_2_derivative(layer_1_output)\n",
    "            \"\"\"s(1, nh) = (1, no) x (no, nh) \n",
    "            Identity derivative is 1 but put to be more explicit\n",
    "            \"\"\"\n",
    "            \n",
    "            D_1_2 = np.dot(layer_1_output.T, output_error_term) / 1\n",
    "            \"\"\"s(nh, no) = (nh, 1) x (1, no)\"\"\"\n",
    "            \n",
    "            # Commenting following lines to implement the optimized weight update\n",
    "            # D_0_1 = np.dot(self.layer_0.T, layer_1_error_term) / 1            \n",
    "            \"\"\"s(ni, nh) = (ni, 1) x (1, nh)\"\"\"\n",
    "            # self.weights_0_1 += self.learning_rate * D_0_1\n",
    "            \n",
    "            self.weights_1_2 += self.learning_rate * D_1_2\n",
    "            \n",
    "            # optimized weight update\n",
    "            for index in layer_0_indices:\n",
    "                self.weights_0_1[index] += self.learning_rate * layer_1_error_term[0]\n",
    "            \n",
    "            # Keep track of correct predictions.\n",
    "            correct_so_far += abs(error[0][0]) < 0.5\n",
    "            \n",
    "            \n",
    "            # For debug purposes, print out our prediction accuracy and speed \n",
    "            # throughout the training process. \n",
    "\n",
    "            elapsed_time = float(time.time() - start)\n",
    "            reviews_per_second = i / elapsed_time if elapsed_time > 0 else 0\n",
    "            \n",
    "            sys.stdout.write(\"\\rProgress:\" + str(100 * i/float(len(training_reviews)))[:4] \\\n",
    "                             + \"% Speed(reviews/sec):\" + str(reviews_per_second)[0:5] \\\n",
    "                             + \" #Correct:\" + str(correct_so_far) + \" #Trained:\" + str(i+1) \\\n",
    "                             + \" Training Accuracy:\" + str(correct_so_far * 100 / float(i+1))[:4] + \"%\")\n",
    "                             \n",
    "            if(i % 2500 == 0):\n",
    "                print(\"\")           \n",
    "    \n",
    "    def test(self, testing_reviews, testing_labels):\n",
    "        \"\"\"\n",
    "        Attempts to predict the labels for the given testing_reviews,\n",
    "        and uses the test_labels to calculate the accuracy of those predictions.\n",
    "        \"\"\"\n",
    "        \n",
    "        # keep track of how many correct predictions we make\n",
    "        correct = 0\n",
    "\n",
    "        # we'll time how many predictions per second we make\n",
    "        start = time.time()\n",
    "\n",
    "        # Loop through each of the given reviews and call run to predict\n",
    "        # its label. \n",
    "        for i in range(len(testing_reviews)):\n",
    "            pred = self.run(testing_reviews[i])\n",
    "            if(pred == testing_labels[i]):\n",
    "                correct += 1\n",
    "            \n",
    "            # For debug purposes, print out our prediction accuracy and speed \n",
    "            # throughout the prediction process. \n",
    "\n",
    "            elapsed_time = float(time.time() - start)\n",
    "            reviews_per_second = i / elapsed_time if elapsed_time > 0 else 0\n",
    "            \n",
    "            sys.stdout.write(\"\\rProgress:\" + str(100 * i/float(len(testing_reviews)))[:4] \\\n",
    "                             + \"% Speed(reviews/sec):\" + str(reviews_per_second)[0:5] \\\n",
    "                             + \" #Correct:\" + str(correct) + \" #Tested:\" + str(i+1) \\\n",
    "                             + \" Testing Accuracy:\" + str(correct * 100 / float(i+1))[:4] + \"%\")\n",
    "    \n",
    "    def run(self, review):\n",
    "        \"\"\"\n",
    "        Returns a POSITIVE or NEGATIVE prediction for the given review.\n",
    "        \"\"\"\n",
    "        # Run a forward pass through the network, like you did in the\"train\" function.         \n",
    "        #       Note: The review passed into this function for prediction \n",
    "        #             might come from anywhere, so you should convert it \n",
    "        #             to lower case prior to using it.\n",
    "        # self.update_input_layer(review.lower())        \n",
    "        \n",
    "        # layer_1_output = np.dot(self.layer_0, self.weights_0_1) # Does not have activation\n",
    "        # optimized version\n",
    "        layer_0_indices = [self.word2index[word] for word in set(review.lower().split(' ')) if word in self.word2index]        \n",
    "        layer_1_input = np.zeros((1, self.hidden_nodes))\n",
    "        for index in layer_0_indices:\n",
    "            layer_1_input += self.weights_0_1[index]\n",
    "        layer_1_output = self.identity(layer_1_input)\n",
    "            \n",
    "        ''' s(1, n_hidden) '''\n",
    "        layer_2_output = self.sigmoid(np.dot(layer_1_output, self.weights_1_2))\n",
    "        ''' s(1, 1)'''\n",
    "        output = layer_2_output[0][0]\n",
    "        \n",
    "        # The output layer should now contain a prediction. \n",
    "        # Return `POSITIVE` for predictions greater-than-or-equal-to `0.5`, \n",
    "        # and `NEGATIVE` otherwise.\n",
    "        return 'POSITIVE' if output >= 0.5 else 'NEGATIVE'\n"
   ]
  },
  {
   "cell_type": "markdown",
   "metadata": {},
   "source": [
    "Run the following cell to train your network with a small polarity cutoff."
   ]
  },
  {
   "cell_type": "code",
   "execution_count": 168,
   "metadata": {
    "tags": []
   },
   "outputs": [
    {
     "name": "stdout",
     "output_type": "stream",
     "text": [
      "len(review_vocab):  12118\n",
      "Progress:0.0% Speed(reviews/sec):0.0 #Correct:0 #Trained:1 Training Accuracy:0.0%\n",
      "Progress:10.4% Speed(reviews/sec):915.2 #Correct:1960 #Trained:2501 Training Accuracy:78.3%\n",
      "Progress:20.8% Speed(reviews/sec):891.3 #Correct:4028 #Trained:5001 Training Accuracy:80.5%\n",
      "Progress:31.2% Speed(reviews/sec):892.8 #Correct:6154 #Trained:7501 Training Accuracy:82.0%\n",
      "Progress:41.6% Speed(reviews/sec):906.9 #Correct:8309 #Trained:10001 Training Accuracy:83.0%\n",
      "Progress:52.0% Speed(reviews/sec):913.8 #Correct:10466 #Trained:12501 Training Accuracy:83.7%\n",
      "Progress:62.5% Speed(reviews/sec):912.7 #Correct:12594 #Trained:15001 Training Accuracy:83.9%\n",
      "Progress:72.9% Speed(reviews/sec):896.7 #Correct:14735 #Trained:17501 Training Accuracy:84.1%\n",
      "Progress:83.3% Speed(reviews/sec):881.8 #Correct:16927 #Trained:20001 Training Accuracy:84.6%\n",
      "Progress:93.7% Speed(reviews/sec):877.8 #Correct:19126 #Trained:22501 Training Accuracy:85.0%\n",
      "Progress:99.9% Speed(reviews/sec):878.5 #Correct:20453 #Trained:24000 Training Accuracy:85.2%"
     ]
    }
   ],
   "source": [
    "mlp = SentimentNetwork(reviews[:-1000],labels[:-1000],min_count=20,polarity_cutoff=0.05,learning_rate=0.01)\n",
    "mlp.train(reviews[:-1000],labels[:-1000])"
   ]
  },
  {
   "cell_type": "markdown",
   "metadata": {},
   "source": [
    "And run the following cell to test it's performance. It should be "
   ]
  },
  {
   "cell_type": "code",
   "execution_count": 164,
   "metadata": {
    "tags": []
   },
   "outputs": [
    {
     "name": "stdout",
     "output_type": "stream",
     "text": [
      "Progress:99.9% Speed(reviews/sec):1794. #Correct:852 #Tested:1000 Testing Accuracy:85.2%"
     ]
    }
   ],
   "source": [
    "mlp.test(reviews[-1000:],labels[-1000:])"
   ]
  },
  {
   "cell_type": "markdown",
   "metadata": {},
   "source": [
    "Run the following cell to train your network with a much larger polarity cutoff."
   ]
  },
  {
   "cell_type": "code",
   "execution_count": 203,
   "metadata": {
    "tags": []
   },
   "outputs": [
    {
     "name": "stdout",
     "output_type": "stream",
     "text": [
      "len(review_vocab):  3640\n",
      "Progress:0.0% Speed(reviews/sec):0 #Correct:0 #Trained:1 Training Accuracy:0.0%\n",
      "Progress:10.4% Speed(reviews/sec):2634. #Correct:2044 #Trained:2501 Training Accuracy:81.7%\n",
      "Progress:20.8% Speed(reviews/sec):2604. #Correct:4088 #Trained:5001 Training Accuracy:81.7%\n",
      "Progress:31.2% Speed(reviews/sec):2576. #Correct:6137 #Trained:7501 Training Accuracy:81.8%\n",
      "Progress:41.6% Speed(reviews/sec):2595. #Correct:8219 #Trained:10001 Training Accuracy:82.1%\n",
      "Progress:52.0% Speed(reviews/sec):2593. #Correct:10322 #Trained:12501 Training Accuracy:82.5%\n",
      "Progress:62.5% Speed(reviews/sec):2608. #Correct:12426 #Trained:15001 Training Accuracy:82.8%\n",
      "Progress:72.9% Speed(reviews/sec):2607. #Correct:14528 #Trained:17501 Training Accuracy:83.0%\n",
      "Progress:83.3% Speed(reviews/sec):2590. #Correct:16678 #Trained:20001 Training Accuracy:83.3%\n",
      "Progress:93.7% Speed(reviews/sec):2583. #Correct:18832 #Trained:22501 Training Accuracy:83.6%\n",
      "Progress:99.9% Speed(reviews/sec):2586. #Correct:20113 #Trained:24000 Training Accuracy:83.8%"
     ]
    }
   ],
   "source": [
    "mlp = SentimentNetwork(reviews[:-1000],labels[:-1000],min_count=20,polarity_cutoff=0.8,learning_rate=0.01)\n",
    "mlp.train(reviews[:-1000],labels[:-1000])"
   ]
  },
  {
   "cell_type": "markdown",
   "metadata": {},
   "source": [
    "And run the following cell to test it's performance."
   ]
  },
  {
   "cell_type": "code",
   "execution_count": 166,
   "metadata": {
    "tags": []
   },
   "outputs": [
    {
     "name": "stdout",
     "output_type": "stream",
     "text": [
      "Progress:99.9% Speed(reviews/sec):3768. #Correct:822 #Tested:1000 Testing Accuracy:82.2%"
     ]
    }
   ],
   "source": [
    "mlp.test(reviews[-1000:],labels[-1000:])"
   ]
  },
  {
   "cell_type": "markdown",
   "metadata": {},
   "source": [
    "# Mi experimento: Usar activación sigmoidal en la capa oculta"
   ]
  },
  {
   "cell_type": "code",
   "execution_count": 208,
   "metadata": {},
   "outputs": [],
   "source": [
    "# TODO: -Copy the SentimentNetwork class from Project 5 lesson\n",
    "#       -Modify it according to the above instructions\n",
    "\n",
    "import time\n",
    "import sys\n",
    "import numpy as np\n",
    "\n",
    "# Encapsulate our neural network in a class\n",
    "class SentimentNetwork_Sigmoidal:\n",
    "    def __init__(self, reviews, labels, hidden_nodes = 10, learning_rate = 0.1, min_count=50, polarity_cutoff=0.8):\n",
    "        \"\"\"Create a SentimenNetwork with the given settings\n",
    "        Args:\n",
    "            reviews(list) - List of reviews used for training\n",
    "            labels(list) - List of POSITIVE/NEGATIVE labels associated with the given reviews\n",
    "            hidden_nodes(int) - Number of nodes to create in the hidden layer\n",
    "            learning_rate(float) - Learning rate to use while training\n",
    "        \n",
    "        \"\"\"\n",
    "        # Assign a seed to our random number generator to ensure we get\n",
    "        # reproducable results during development \n",
    "        np.random.seed(1)\n",
    "\n",
    "        # process the reviews and their associated labels so that everything\n",
    "        # is ready for training\n",
    "        self.pre_process_data(reviews, labels, min_count, polarity_cutoff)\n",
    "        \n",
    "        # Build the network to have the number of hidden nodes and the learning rate that\n",
    "        # were passed into this initializer. Make the same number of input nodes as\n",
    "        # there are vocabulary words and create a single output node.\n",
    "        self.init_network(len(self.review_vocab), hidden_nodes, 1, learning_rate)\n",
    "\n",
    "    def pre_process_data(self, reviews, labels, min_count, polarity_cutoff):\n",
    "        '''\n",
    "        Creates the review and label vocabs\n",
    "        \n",
    "        :param reviews: list of reviews (strings)\n",
    "        :param labels: list of reviews' corresponding labels (strings, i.e: 'POSITIVE')        \n",
    "        '''        \n",
    "                \n",
    "        np_reviews = np.array(reviews)        \n",
    "        mask_pos = np.array(labels) == 'POSITIVE'\n",
    "\n",
    "        pos_reviews_big_string = ' '.join(np_reviews[mask_pos])\n",
    "        neg_reviews_big_string = ' '.join(np_reviews[~mask_pos])\n",
    "        all_reviews_big_string = ' '.join(np_reviews)\n",
    "\n",
    "        # Create three Counter objects to store positive, negative and total counts\n",
    "        positive_counts = Counter(pos_reviews_big_string.split(' '))\n",
    "        negative_counts = Counter(neg_reviews_big_string.split(' '))\n",
    "        total_counts = Counter(all_reviews_big_string.split(' '))\n",
    "        total_counts_filtered = {word: count for (word, count) in total_counts.items() if count >= min_count}\n",
    "        \n",
    "        pos_neg_log_ratios = {word: np.log(positive_counts[word] + 0.01) - np.log(negative_counts[word] + 0.01) for word in total_counts_filtered}\n",
    "                \n",
    "        # Old way: includes all vocab\n",
    "        # review_vocab = set(' '.join(reviews).split(' '))\n",
    "        review_vocab = [word for (word, ratio) in pos_neg_log_ratios.items() if abs(ratio) >= polarity_cutoff]\n",
    "        print('len(review_vocab): ', len(review_vocab))\n",
    "        \n",
    "        # Convert the vocabulary set to a list so we can access words via indices\n",
    "        self.review_vocab = list(review_vocab)\n",
    "        \n",
    "        label_vocab = set(' '.join(labels).split(' '))\n",
    "        \n",
    "        # Convert the label vocabulary set to a list so we can access labels via indices\n",
    "        self.label_vocab = list(label_vocab)\n",
    "        \n",
    "        # Store the sizes of the review and label vocabularies.\n",
    "        self.review_vocab_size = len(self.review_vocab)\n",
    "        self.label_vocab_size = len(self.label_vocab)\n",
    "        \n",
    "        # Create a dictionary of words in the vocabulary mapped to index positions\n",
    "        self.word2index = {word: i for i, word in enumerate(self.review_vocab)}\n",
    "        \n",
    "        # Create a dictionary of labels mapped to index positions\n",
    "        self.label2index = {label: i for i, label in enumerate(self.label_vocab)}       \n",
    "        \n",
    "    def init_network(self, input_nodes, hidden_nodes, output_nodes, learning_rate):\n",
    "        '''\n",
    "        :param input_nodes int:\n",
    "        :param hidden_nodes int:\n",
    "        :param output_nodes int:\n",
    "        :param learning_rate float:\n",
    "        '''\n",
    "        # Store the number of nodes in input, hidden, and output layers.\n",
    "        self.input_nodes = input_nodes    # Aka ni in comments\n",
    "        self.hidden_nodes = hidden_nodes  # Aka nh in comments\n",
    "        self.output_nodes = output_nodes  # Aka no in comments\n",
    "\n",
    "        # Store the learning rate\n",
    "        self.learning_rate = learning_rate\n",
    "\n",
    "        # Initialize weights\n",
    "        \n",
    "        self.weights_0_1 = np.zeros((input_nodes, hidden_nodes))\n",
    "        \n",
    "        # initialize self.weights_1_2 as a matrix of random values. \n",
    "        #       These are the weights between the hidden layer and the output layer.\n",
    "        # self.weights_1_2 = np.random.rand(hidden_nodes, output_nodes)\n",
    "        self.weights_1_2 = np.random.normal(0.0, hidden_nodes**-0.5, (hidden_nodes, output_nodes))\n",
    "        \n",
    "        # Create the input layer, a two-dimensional matrix with shape \n",
    "        # 1 x input_nodes, with all values initialized to zero\n",
    "        # self.layer_0 = np.zeros((1, input_nodes))                                 \n",
    "        # self.layer_1 = np.zeros((1, hidden_nodes))                                 \n",
    "                \n",
    "    def get_target_for_label(self, label):\n",
    "        '''\n",
    "        :return: A numeric representation of the label (1=POSITIVE, 0=NEGATIVE)\n",
    "        '''\n",
    "        \n",
    "        return int(label == 'POSITIVE')\n",
    "        \n",
    "    def sigmoid(self, x):\n",
    "        return 1 / (1 + np.exp(-x))\n",
    "    \n",
    "    def sigmoid_output_2_derivative(self, output):\n",
    "        '''\n",
    "        Return the derivative of the sigmoid activation function, \n",
    "        where \"output\" is the original output from the sigmoid function \n",
    "        '''\n",
    "        return output * (1 - output)\n",
    "    \n",
    "    def identity(self, x):\n",
    "        return x\n",
    "    \n",
    "    def identity_output_2_derivative(self, output):\n",
    "        '''\n",
    "        Because we're using identity as activation function in hidden layer\n",
    "        '''\n",
    "        return 1  # Derivative of identity function is 1\n",
    "\n",
    "    def train(self, training_reviews, training_labels):\n",
    "        \n",
    "        # make sure out we have a matching number of reviews and labels\n",
    "        assert(len(training_reviews) == len(training_labels))                \n",
    "        \n",
    "        # Keep track of correct predictions to display accuracy during training \n",
    "        correct_so_far = 0\n",
    "        \n",
    "        # Remember when we started for printing time statistics\n",
    "        start = time.time()\n",
    "\n",
    "        # loop through all the given reviews and run a forward and backward pass,\n",
    "        # updating weights for every item\n",
    "        for i, (review, label) in enumerate(zip(training_reviews, training_labels)):\n",
    "            \n",
    "            # TODO: Get the next review and its correct label\n",
    "            # self.update_input_layer(review)\n",
    "            layer_0_indices = [self.word2index[word] for word in set(review.split(' ')) if word in self.word2index]            \n",
    "            \n",
    "            target = np.array([[self.get_target_for_label(label)]])\n",
    "            \"\"\"s(1, no)\"\"\"\n",
    "            \n",
    "            # Forward pass through the network. \n",
    "            # Do not use an activation function for the hidden layer,\n",
    "            # but use the sigmoid activation function for the output layer.\n",
    "            \n",
    "            # Commenting following line to implement the optimized matrix multiplication\n",
    "            #layer_1_input = np.dot(self.layer_0, self.weights_0_1)\n",
    "            # Optimized matrix mul\n",
    "            layer_1_input = np.zeros((1, self.hidden_nodes))\n",
    "            for index in layer_0_indices:\n",
    "                layer_1_input += self.weights_0_1[index]\n",
    "            \"\"\"s(1, nh) = (1, ni) x (ni, nh)\"\"\"\n",
    "            \n",
    "            layer_1_output = self.sigmoid(layer_1_input)  # Because it's instructing not to use activation (to remove non-linearity)\n",
    "            \n",
    "            layer_2_input = np.dot(layer_1_output, self.weights_1_2)\n",
    "            \"\"\"s(1, no) = (1, nh) x (nh, no)\"\"\" \n",
    "            \n",
    "            layer_2_output = self.sigmoid(layer_2_input)\n",
    "            # s(1, no) = (1, 1)\n",
    "            \n",
    "            output = layer_2_output  # Just convenience alias                        \n",
    "            \n",
    "            # Back propagation pass here.            \n",
    "            error = target - output\n",
    "            \"\"\"s(1, no)\"\"\"\n",
    "                      \n",
    "            output_error_term = error * self.sigmoid_output_2_derivative(output)\n",
    "            \"\"\"s(1, no)\"\"\"                        \n",
    "            \n",
    "            layer_1_error_term = np.dot(output_error_term, self.weights_1_2.T) * self.sigmoid_output_2_derivative(layer_1_output)\n",
    "            \"\"\"s(1, nh) = (1, no) x (no, nh) \n",
    "            Identity derivative is 1 but put to be more explicit\n",
    "            \"\"\"\n",
    "            \n",
    "            D_1_2 = np.dot(layer_1_output.T, output_error_term) / 1\n",
    "            \"\"\"s(nh, no) = (nh, 1) x (1, no)\"\"\"\n",
    "            \n",
    "            # Commenting following lines to implement the optimized weight update\n",
    "            # D_0_1 = np.dot(self.layer_0.T, layer_1_error_term) / 1            \n",
    "            \"\"\"s(ni, nh) = (ni, 1) x (1, nh)\"\"\"\n",
    "            # self.weights_0_1 += self.learning_rate * D_0_1\n",
    "            \n",
    "            self.weights_1_2 += self.learning_rate * D_1_2\n",
    "            \n",
    "            # optimized weight update\n",
    "            for index in layer_0_indices:\n",
    "                self.weights_0_1[index] += self.learning_rate * layer_1_error_term[0]\n",
    "            \n",
    "            # Keep track of correct predictions.\n",
    "            correct_so_far += abs(error[0][0]) < 0.5\n",
    "            \n",
    "            \n",
    "            # For debug purposes, print out our prediction accuracy and speed \n",
    "            # throughout the training process. \n",
    "\n",
    "            elapsed_time = float(time.time() - start)\n",
    "            reviews_per_second = i / elapsed_time if elapsed_time > 0 else 0\n",
    "            \n",
    "            sys.stdout.write(\"\\rProgress:\" + str(100 * i/float(len(training_reviews)))[:4] \\\n",
    "                             + \"% Speed(reviews/sec):\" + str(reviews_per_second)[0:5] \\\n",
    "                             + \" #Correct:\" + str(correct_so_far) + \" #Trained:\" + str(i+1) \\\n",
    "                             + \" Training Accuracy:\" + str(correct_so_far * 100 / float(i+1))[:4] + \"%\")\n",
    "                             \n",
    "            if(i % 2500 == 0):\n",
    "                print(\"\")           \n",
    "    \n",
    "    def test(self, testing_reviews, testing_labels):\n",
    "        \"\"\"\n",
    "        Attempts to predict the labels for the given testing_reviews,\n",
    "        and uses the test_labels to calculate the accuracy of those predictions.\n",
    "        \"\"\"\n",
    "        \n",
    "        # keep track of how many correct predictions we make\n",
    "        correct = 0\n",
    "\n",
    "        # we'll time how many predictions per second we make\n",
    "        start = time.time()\n",
    "\n",
    "        # Loop through each of the given reviews and call run to predict\n",
    "        # its label. \n",
    "        for i in range(len(testing_reviews)):\n",
    "            pred = self.run(testing_reviews[i])\n",
    "            if(pred == testing_labels[i]):\n",
    "                correct += 1\n",
    "            \n",
    "            # For debug purposes, print out our prediction accuracy and speed \n",
    "            # throughout the prediction process. \n",
    "\n",
    "            elapsed_time = float(time.time() - start)\n",
    "            reviews_per_second = i / elapsed_time if elapsed_time > 0 else 0\n",
    "            \n",
    "            sys.stdout.write(\"\\rProgress:\" + str(100 * i/float(len(testing_reviews)))[:4] \\\n",
    "                             + \"% Speed(reviews/sec):\" + str(reviews_per_second)[0:5] \\\n",
    "                             + \" #Correct:\" + str(correct) + \" #Tested:\" + str(i+1) \\\n",
    "                             + \" Testing Accuracy:\" + str(correct * 100 / float(i+1))[:4] + \"%\")\n",
    "    \n",
    "    def run(self, review):\n",
    "        \"\"\"\n",
    "        Returns a POSITIVE or NEGATIVE prediction for the given review.\n",
    "        \"\"\"\n",
    "        # Run a forward pass through the network, like you did in the\"train\" function.         \n",
    "        #       Note: The review passed into this function for prediction \n",
    "        #             might come from anywhere, so you should convert it \n",
    "        #             to lower case prior to using it.\n",
    "        # self.update_input_layer(review.lower())        \n",
    "        \n",
    "        # layer_1_output = np.dot(self.layer_0, self.weights_0_1) # Does not have activation\n",
    "        # optimized version\n",
    "        layer_0_indices = [self.word2index[word] for word in set(review.lower().split(' ')) if word in self.word2index]        \n",
    "        layer_1_input = np.zeros((1, self.hidden_nodes))\n",
    "        for index in layer_0_indices:\n",
    "            layer_1_input += self.weights_0_1[index]\n",
    "        layer_1_output = self.sigmoid(layer_1_input)\n",
    "            \n",
    "        ''' s(1, n_hidden) '''\n",
    "        layer_2_output = self.sigmoid(np.dot(layer_1_output, self.weights_1_2))\n",
    "        ''' s(1, 1)'''\n",
    "        output = layer_2_output[0][0]\n",
    "        \n",
    "        # The output layer should now contain a prediction. \n",
    "        # Return `POSITIVE` for predictions greater-than-or-equal-to `0.5`, \n",
    "        # and `NEGATIVE` otherwise.\n",
    "        return 'POSITIVE' if output >= 0.5 else 'NEGATIVE'\n"
   ]
  },
  {
   "cell_type": "code",
   "execution_count": 206,
   "metadata": {},
   "outputs": [
    {
     "name": "stdout",
     "output_type": "stream",
     "text": [
      "len(review_vocab):  3640\n",
      "Progress:0.0% Speed(reviews/sec):0 #Correct:0 #Trained:1 Training Accuracy:0.0%\n",
      "Progress:10.4% Speed(reviews/sec):2611. #Correct:1520 #Trained:2501 Training Accuracy:60.7%\n",
      "Progress:20.8% Speed(reviews/sec):2595. #Correct:3483 #Trained:5001 Training Accuracy:69.6%\n",
      "Progress:31.2% Speed(reviews/sec):2569. #Correct:5465 #Trained:7501 Training Accuracy:72.8%\n",
      "Progress:41.6% Speed(reviews/sec):2557. #Correct:7468 #Trained:10001 Training Accuracy:74.6%\n",
      "Progress:52.0% Speed(reviews/sec):2568. #Correct:9476 #Trained:12501 Training Accuracy:75.8%\n",
      "Progress:62.5% Speed(reviews/sec):2586. #Correct:11469 #Trained:15001 Training Accuracy:76.4%\n",
      "Progress:72.9% Speed(reviews/sec):2591. #Correct:13464 #Trained:17501 Training Accuracy:76.9%\n",
      "Progress:83.3% Speed(reviews/sec):2581. #Correct:15477 #Trained:20001 Training Accuracy:77.3%\n",
      "Progress:93.7% Speed(reviews/sec):2573. #Correct:17486 #Trained:22501 Training Accuracy:77.7%\n",
      "Progress:99.9% Speed(reviews/sec):2572. #Correct:18710 #Trained:24000 Training Accuracy:77.9%"
     ]
    }
   ],
   "source": [
    "mlp = SentimentNetwork_Sigmoidal(reviews[:-1000],labels[:-1000],min_count=20,polarity_cutoff=0.8,learning_rate=0.01)\n",
    "mlp.train(reviews[:-1000],labels[:-1000])"
   ]
  },
  {
   "cell_type": "code",
   "execution_count": 209,
   "metadata": {},
   "outputs": [
    {
     "name": "stdout",
     "output_type": "stream",
     "text": [
      "Progress:99.9% Speed(reviews/sec):3741. #Correct:764 #Tested:1000 Testing Accuracy:76.4%"
     ]
    }
   ],
   "source": [
    "mlp.test(reviews[-1000:],labels[-1000:])"
   ]
  },
  {
   "cell_type": "markdown",
   "metadata": {},
   "source": [
    "## Conclusión experimento: Bajó el accuracy a 77%"
   ]
  },
  {
   "cell_type": "markdown",
   "metadata": {},
   "source": [
    "# End of Project 6.\n",
    "## Watch the next video to see Andrew's solution, then continue on to the next lesson."
   ]
  },
  {
   "cell_type": "markdown",
   "metadata": {},
   "source": [
    "# Analysis: What's Going on in the Weights?<a id='lesson_7'></a>"
   ]
  },
  {
   "cell_type": "code",
   "execution_count": 169,
   "metadata": {
    "tags": []
   },
   "outputs": [
    {
     "name": "stdout",
     "output_type": "stream",
     "text": [
      "len(review_vocab):  72810\n"
     ]
    }
   ],
   "source": [
    "mlp_full = SentimentNetwork(reviews[:-1000],labels[:-1000],min_count=0,polarity_cutoff=0,learning_rate=0.01)"
   ]
  },
  {
   "cell_type": "code",
   "execution_count": 170,
   "metadata": {
    "tags": []
   },
   "outputs": [
    {
     "name": "stdout",
     "output_type": "stream",
     "text": [
      "Progress:0.0% Speed(reviews/sec):0.0 #Correct:0 #Trained:1 Training Accuracy:0.0%\n",
      "Progress:10.4% Speed(reviews/sec):719.0 #Correct:1943 #Trained:2501 Training Accuracy:77.6%\n",
      "Progress:20.8% Speed(reviews/sec):720.2 #Correct:4002 #Trained:5001 Training Accuracy:80.0%\n",
      "Progress:31.2% Speed(reviews/sec):720.8 #Correct:6118 #Trained:7501 Training Accuracy:81.5%\n",
      "Progress:41.6% Speed(reviews/sec):726.3 #Correct:8272 #Trained:10001 Training Accuracy:82.7%\n",
      "Progress:52.0% Speed(reviews/sec):726.3 #Correct:10432 #Trained:12501 Training Accuracy:83.4%\n",
      "Progress:62.5% Speed(reviews/sec):730.2 #Correct:12553 #Trained:15001 Training Accuracy:83.6%\n",
      "Progress:72.9% Speed(reviews/sec):731.4 #Correct:14677 #Trained:17501 Training Accuracy:83.8%\n",
      "Progress:83.3% Speed(reviews/sec):731.7 #Correct:16868 #Trained:20001 Training Accuracy:84.3%\n",
      "Progress:93.7% Speed(reviews/sec):729.3 #Correct:19049 #Trained:22501 Training Accuracy:84.6%\n",
      "Progress:99.9% Speed(reviews/sec):729.7 #Correct:20373 #Trained:24000 Training Accuracy:84.8%"
     ]
    }
   ],
   "source": [
    "mlp_full.train(reviews[:-1000],labels[:-1000])"
   ]
  },
  {
   "cell_type": "code",
   "execution_count": 171,
   "metadata": {
    "tags": []
   },
   "outputs": [
    {
     "data": {
      "image/png": "[encoded data removed]",
      "text/plain": [
       "<IPython.core.display.Image object>"
      ]
     },
     "execution_count": 171,
     "metadata": {},
     "output_type": "execute_result"
    }
   ],
   "source": [
    "Image(filename='sentiment_network_sparse.png')"
   ]
  },
  {
   "cell_type": "code",
   "execution_count": 173,
   "metadata": {
    "tags": []
   },
   "outputs": [],
   "source": [
    "def get_most_similar_words(focus = \"horrible\"):\n",
    "    most_similar = Counter()\n",
    "\n",
    "    for word in mlp_full.word2index.keys():\n",
    "        most_similar[word] = np.dot(mlp_full.weights_0_1[mlp_full.word2index[word]],mlp_full.weights_0_1[mlp_full.word2index[focus]])\n",
    "    \n",
    "    return most_similar.most_common()"
   ]
  },
  {
   "cell_type": "code",
   "execution_count": 196,
   "metadata": {},
   "outputs": [],
   "source": [
    "def get_most_similar_words_yo(focus = \"horrible\"):\n",
    "    \"\"\" My implementation (Edgarin's) uses euclidean distance between weights (np.linalg.norm(a-b)) instead of dot product\"\"\"\n",
    "    most_similar = Counter()\n",
    "\n",
    "    for word in mlp_full.word2index.keys():\n",
    "        word_weights = mlp_full.weights_0_1[mlp_full.word2index[word]]\n",
    "        focus_weights = mlp_full.weights_0_1[mlp_full.word2index[focus]]\n",
    "        most_similar[word] = -np.linalg.norm(word_weights - focus_weights) # Negative because I want lower scores for most similar\n",
    "    \n",
    "    return most_similar.most_common()"
   ]
  },
  {
   "cell_type": "code",
   "execution_count": 183,
   "metadata": {
    "tags": []
   },
   "outputs": [
    {
     "data": {
      "text/plain": [
       "[('excellent', 0.14660809065567867),\n",
       " ('perfect', 0.1252662735844794),\n",
       " ('great', 0.10713868923526688),\n",
       " ('amazing', 0.10165619345416502),\n",
       " ('wonderful', 0.09706521876360932),\n",
       " ('best', 0.09633584659210817),\n",
       " ('today', 0.09062129241360575),\n",
       " ('fun', 0.08856844988594424),\n",
       " ('loved', 0.07910638697206204),\n",
       " ('definitely', 0.07691091698161268),\n",
       " ('superb', 0.07625261018425639),\n",
       " ('favorite', 0.07421414380924657),\n",
       " ('liked', 0.07309620138898561),\n",
       " ('highly', 0.07303203507414303),\n",
       " ('job', 0.07223219355737712),\n",
       " ('enjoyable', 0.07139077485296327),\n",
       " ('fantastic', 0.071372919421981),\n",
       " ('brilliant', 0.07014809981083883),\n",
       " ('enjoyed', 0.0700755117094597),\n",
       " ('beautiful', 0.06537602848214631),\n",
       " ('bit', 0.06337484480718464),\n",
       " ('perfectly', 0.06330012094588983),\n",
       " ('simple', 0.06215249402622904),\n",
       " ('especially', 0.06105517211951694),\n",
       " ('rare', 0.057421238877737826),\n",
       " ('incredible', 0.05717795369660565),\n",
       " ('very', 0.05685178291127866),\n",
       " ('love', 0.0562103379459723),\n",
       " ('always', 0.056051745040948495),\n",
       " ('surprised', 0.055275229539559184)]"
      ]
     },
     "execution_count": 183,
     "metadata": {},
     "output_type": "execute_result"
    }
   ],
   "source": [
    "get_most_similar_words(\"excellent\")[:30]"
   ]
  },
  {
   "cell_type": "code",
   "execution_count": 184,
   "metadata": {},
   "outputs": [
    {
     "data": {
      "text/plain": [
       "[('excellent', -0.0),\n",
       " ('perfect', -0.055738133856095835),\n",
       " ('great', -0.10308169975647093),\n",
       " ('amazing', -0.11740025954419027),\n",
       " ('wonderful', -0.12939044580520304),\n",
       " ('best', -0.1312953372017704),\n",
       " ('today', -0.1462199607549878),\n",
       " ('fun', -0.15158134171006568),\n",
       " ('loved', -0.1762932829421217),\n",
       " ('definitely', -0.18202716210510297),\n",
       " ('superb', -0.18374645302897374),\n",
       " ('favorite', -0.18907028798137698),\n",
       " ('liked', -0.19199000302044944),\n",
       " ('highly', -0.19215758531364482),\n",
       " ('job', -0.1942465205423758),\n",
       " ('enjoyable', -0.19644404234753327),\n",
       " ('fantastic', -0.19649067513418064),\n",
       " ('brilliant', -0.1996895198814511),\n",
       " ('enjoyed', -0.1998790972401892),\n",
       " ('beautiful', -0.21215267377327446),\n",
       " ('bit', -0.21737913800420322),\n",
       " ('perfectly', -0.21757429329811284),\n",
       " ('simple', -0.22057153494119827),\n",
       " ('especially', -0.22343739566502976),\n",
       " ('rare', -0.23292808976941032),\n",
       " ('incredible', -0.23356347437353805),\n",
       " ('very', -0.23441533018468347),\n",
       " ('love', -0.23609058329074695),\n",
       " ('always', -0.23650477822735208),\n",
       " ('surprised', -0.23853279321845508)]"
      ]
     },
     "execution_count": 184,
     "metadata": {},
     "output_type": "execute_result"
    }
   ],
   "source": [
    "get_most_similar_words_yo('excellent')[:30]"
   ]
  },
  {
   "cell_type": "code",
   "execution_count": 185,
   "metadata": {
    "tags": []
   },
   "outputs": [
    {
     "data": {
      "text/plain": [
       "[('worst', 0.17615579852418914),\n",
       " ('awful', 0.12575196125185906),\n",
       " ('waste', 0.11991666736024727),\n",
       " ('poor', 0.1018459206865821),\n",
       " ('boring', 0.09740082138736943),\n",
       " ('terrible', 0.09719201719001996),\n",
       " ('bad', 0.08194195157424215),\n",
       " ('dull', 0.0812879868188303),\n",
       " ('worse', 0.07505502158320541),\n",
       " ('poorly', 0.07495944377181996),\n",
       " ('annoying', 0.0743979398253195),\n",
       " ('stupid', 0.07426584328733314),\n",
       " ('unfortunately', 0.07334568638877409),\n",
       " ('disappointing', 0.07184347946941995),\n",
       " ('nothing', 0.07096306592213651),\n",
       " ('fails', 0.0699365388036573),\n",
       " ('horrible', 0.06705521767527381),\n",
       " ('mess', 0.06600134753888898),\n",
       " ('disappointment', 0.06549661129048737),\n",
       " ('supposed', 0.06247782574684838),\n",
       " ('badly', 0.06098641679355292),\n",
       " ('save', 0.06095285949526357),\n",
       " ('wasted', 0.06033795328339324),\n",
       " ('ridiculous', 0.06005541702141826),\n",
       " ('oh', 0.0586524059352219),\n",
       " ('minutes', 0.05842679650457269),\n",
       " ('avoid', 0.057527670138266145),\n",
       " ('script', 0.057222057075560336),\n",
       " ('crap', 0.05678439074852305),\n",
       " ('lame', 0.056322520308351644),\n",
       " ('laughable', 0.056042988518526245),\n",
       " ('disappointed', 0.054042512930052584),\n",
       " ('unless', 0.052908250724798045),\n",
       " ('cheap', 0.05182811604112446),\n",
       " ('effort', 0.05107341689876474),\n",
       " ('pointless', 0.05042191416273648),\n",
       " ('predictable', 0.0488413686575801),\n",
       " ('instead', 0.048429885591215006),\n",
       " ('lacks', 0.04693088192120596),\n",
       " ('seems', 0.04678352741486821),\n",
       " ('basically', 0.04670143363386031),\n",
       " ('silly', 0.04646953926689289),\n",
       " ('looks', 0.04581297971610293),\n",
       " ('guess', 0.04562872656850131),\n",
       " ('pathetic', 0.044831769277266044),\n",
       " ('money', 0.04457274835334099),\n",
       " ('attempt', 0.04441574598101513),\n",
       " ('redeeming', 0.04375585184361713),\n",
       " ('wonder', 0.04370742774032659),\n",
       " ('wooden', 0.04228554096020975),\n",
       " ('none', 0.04222251660562477),\n",
       " ('weak', 0.04171316222241855),\n",
       " ('might', 0.04077005633283537),\n",
       " ('reason', 0.0405969987351837),\n",
       " ('flat', 0.040323318915224456),\n",
       " ('someone', 0.04012073474787498),\n",
       " ('idea', 0.04003536864632949),\n",
       " ('sorry', 0.039381615915695174),\n",
       " ('mediocre', 0.039315963995159284),\n",
       " ('failed', 0.03893713276642359),\n",
       " ('couldn', 0.038660435445249),\n",
       " ('garbage', 0.03804213191662323),\n",
       " ('bored', 0.03771240171512948),\n",
       " ('painful', 0.036976251555017166),\n",
       " ('hoping', 0.036769920870167505),\n",
       " ('either', 0.03653808959965777),\n",
       " ('slow', 0.03646280308476092),\n",
       " ('trying', 0.03610332007056266),\n",
       " ('unfunny', 0.036099327002913836),\n",
       " ('decent', 0.03570080010711339),\n",
       " ('problem', 0.03542138592322209),\n",
       " ('no', 0.03532206162455016),\n",
       " ('forgettable', 0.03501325628829888),\n",
       " ('horror', 0.03450561490710441),\n",
       " ('neither', 0.03446934047167),\n",
       " ('sadly', 0.03287456256168975),\n",
       " ('half', 0.032819337189106845),\n",
       " ('wasn', 0.03244979986432699),\n",
       " ('lack', 0.032421827417677705),\n",
       " ('making', 0.032371225041314906),\n",
       " ('even', 0.032236788065997335),\n",
       " ('interest', 0.03207690604875538),\n",
       " ('bland', 0.0313791340953759),\n",
       " ('didn', 0.03131063501950879),\n",
       " ('skip', 0.030948759467151317),\n",
       " ('premise', 0.030930042225199576),\n",
       " ('entire', 0.03043555987660761),\n",
       " ('thin', 0.030229494150424696),\n",
       " ('was', 0.029984493086982422),\n",
       " ('total', 0.029843640128948024),\n",
       " ('something', 0.029269647912902114),\n",
       " ('uninteresting', 0.02925981715617043),\n",
       " ('nowhere', 0.02915050632346284),\n",
       " ('apparently', 0.029091440047526337),\n",
       " ('dumb', 0.02905662059516052),\n",
       " ('fake', 0.028983572040507975),\n",
       " ('tries', 0.028898109890533638),\n",
       " ('bunch', 0.02875628509425385),\n",
       " ('insult', 0.02867883742197548),\n",
       " ('ok', 0.02859723413767206),\n",
       " ('were', 0.02854433416899087),\n",
       " ('then', 0.028530851592074604),\n",
       " ('honestly', 0.028483672069247096),\n",
       " ('tedious', 0.028459843778149373),\n",
       " ('sex', 0.028392199413895647),\n",
       " ('writing', 0.028372250155709895),\n",
       " ('barely', 0.02836008269249675),\n",
       " ('plot', 0.028168093315100354),\n",
       " ('t', 0.02810080374890605),\n",
       " ('clich', 0.028013881004934606),\n",
       " ('wrong', 0.028012466779147215),\n",
       " ('least', 0.027995980941847517),\n",
       " ('absurd', 0.027832132167440477),\n",
       " ('gore', 0.027715421385127656),\n",
       " ('anything', 0.02763233710196376),\n",
       " ('result', 0.02761824147231404),\n",
       " ('lousy', 0.02760524256292509),\n",
       " ('group', 0.027584371922240628),\n",
       " ('laughs', 0.02724232593138562),\n",
       " ('material', 0.027212149776908924),\n",
       " ('dreadful', 0.027144249293161386),\n",
       " ('alright', 0.026960297183392795),\n",
       " ('believe', 0.026852830035721014),\n",
       " ('embarrassing', 0.026784148538002914),\n",
       " ('scenes', 0.02667206172288394),\n",
       " ('looked', 0.026649093424572806),\n",
       " ('mst', 0.02662590680573792),\n",
       " ('mildly', 0.02651550240933129),\n",
       " ('daughter', 0.026241509786557093),\n",
       " ('been', 0.02611164602189454),\n",
       " ('re', 0.026049653700999334),\n",
       " ('ludicrous', 0.02601553067393023),\n",
       " ('incoherent', 0.02585081558383608),\n",
       " ('to', 0.025815316077526743),\n",
       " ('pretentious', 0.025809680303544618),\n",
       " ('left', 0.02580091633718398),\n",
       " ('excuse', 0.025740720850536917),\n",
       " ('k', 0.02558316965895508),\n",
       " ('director', 0.025533155982357853),\n",
       " ('endless', 0.025461970608375305),\n",
       " ('any', 0.02542230527555723),\n",
       " ('original', 0.02514673520878681),\n",
       " ('falls', 0.025091389529809407),\n",
       " ('unconvincing', 0.02504047577265536),\n",
       " ('turkey', 0.024947868375326383),\n",
       " ('enough', 0.02472262942898754),\n",
       " ('rent', 0.02472060721222588),\n",
       " ('complete', 0.02465438253810592),\n",
       " ('so', 0.024614716652405482),\n",
       " ('bizarre', 0.024521143075933664),\n",
       " ('obvious', 0.024463116018062794),\n",
       " ('dimensional', 0.024413328542691966),\n",
       " ('paid', 0.02438047961166679),\n",
       " ('nudity', 0.02435032657429124),\n",
       " ('appears', 0.02421799408506886),\n",
       " ('miscast', 0.024140786249105733),\n",
       " ('tried', 0.024107614464628856),\n",
       " ('m', 0.024035610542596154),\n",
       " ('watching', 0.023844703144008543),\n",
       " ('unbelievable', 0.023786919010691),\n",
       " ('confusing', 0.02378274412066435),\n",
       " ('bother', 0.023725773891997034),\n",
       " ('obnoxious', 0.02371032211149719),\n",
       " ('sucks', 0.02363893779824896),\n",
       " ('ugly', 0.023470986091720773),\n",
       " ('stay', 0.023451239446313096),\n",
       " ('okay', 0.023408575577893654),\n",
       " ('sequel', 0.023388916425152204),\n",
       " ('crappy', 0.023332839506074846),\n",
       " ('body', 0.02331091454088204),\n",
       " ('rubbish', 0.023166169532419203),\n",
       " ('camera', 0.023095656903050675),\n",
       " ('accent', 0.02294850211414822),\n",
       " ('such', 0.022856593348753788),\n",
       " ('positive', 0.02270315050900994),\n",
       " ('f', 0.022702379654301743),\n",
       " ('just', 0.02268828044409674),\n",
       " ('except', 0.022686019400733583),\n",
       " ('amateurish', 0.022657428894497875),\n",
       " ('why', 0.022653885984438717),\n",
       " ('seem', 0.022339510198232507),\n",
       " ('seemed', 0.022233774334683168),\n",
       " ('joke', 0.022224925632577004),\n",
       " ('stupidity', 0.02219678347754582),\n",
       " ('below', 0.022148648969580458),\n",
       " ('however', 0.02207416258313235),\n",
       " ('otherwise', 0.02187357936069508),\n",
       " ('potential', 0.02180904948812095),\n",
       " ('major', 0.02179897326114003),\n",
       " ('christmas', 0.02172758783839928),\n",
       " ('attempts', 0.021713787371172216),\n",
       " ('actor', 0.021677223242618067),\n",
       " ('storyline', 0.021510160120610987),\n",
       " ('soap', 0.021496015544847),\n",
       " ('seconds', 0.021492272080042892),\n",
       " ('production', 0.021338951814415273),\n",
       " ('start', 0.02131578807636665),\n",
       " ('care', 0.02129530329781704),\n",
       " ('through', 0.021174889680681278),\n",
       " ('please', 0.02111203299960922),\n",
       " ('trash', 0.02107484907100585),\n",
       " ('dialog', 0.021044268075619665),\n",
       " ('zombie', 0.0210204885970988),\n",
       " ('maybe', 0.021005148480466907),\n",
       " ('unwatchable', 0.020961343157736005),\n",
       " ('wouldn', 0.02089785928839745),\n",
       " ('blame', 0.02078185449029178),\n",
       " ('vampire', 0.0207659243922192),\n",
       " ('trite', 0.020579881434499646),\n",
       " ('whatsoever', 0.020551510041752326),\n",
       " ('walked', 0.020502921292223884),\n",
       " ('am', 0.020500218544595446),\n",
       " ('irritating', 0.020458414124121003),\n",
       " ('miserably', 0.020413716189408168),\n",
       " ('mother', 0.02026186183378473),\n",
       " ('grade', 0.020242118747762886),\n",
       " ('saving', 0.02024208872894976),\n",
       " ('paper', 0.02021212207347097),\n",
       " ('disgusting', 0.020165763977274286),\n",
       " ('far', 0.02015969510911774),\n",
       " ('forced', 0.02011680744275993),\n",
       " ('appeal', 0.02010775285630418),\n",
       " ('revenge', 0.02010296436963141),\n",
       " ('sat', 0.020084300142570004),\n",
       " ('painfully', 0.02006908346515562),\n",
       " ('tired', 0.020054174358188515),\n",
       " ('acts', 0.02004176297703531),\n",
       " ('make', 0.02003911825719754),\n",
       " ('plain', 0.01998392137457211),\n",
       " ('uninspired', 0.019964113047475775),\n",
       " ('god', 0.019907810920449843),\n",
       " ('clichs', 0.01986797481730675),\n",
       " ('talents', 0.019817775874464653),\n",
       " ('utter', 0.01981592919989554),\n",
       " ('example', 0.019781879627408915),\n",
       " ('straight', 0.019670862592332666),\n",
       " ('supposedly', 0.019496830711880894),\n",
       " ('female', 0.01947892844997501),\n",
       " ('seriously', 0.019453299390219187),\n",
       " ('dialogue', 0.01932825960051538),\n",
       " ('editing', 0.01930418924266424),\n",
       " ('over', 0.019250779378788926),\n",
       " ('not', 0.019207979585121195),\n",
       " ('effects', 0.019184874645116604),\n",
       " ('christian', 0.01915679433550225),\n",
       " ('hopes', 0.01915500685644057),\n",
       " ('context', 0.01913625641773334),\n",
       " ('value', 0.01906801058936122),\n",
       " ('offensive', 0.019056873542739217),\n",
       " ('acting', 0.018940458727606913),\n",
       " ('wasting', 0.01890357986235919),\n",
       " ('ruined', 0.018901789270595937),\n",
       " ('inept', 0.018886384965109006),\n",
       " ('too', 0.018801992161287386),\n",
       " ('lines', 0.01875297319841957),\n",
       " ('actors', 0.018727306425824194),\n",
       " ('makers', 0.018686362927214106),\n",
       " ('remotely', 0.01867762861231727),\n",
       " ('running', 0.018578755692004564),\n",
       " ('disaster', 0.018553076114334828),\n",
       " ('brain', 0.018512439374475824),\n",
       " ('interesting', 0.01849826358217762),\n",
       " ('sleep', 0.018471193357709092),\n",
       " ('aren', 0.018406098764934615),\n",
       " ('cut', 0.018270528752276534),\n",
       " ('zombies', 0.01819216471282997),\n",
       " ('appalling', 0.018161574909362488),\n",
       " ('college', 0.018113711071018453),\n",
       " ('terribly', 0.018083416216279503),\n",
       " ('talent', 0.018083207168720503),\n",
       " ('tiresome', 0.018053613215946885),\n",
       " ('co', 0.0180170420212407),\n",
       " ('merely', 0.017999761849367052),\n",
       " ('lee', 0.017992922591836606),\n",
       " ('atrocious', 0.017991592297499897),\n",
       " ('contrived', 0.017975877202022768),\n",
       " ('completely', 0.01797375886843358),\n",
       " ('unrealistic', 0.01787842001155871),\n",
       " ('victims', 0.017795541292629998),\n",
       " ('drivel', 0.01778886635527869),\n",
       " ('should', 0.017763812766813207),\n",
       " ('children', 0.01768028798688963),\n",
       " ('continuity', 0.017665282135141066),\n",
       " ('women', 0.017550836746582355),\n",
       " ('doing', 0.017492428461400023),\n",
       " ('ridiculously', 0.017484054023852457),\n",
       " ('junk', 0.017439659578681377),\n",
       " ('nor', 0.017417306603016075),\n",
       " ('starts', 0.017412068553270103),\n",
       " ('army', 0.017411451437017608),\n",
       " ('sense', 0.017384669685592897),\n",
       " ('propaganda', 0.017380145269354653),\n",
       " ('pile', 0.017322082381546165),\n",
       " ('shots', 0.01726721291293404),\n",
       " ('don', 0.017257215340191853),\n",
       " ('boredom', 0.017231310375731432),\n",
       " ('desperately', 0.01718870283866109),\n",
       " ('where', 0.0171865386787776),\n",
       " ('rented', 0.01718269198322962),\n",
       " ('theater', 0.017163169914871487),\n",
       " ('pseudo', 0.017113232353635224),\n",
       " ('looking', 0.017075234689306464),\n",
       " ('sucked', 0.01704378880721787),\n",
       " ('mean', 0.017027284130364324),\n",
       " ('sub', 0.0170041256108003),\n",
       " ('scott', 0.01695950214048309),\n",
       " ('credibility', 0.01691925778856695),\n",
       " ('pass', 0.016913116950640576),\n",
       " ('shame', 0.016893533803053484),\n",
       " ('fest', 0.0168918111598056),\n",
       " ('said', 0.01688158684090344),\n",
       " ('on', 0.016842237848327002),\n",
       " ('unintentional', 0.01684022630672953),\n",
       " ('disjointed', 0.016825681171756427),\n",
       " ('write', 0.0167938648885095),\n",
       " ('bottom', 0.016792232160120102),\n",
       " ('flashbacks', 0.016754453582769894),\n",
       " ('existent', 0.01675430968080373),\n",
       " ('embarrassed', 0.01673923809598793),\n",
       " ('made', 0.01673728797450059),\n",
       " ('dire', 0.016726557968402056),\n",
       " ('stinks', 0.016688156212014492),\n",
       " ('asleep', 0.016668205364913515),\n",
       " ('totally', 0.016659573292275374),\n",
       " ('three', 0.01663483470848301),\n",
       " ('generous', 0.016615066485907343),\n",
       " ('flop', 0.016580185745680837),\n",
       " ('producers', 0.01657565610675835),\n",
       " ('earth', 0.016565030301722832),\n",
       " ('advice', 0.016502923354974528),\n",
       " ('stinker', 0.016472629808879802),\n",
       " ('nobody', 0.01645386164388689),\n",
       " ('utterly', 0.016451054891304988),\n",
       " ('plastic', 0.016312610135686013),\n",
       " ('guy', 0.01631113263606564),\n",
       " ('paint', 0.016267225762502356),\n",
       " ('screenwriter', 0.016265093640788684),\n",
       " ('christ', 0.01625135918621279),\n",
       " ('downhill', 0.016206811314817732),\n",
       " ('sloppy', 0.016154679821108762),\n",
       " ('blah', 0.016130872820944404),\n",
       " ('exception', 0.016129458905994747),\n",
       " ('nonsense', 0.016105653524567803),\n",
       " ('unable', 0.016080639661126887),\n",
       " ('frankly', 0.01604760247757489),\n",
       " ('spend', 0.015971764806280778),\n",
       " ('thrown', 0.01594832886771744),\n",
       " ('suck', 0.015925852464460755),\n",
       " ('convince', 0.015868211505356052),\n",
       " ('development', 0.015752876993064338),\n",
       " ('fail', 0.015734432331386203),\n",
       " ('biggest', 0.015710087006700336),\n",
       " ('self', 0.015689637993621722),\n",
       " ('explanation', 0.015663742627686474),\n",
       " ('ashamed', 0.015644426781488273),\n",
       " ('saying', 0.015575464965848829),\n",
       " ('writer', 0.015569783055412406),\n",
       " ('exist', 0.015554329136001731),\n",
       " ('stick', 0.015533222384053991),\n",
       " ('old', 0.015531159857909883),\n",
       " ('low', 0.015514968204927156),\n",
       " ('shoot', 0.015492296531467857),\n",
       " ('cult', 0.01548849676229188),\n",
       " ('monsters', 0.015471028998673694),\n",
       " ('one', 0.015466617178528727),\n",
       " ('island', 0.015409629291418729),\n",
       " ('shallow', 0.015383565663783797),\n",
       " ('spends', 0.015343167905801808),\n",
       " ('this', 0.01533691391845278),\n",
       " ('ms', 0.01533004973095498),\n",
       " ('excited', 0.015328160587958014),\n",
       " ('saved', 0.015328078298119838),\n",
       " ('version', 0.015302517077464712),\n",
       " ('thinking', 0.015292884742190814),\n",
       " ('career', 0.015241553982463081),\n",
       " ('aged', 0.015184131238133277),\n",
       " ('fell', 0.015155200428095974),\n",
       " ('simply', 0.015148640842619535),\n",
       " ('call', 0.015137130196831291),\n",
       " ('opera', 0.015085684204441398),\n",
       " ('fill', 0.015075218431927322),\n",
       " ('writers', 0.015064899580421317),\n",
       " ('mistake', 0.01506102022154179),\n",
       " ('yeah', 0.014995077083514547),\n",
       " ('obviously', 0.014934986694502604),\n",
       " ('gun', 0.014934145228194515),\n",
       " ('let', 0.014915028534211715),\n",
       " ('animal', 0.014887153778843506),\n",
       " ('hunter', 0.014884970350666807),\n",
       " ('substance', 0.014861286069090021),\n",
       " ('book', 0.014858524755245265),\n",
       " ('happens', 0.01482358201505017),\n",
       " ('bothered', 0.01470163181576004),\n",
       " ('only', 0.014682208546170887),\n",
       " ('deserve', 0.014605131980084644),\n",
       " ('woman', 0.014561552430341051),\n",
       " ('tripe', 0.014547464797496667),\n",
       " ('cardboard', 0.014546918727776094),\n",
       " ('thing', 0.014546548382916006),\n",
       " ('naturally', 0.014527196154864306),\n",
       " ('random', 0.014504525473362782),\n",
       " ('synopsis', 0.014498647916011177),\n",
       " ('did', 0.014480545784740699),\n",
       " ('cheese', 0.014462559983296134),\n",
       " ('handed', 0.01444025821327128),\n",
       " ('doesn', 0.014412624797016977),\n",
       " ('actress', 0.014390811223812144),\n",
       " ('promising', 0.014384539510059875),\n",
       " ('hand', 0.014348455684539635),\n",
       " ('thats', 0.014343629902078102),\n",
       " ('rating', 0.014309764882364072),\n",
       " ('walk', 0.01424946210736864),\n",
       " ('insulting', 0.014217520263924024),\n",
       " ('priest', 0.014162377083655043),\n",
       " ('watchable', 0.014161855626249501),\n",
       " ('costs', 0.014147606022437552),\n",
       " ('ill', 0.014018714645197565),\n",
       " ('somewhere', 0.014012921707902859),\n",
       " ('unbearable', 0.013931531235370305),\n",
       " ('spent', 0.013928149493776767),\n",
       " ('company', 0.013771580741706625),\n",
       " ('explained', 0.013767671754962237),\n",
       " ('sexual', 0.013764957778661067),\n",
       " ('fat', 0.013763788649342775),\n",
       " ('presumably', 0.013760432698349666),\n",
       " ('quickly', 0.013752897612554176),\n",
       " ('santa', 0.013744669040124221),\n",
       " ('elsewhere', 0.013687331327122122),\n",
       " ('hideous', 0.013623424569819211),\n",
       " ('inane', 0.013606308095967962),\n",
       " ('somehow', 0.01360413722567025),\n",
       " ('sign', 0.01359434119351026),\n",
       " ('awfully', 0.01355508148344586),\n",
       " ('here', 0.013513743496994668),\n",
       " ('useless', 0.013501809356169332),\n",
       " ('church', 0.013462255531264245),\n",
       " ('destroy', 0.013436512658555845),\n",
       " ('year', 0.013433976853017568),\n",
       " ('spending', 0.013390763075352953),\n",
       " ('empty', 0.013359024617116695),\n",
       " ('hated', 0.0133089720439295),\n",
       " ('five', 0.01328025723004255),\n",
       " ('downright', 0.013279178704474417),\n",
       " ('had', 0.013268460005063919),\n",
       " ('much', 0.013248563955572721),\n",
       " ('alas', 0.013232180843415273),\n",
       " ('entirely', 0.01322482651181131),\n",
       " ('imdb', 0.013203037123598153),\n",
       " ('dreck', 0.013188123258236983),\n",
       " ('murray', 0.013181906298830176),\n",
       " ('vampires', 0.013159080477468107),\n",
       " ('horrid', 0.013144793151281073),\n",
       " ('gay', 0.013141673676709379),\n",
       " ('tolerable', 0.013128182840283092),\n",
       " ('middle', 0.013118450943247413),\n",
       " ('cannot', 0.013115181827266852),\n",
       " ('soldiers', 0.013089511440076378),\n",
       " ('failure', 0.013057090068171429),\n",
       " ('cop', 0.013040506508530635),\n",
       " ('apparent', 0.013013526822966127),\n",
       " ('grave', 0.012997052119695141),\n",
       " ('mike', 0.012981360735353428),\n",
       " ('screaming', 0.01293593850753495),\n",
       " ('hype', 0.01293428450501331),\n",
       " ('lacking', 0.012928389154295582),\n",
       " ('raped', 0.012926966460884884),\n",
       " ('read', 0.012926555368640878),\n",
       " ('jokes', 0.012925377334469395),\n",
       " ('started', 0.012911149058341202),\n",
       " ('outer', 0.012888218960110241),\n",
       " ('mostly', 0.012795667730298948),\n",
       " ('stereotyped', 0.012771572132794428),\n",
       " ('devoid', 0.012757854784253515),\n",
       " ('unbelievably', 0.012756726992661947),\n",
       " ('ripped', 0.012745824714603815),\n",
       " ('missing', 0.012744064592622577),\n",
       " ('hair', 0.012716155219042926),\n",
       " ('cover', 0.012711412689913642),\n",
       " ('lady', 0.012705740834624923),\n",
       " ('aspects', 0.012689832476192982),\n",
       " ('proof', 0.01268199736787373),\n",
       " ('flimsy', 0.012679142864825818),\n",
       " ('else', 0.01264005657571475),\n",
       " ('adequate', 0.012624093259963168),\n",
       " ('flick', 0.012582277562458914),\n",
       " ('mouth', 0.01257848927315241),\n",
       " ('wood', 0.01255930280652204),\n",
       " ('holes', 0.01254068746520434),\n",
       " ('embarrassment', 0.012529496205634627),\n",
       " ('minute', 0.012527242225742618),\n",
       " ('intelligence', 0.012516804051964727),\n",
       " ('gratuitous', 0.012512821185901631),\n",
       " ('clumsy', 0.012493820771065272),\n",
       " ('down', 0.012464939595952906),\n",
       " ('slasher', 0.012458506967651087),\n",
       " ('giving', 0.012445946729669432),\n",
       " ('stilted', 0.012439096039004349),\n",
       " ('your', 0.0124347542865372),\n",
       " ('baldwin', 0.01241229669844659),\n",
       " ('throw', 0.012353720895131766),\n",
       " ('wrote', 0.012345476235831857),\n",
       " ('torture', 0.012341309348963428),\n",
       " ('l', 0.012330804631838442),\n",
       " ('candy', 0.01232133067280094),\n",
       " ('worthless', 0.012310318571129903),\n",
       " ('errors', 0.012286412221928531),\n",
       " ('smoking', 0.012268672155056644),\n",
       " ('better', 0.012260253851787537),\n",
       " ('would', 0.012259965136936921),\n",
       " ('porn', 0.01224705951917542),\n",
       " ('remake', 0.0122208938383799),\n",
       " ('wanted', 0.012198977222956021),\n",
       " ('unlikeable', 0.012177058967916607),\n",
       " ('footage', 0.012175447680487757),\n",
       " ('movie', 0.012162966563789136),\n",
       " ('affair', 0.012152841438180769),\n",
       " ('incomprehensible', 0.01214467750791841),\n",
       " ('bore', 0.012128803048706973),\n",
       " ('concept', 0.01212031803975113),\n",
       " ('charles', 0.012086457172775194),\n",
       " ('promise', 0.012049842917402276),\n",
       " ('indulgent', 0.012049023552170746),\n",
       " ('want', 0.012031629278186021),\n",
       " ('generic', 0.012026068239167648),\n",
       " ('rotten', 0.012018321256598461),\n",
       " ('cartoon', 0.012002428177197206),\n",
       " ('sick', 0.01200143262929237),\n",
       " ('lackluster', 0.011995856664437726),\n",
       " ('surely', 0.011990420733714237),\n",
       " ('amateur', 0.011986426033577195),\n",
       " ('turned', 0.011974008350871264),\n",
       " ('demon', 0.01195402779190853),\n",
       " ('stock', 0.011918146333039671),\n",
       " ('solely', 0.011915081418093764),\n",
       " ('hospital', 0.011837157670561363),\n",
       " ('caricatures', 0.011823800206823921),\n",
       " ('excitement', 0.011805209360000785),\n",
       " ('or', 0.011757762971987879),\n",
       " ('b', 0.011749180191744785),\n",
       " ('air', 0.011736603578923978),\n",
       " ('mental', 0.011721362255192574),\n",
       " ('unimaginative', 0.01168462823140443),\n",
       " ('presence', 0.011675231301827172),\n",
       " ('annie', 0.01164599330851503),\n",
       " ('renting', 0.011629098634631366),\n",
       " ('regarding', 0.01160215798159536),\n",
       " ('dozen', 0.011599568038426414),\n",
       " ('elvis', 0.0115775541809195),\n",
       " ('horribly', 0.011556282609265526),\n",
       " ('overrated', 0.01153465749146269),\n",
       " ('giant', 0.011515568553498171),\n",
       " ('catholic', 0.011508616401074177),\n",
       " ('her', 0.011505170188012422),\n",
       " ('racist', 0.011499263304480442),\n",
       " ('basketball', 0.011481385472338054),\n",
       " ('ignorant', 0.011448776311623202),\n",
       " ('already', 0.011430713132373005),\n",
       " ('another', 0.011430187089856643),\n",
       " ('promptly', 0.011412005237287574),\n",
       " ('gang', 0.011407778773744857),\n",
       " ('scientist', 0.011389075256239709),\n",
       " ('pregnant', 0.011385437636457198),\n",
       " ('teeth', 0.011360510811972879),\n",
       " ('stereotypical', 0.011346353481204224),\n",
       " ('non', 0.01133449978738287),\n",
       " ('muddled', 0.011304892115476958),\n",
       " ('behave', 0.011286887066740352),\n",
       " ('scenario', 0.011285118984974214),\n",
       " ('unpleasant', 0.01124948951667938),\n",
       " ('lost', 0.01124905179203953),\n",
       " ('incredibly', 0.011237768653840899),\n",
       " ('dry', 0.01122531991053505),\n",
       " ('bomb', 0.011221619310106665),\n",
       " ('shelf', 0.011219031222601265),\n",
       " ('rest', 0.01120464270679349),\n",
       " ('hell', 0.011185479397148352),\n",
       " ('superficial', 0.011164040935990695),\n",
       " ('stereotypes', 0.011155145845917704),\n",
       " ('playing', 0.011150544008146544),\n",
       " ('wanders', 0.011143177491931819),\n",
       " ('clichd', 0.011135962404923039),\n",
       " ('interview', 0.011134983895824952),\n",
       " ('meaning', 0.01113140577183009),\n",
       " ('forward', 0.011050456869944235),\n",
       " ('romance', 0.011049027110724974),\n",
       " ('opportunity', 0.011014649499940502),\n",
       " ('could', 0.011000762311823332),\n",
       " ('putting', 0.01099136731861459),\n",
       " ('harold', 0.010984218947033777),\n",
       " ('rape', 0.010973783343722258),\n",
       " ('implausible', 0.010935785306979138),\n",
       " ('furthermore', 0.010915523711610494),\n",
       " ('mention', 0.010897873956222213),\n",
       " ('haired', 0.010886962074158422),\n",
       " ('blood', 0.010883426312483258),\n",
       " ('box', 0.010864921115807712),\n",
       " ('therefore', 0.010864684733800404),\n",
       " ('plodding', 0.01084895748904098),\n",
       " ('lazy', 0.010842029485480367),\n",
       " ('heads', 0.010830774590087253),\n",
       " ('meaningless', 0.010825817005088615),\n",
       " ('drop', 0.010806620763446063),\n",
       " ('creatures', 0.010803261793872476),\n",
       " ('c', 0.010790828226375664),\n",
       " ('songs', 0.01078354589047194),\n",
       " ('absolutely', 0.010761477242282822),\n",
       " ('decided', 0.0107343948073898),\n",
       " ('suddenly', 0.010716054426959212),\n",
       " ('button', 0.010712166802035135),\n",
       " ('scenery', 0.01069303420673662),\n",
       " ('hollow', 0.01066409508203928),\n",
       " ('ability', 0.010639764583625432),\n",
       " ('defense', 0.010620360599523433),\n",
       " ('public', 0.010618711913343053),\n",
       " ('slightest', 0.010590715177085156),\n",
       " ('lowest', 0.010566271926531848),\n",
       " ('inexplicably', 0.01055673128035116),\n",
       " ('calls', 0.0105544666572895),\n",
       " ('sad', 0.010533666869458494),\n",
       " ('claus', 0.010525505218772779),\n",
       " ('flesh', 0.010510787196880015),\n",
       " ('ends', 0.010505728126625627),\n",
       " ('at', 0.010503277488169057),\n",
       " ('stuff', 0.010494366173476722),\n",
       " ('peter', 0.010484234241976694),\n",
       " ('name', 0.010474888726223599),\n",
       " ('saves', 0.010456178496009164),\n",
       " ('exact', 0.0104389249744579),\n",
       " ('project', 0.01043706030624612),\n",
       " ('produce', 0.010424760525149714),\n",
       " ('favor', 0.010408000677464656),\n",
       " ('accents', 0.01040548950232892),\n",
       " ('topless', 0.010395170884812281),\n",
       " ('sitting', 0.010390021207569794),\n",
       " ('of', 0.010376885020649781),\n",
       " ('technically', 0.010374536950699368),\n",
       " ('headache', 0.0103641506524825),\n",
       " ('paying', 0.010364007431532823),\n",
       " ('boat', 0.01034985194353551),\n",
       " ('sit', 0.010343269625217599),\n",
       " ('hanks', 0.010318542420425882),\n",
       " ('cheated', 0.010304967063952914),\n",
       " ('anti', 0.010303520096708452),\n",
       " ('jewish', 0.010298843482231982),\n",
       " ('research', 0.01028951944558338),\n",
       " ('wears', 0.010281541190860234),\n",
       " ('ruins', 0.01027538499412087),\n",
       " ('celluloid', 0.01026061654890657),\n",
       " ('mix', 0.010259872922871708),\n",
       " ('rescue', 0.010251871299714643),\n",
       " ('artsy', 0.010250916085140857),\n",
       " ('suppose', 0.010246218642197772),\n",
       " ('tom', 0.010217749470441968),\n",
       " ('martin', 0.010217680844054144),\n",
       " ('unnecessary', 0.010202387462126771),\n",
       " ('talented', 0.010201915951902561),\n",
       " ('root', 0.010191188584184644),\n",
       " ('historically', 0.010187825489746408),\n",
       " ('hardly', 0.010182148000348817),\n",
       " ('depressing', 0.010179992517475108),\n",
       " ('nose', 0.01017878175951458),\n",
       " ('manipulative', 0.010175463969928245),\n",
       " ('whiny', 0.01016790337229056),\n",
       " ('villain', 0.010154445570901824),\n",
       " ('found', 0.01015339022204388),\n",
       " ('hours', 0.010133854191471154),\n",
       " ('sleeve', 0.010133840842471526),\n",
       " ('stomach', 0.0101052074234295),\n",
       " ('idiotic', 0.01010369314500401),\n",
       " ('shower', 0.010077639310242754),\n",
       " ('difficult', 0.010071638295143244),\n",
       " ('wannabe', 0.010065651318534237),\n",
       " ('creepy', 0.010057466008164742),\n",
       " ('named', 0.010050913462261698),\n",
       " ('gave', 0.010023380426231202),\n",
       " ('hoped', 0.009998923177443093),\n",
       " ('names', 0.009978439393378287),\n",
       " ('retarded', 0.009975177110831178),\n",
       " ('coherent', 0.009967862604347111),\n",
       " ('spit', 0.009958339369319225),\n",
       " ('vulgar', 0.009942193468069307),\n",
       " ('worthy', 0.009941345004737067),\n",
       " ('semi', 0.00990735773140171),\n",
       " ('author', 0.009884986288522529),\n",
       " ('unintentionally', 0.009856969420165208),\n",
       " ('aka', 0.00985659358956125),\n",
       " ('further', 0.009851717714306115),\n",
       " ('nut', 0.009834500213238864),\n",
       " ('phony', 0.009808654460677642),\n",
       " ('backdrop', 0.009804272729642299),\n",
       " ('insipid', 0.009788092813251908),\n",
       " ('planet', 0.009775341091379435),\n",
       " ('dear', 0.009761000921453131),\n",
       " ('risk', 0.009702452376281553),\n",
       " ('piece', 0.009674195215813657),\n",
       " ('bo', 0.009661416307530148),\n",
       " ('severely', 0.009658107517068103),\n",
       " ('turn', 0.009655408487208889),\n",
       " ('programming', 0.00965082289180199),\n",
       " ('ideas', 0.009644830095262364),\n",
       " ('grace', 0.009641855327353758),\n",
       " ('off', 0.009598063050225208),\n",
       " ('damme', 0.00956465347373477),\n",
       " ('nerd', 0.009515433190096036),\n",
       " ('seagal', 0.009513374866146002),\n",
       " ('theatre', 0.009494789653647577),\n",
       " ('they', 0.009493391643643597),\n",
       " ('vague', 0.009490390776345479),\n",
       " ('zero', 0.009464040816768386),\n",
       " ('execution', 0.009463460580826286),\n",
       " ('swear', 0.009450279397879513),\n",
       " ('costume', 0.009449674662502698),\n",
       " ('flies', 0.009446863335988756),\n",
       " ('stuck', 0.00944130641791081),\n",
       " ('screenplay', 0.009440950172158185),\n",
       " ('sequels', 0.009435752114069466),\n",
       " ('warn', 0.009432654361202253),\n",
       " ('kareena', 0.009426834029071261),\n",
       " ('g', 0.009395561246950797),\n",
       " ('blatant', 0.009395333057273298),\n",
       " ('mansion', 0.00939348162154942),\n",
       " ('comes', 0.00938887916338624),\n",
       " ('proper', 0.009386017484709807),\n",
       " ('ads', 0.00937959001394064),\n",
       " ('mercifully', 0.009371108808968034),\n",
       " ('arty', 0.009365147006714418),\n",
       " ('killer', 0.009356374019620632),\n",
       " ('christians', 0.009352394775801761),\n",
       " ('dysfunctional', 0.009352037214808224),\n",
       " ('jaws', 0.009337910918438195),\n",
       " ('ho', 0.00932634890850605),\n",
       " ('abysmal', 0.009310859466578652),\n",
       " ('allow', 0.009298859761875002),\n",
       " ('attractive', 0.009281640222266414),\n",
       " ('thousands', 0.009279695374886557),\n",
       " ('talking', 0.009268836193236098),\n",
       " ('originality', 0.009267316141224252),\n",
       " ('string', 0.009258021232385878),\n",
       " ('lies', 0.009257366863735704),\n",
       " ('die', 0.009256732926588993),\n",
       " ('escapes', 0.00923664338544572),\n",
       " ('shoddy', 0.00921585003254647),\n",
       " ('faith', 0.009213639471862763),\n",
       " ('enemy', 0.009201903911119306),\n",
       " ('wondering', 0.009193834289984118),\n",
       " ('sort', 0.009178154820998808),\n",
       " ('hanging', 0.009173416170412476),\n",
       " ('yawn', 0.00917169803187842),\n",
       " ('move', 0.009156693253518566),\n",
       " ('somebody', 0.009150748350556194),\n",
       " ('ups', 0.009133190077339055),\n",
       " ('mannered', 0.009131544256432715),\n",
       " ('because', 0.009129202890784827),\n",
       " ('killing', 0.009113248766138561),\n",
       " ('connect', 0.00910174532021056),\n",
       " ('introduction', 0.009094575809298892),\n",
       " ('if', 0.00909400300275613),\n",
       " ('gag', 0.00909046537516615),\n",
       " ('four', 0.009088631383065371),\n",
       " ('couple', 0.009074480728961092),\n",
       " ('angry', 0.009074086943336031),\n",
       " ('pacing', 0.009061979159686711),\n",
       " ('decide', 0.009061834737418015),\n",
       " ('male', 0.009038334259429397),\n",
       " ('unoriginal', 0.009036550132359331),\n",
       " ('desert', 0.00903428580877919),\n",
       " ('whats', 0.009030191358330608),\n",
       " ('main', 0.008998486145619333),\n",
       " ('boom', 0.00898927918752783),\n",
       " ('interspersed', 0.008985490579114384),\n",
       " ('leonard', 0.008970091270618886),\n",
       " ('struggling', 0.008959614393680107),\n",
       " ('evidence', 0.008947649261435407),\n",
       " ('cameo', 0.008908885679484434),\n",
       " ('throws', 0.00890690479436162),\n",
       " ('clue', 0.008903451116248587),\n",
       " ('dressed', 0.008902239726493604),\n",
       " ('channel', 0.008901612595420957),\n",
       " ('pack', 0.008897900660615502),\n",
       " ('walking', 0.008897867782210972),\n",
       " ('asking', 0.008893957135276683),\n",
       " ('reasonable', 0.008886471794421615),\n",
       " ('rip', 0.00888115820673926),\n",
       " ('changed', 0.008875520910208424),\n",
       " ('comedian', 0.008874815377507866),\n",
       " ('prove', 0.008871612089090309),\n",
       " ('saturday', 0.00887159352266219),\n",
       " ('unappealing', 0.008859202438104181),\n",
       " ('held', 0.008856755174535514),\n",
       " ('chick', 0.00885048667992968),\n",
       " ('members', 0.008827811457848007),\n",
       " ('mile', 0.00881548265780318),\n",
       " ('maker', 0.008814420334115098),\n",
       " ('anil', 0.008812090766535973),\n",
       " ('j', 0.008808295099827284),\n",
       " ('try', 0.008804668159787168),\n",
       " ('ed', 0.00879686344905842),\n",
       " ('naked', 0.008792465547018723),\n",
       " ('scary', 0.008786695156452029),\n",
       " ('feeble', 0.008766269054843965),\n",
       " ('monster', 0.00876598672594328),\n",
       " ('inaccurate', 0.008748169659803367),\n",
       " ('bed', 0.008738516738058534),\n",
       " ('acceptable', 0.00872019590787106),\n",
       " ('crazed', 0.008719219218804851),\n",
       " ('sticking', 0.008707896521541305),\n",
       " ('anywhere', 0.008703927426830713),\n",
       " ('embarrassingly', 0.008703783456345843),\n",
       " ('whatever', 0.00870247782117416),\n",
       " ('meat', 0.008687030770119649),\n",
       " ('education', 0.008685045228299505),\n",
       " ('expected', 0.008679482112065734),\n",
       " ('mummy', 0.008678835468445526),\n",
       " ('monkey', 0.00866832115492335),\n",
       " ('lifeless', 0.008644898334324141),\n",
       " ('awake', 0.008643980273157265),\n",
       " ('conceived', 0.008643784192101787),\n",
       " ('letters', 0.008639632871597906),\n",
       " ('replaced', 0.008630220296282331),\n",
       " ('overacting', 0.00861878619589816),\n",
       " ('dogs', 0.00860589984980547),\n",
       " ('word', 0.008583489319101505),\n",
       " ('ali', 0.008583137817148178),\n",
       " ('doctors', 0.008564629461914375),\n",
       " ('dig', 0.008556321434566461),\n",
       " ('industry', 0.008542358718314264),\n",
       " ('curiosity', 0.00854180816083255),\n",
       " ('billed', 0.008533242790557234),\n",
       " ('cgi', 0.008529109867767592),\n",
       " ('sea', 0.008507456557372848),\n",
       " ('experiment', 0.00850606848723449),\n",
       " ('godzilla', 0.008489218687562654),\n",
       " ('significant', 0.00848320888111336),\n",
       " ('wretched', 0.008482616260135292),\n",
       " ('rental', 0.008480172221570229),\n",
       " ('claims', 0.008464243406705025),\n",
       " ('olds', 0.00845802733802218),\n",
       " ('assume', 0.00845607083479983),\n",
       " ('direction', 0.008455819868501769),\n",
       " ('stale', 0.008452047469207628),\n",
       " ('birthday', 0.008449245664465196),\n",
       " ('improve', 0.008420378724495295),\n",
       " ('par', 0.00841665501316488),\n",
       " ('display', 0.008410595394538716),\n",
       " ('segal', 0.00838759560537667),\n",
       " ('jesus', 0.008381906698334668),\n",
       " ('average', 0.008378491336628232),\n",
       " ('incompetent', 0.008377625749801398),\n",
       " ('chose', 0.008372931180488425),\n",
       " ('line', 0.008370907356692658),\n",
       " ('shambles', 0.008364948454534395),\n",
       " ('served', 0.008360774391343868),\n",
       " ('hackneyed', 0.008340679046467013),\n",
       " ('bachelor', 0.00832722291640332),\n",
       " ('inappropriate', 0.008311775358692123),\n",
       " ('do', 0.008311216202988813),\n",
       " ('pitiful', 0.008303537019770902),\n",
       " ('stevens', 0.00828286148763067),\n",
       " ('mediocrity', 0.008277203343266948),\n",
       " ('scientific', 0.008272716245270206),\n",
       " ('act', 0.008272018038689327),\n",
       " ('overlong', 0.008271908625998498),\n",
       " ('foot', 0.008265978283575795),\n",
       " ('ended', 0.00826025045552436),\n",
       " ('literary', 0.008258619167952917),\n",
       " ('types', 0.008253250234143712),\n",
       " ('strictly', 0.008248671225273544),\n",
       " ('secondly', 0.008242639915904742),\n",
       " ('dopey', 0.00821239203728141),\n",
       " ('moronic', 0.008212173644893937),\n",
       " ('younger', 0.008202068916285192),\n",
       " ('shark', 0.008183927552103641),\n",
       " ('diane', 0.008172723553782358),\n",
       " ('kills', 0.008166572654794112),\n",
       " ('routine', 0.008161277394564357),\n",
       " ('populated', 0.008159258984869803),\n",
       " ('drinking', 0.008130496282360834),\n",
       " ('sadistic', 0.008127268310675225),\n",
       " ('parking', 0.008118086108111435),\n",
       " ('hum', 0.008114132267345637),\n",
       " ('voodoo', 0.008103368771130255),\n",
       " ('predictably', 0.008098976220349793),\n",
       " ('bear', 0.008096370312022623),\n",
       " ('engage', 0.008092957189168947),\n",
       " ('ham', 0.008089398203871119),\n",
       " ('lacked', 0.008079779453707471),\n",
       " ('ta', 0.008071747739246524),\n",
       " ('broken', 0.008064966152597271),\n",
       " ('arab', 0.00806160770865042),\n",
       " ('throwing', 0.008058532473904471),\n",
       " ('hackman', 0.00804905078623878),\n",
       " ('less', 0.008031315006799105),\n",
       " ('bin', 0.00802982257571107),\n",
       " ('sheer', 0.008014832874357797),\n",
       " ('sean', 0.008013695656300864),\n",
       " ('killed', 0.00799955948396503),\n",
       " ('felt', 0.007998394171654445),\n",
       " ('review', 0.007977086988738882),\n",
       " ('selfish', 0.007962089006666211),\n",
       " ('blatantly', 0.007945911617542064),\n",
       " ('aliens', 0.00794363068619443),\n",
       " ('rush', 0.007941700958826221),\n",
       " ('stereotype', 0.007940127109029476),\n",
       " ('pie', 0.007936914464260406),\n",
       " ('moon', 0.007925485783127014),\n",
       " ('drive', 0.00792288131481843),\n",
       " ('forwarding', 0.007921169265667969),\n",
       " ('ultimately', 0.007916932893315458),\n",
       " ('horrendous', 0.007898225282533112),\n",
       " ('senseless', 0.00789706940857072),\n",
       " ('have', 0.007863970486571396),\n",
       " ('ponderous', 0.007857356931731388),\n",
       " ('invested', 0.0078124673129171636),\n",
       " ('wandering', 0.007811041762395231),\n",
       " ('virtually', 0.007808321416538033),\n",
       " ('crawl', 0.00778133188644278),\n",
       " ('halfway', 0.007778572103976991),\n",
       " ('wrestling', 0.007773656550751097),\n",
       " ('embarrass', 0.007770733141917322),\n",
       " ('barrel', 0.00776740515363718),\n",
       " ('spacey', 0.007764698037139646),\n",
       " ('mindless', 0.007762850305410323),\n",
       " ('mason', 0.007761796587628901),\n",
       " ('holiday', 0.007761401976817152),\n",
       " ('imitation', 0.007752569065831648),\n",
       " ('staff', 0.007751760397642538),\n",
       " ('sexually', 0.007735966425568727),\n",
       " ('feed', 0.007730532157735631),\n",
       " ('capitalize', 0.007730357377679876),\n",
       " ('kidding', 0.007706804955762815),\n",
       " ('susan', 0.007703331576288999),\n",
       " ('illogical', 0.007696380546501088),\n",
       " ('attempting', 0.007695620471113306),\n",
       " ('intent', 0.007687680885532489),\n",
       " ('incapable', 0.007686688518394401),\n",
       " ('unsympathetic', 0.0076832784106616505),\n",
       " ('weekend', 0.007682700753093064),\n",
       " ('hill', 0.007678793438706928),\n",
       " ('wow', 0.007678472663848773),\n",
       " ('spare', 0.0076700747036423135),\n",
       " ('simpson', 0.007668578826924105),\n",
       " ('empathy', 0.007665984925545481),\n",
       " ('add', 0.007665123070362888),\n",
       " ('disturbing', 0.007660454354879265),\n",
       " ('insomnia', 0.007655037742436468),\n",
       " ('franchise', 0.00764760537113317),\n",
       " ('inexplicable', 0.007646715167304867),\n",
       " ('bits', 0.007635524272273506),\n",
       " ('murdered', 0.007631177111425404),\n",
       " ('according', 0.007625477760075885),\n",
       " ('credit', 0.007621609201260737),\n",
       " ('steaming', 0.007607137046130452),\n",
       " ('store', 0.007603273406548619),\n",
       " ('van', 0.00758445171841742),\n",
       " ('preposterous', 0.007580027858702007),\n",
       " ('sounds', 0.00757704098929188),\n",
       " ('cinematography', 0.007574577294175897),\n",
       " ('charisma', 0.007569219108296276),\n",
       " ('boyfriend', 0.0075647907177211204),\n",
       " ('player', 0.007564735194711983),\n",
       " ('shock', 0.007558848237630774),\n",
       " ('expects', 0.00755763309669427),\n",
       " ('hopefully', 0.007556464467316749),\n",
       " ('dying', 0.007547025759524542),\n",
       " ('crow', 0.007546454790469177),\n",
       " ('potentially', 0.007542596833446995),\n",
       " ('appalled', 0.007541761187259157),\n",
       " ('bible', 0.007541407513933062),\n",
       " ('sitcom', 0.007538864956785729),\n",
       " ('screw', 0.007522392004762105),\n",
       " ('annoyed', 0.0075165382307756864),\n",
       " ('subplot', 0.007513160873163215),\n",
       " ('believer', 0.0075038385182006),\n",
       " ('possible', 0.007485251066598757),\n",
       " ('quality', 0.007482093170760147),\n",
       " ('security', 0.007479483801438464),\n",
       " ('saif', 0.007479442012793269),\n",
       " ('common', 0.007478671234206963),\n",
       " ('hurts', 0.007473193308270129),\n",
       " ('apes', 0.0074727696960294075),\n",
       " ('hopelessly', 0.007472409814669651),\n",
       " ('mcdowell', 0.007447065878057891),\n",
       " ('toilet', 0.007427494619799776),\n",
       " ('phrase', 0.007418040126445698),\n",
       " ('unlikable', 0.007410951875812854),\n",
       " ('ad', 0.007389998403220394),\n",
       " ('talk', 0.007378815172854086),\n",
       " ('fall', 0.007376299209795967),\n",
       " ('literally', 0.007366290436251688),\n",
       " ('promised', 0.007364404659312054),\n",
       " ('near', 0.007360526555953808),\n",
       " ('entitled', 0.007358160631764656),\n",
       " ('resurrection', 0.007357333777830655),\n",
       " ('vacuous', 0.007357117113288526),\n",
       " ('refer', 0.007356618896162286),\n",
       " ('profile', 0.007352881668049186),\n",
       " ('destroying', 0.007351783821573871),\n",
       " ('girls', 0.007345095003679647),\n",
       " ('letdown', 0.007333009567024664),\n",
       " ('turgid', 0.007325961522369657),\n",
       " ...]"
      ]
     },
     "execution_count": 185,
     "metadata": {},
     "output_type": "execute_result"
    }
   ],
   "source": [
    "get_most_similar_words(\"terrible\")"
   ]
  },
  {
   "cell_type": "code",
   "execution_count": 188,
   "metadata": {
    "tags": []
   },
   "outputs": [],
   "source": [
    "import matplotlib.colors as colors\n",
    "\n",
    "words_to_visualize = list()\n",
    "for word, ratio in pos_neg_ratios.most_common(500):\n",
    "    if(word in mlp_full.word2index.keys()):\n",
    "        words_to_visualize.append(word)\n",
    "    \n",
    "for word, ratio in list(reversed(pos_neg_ratios.most_common()))[0:500]:\n",
    "    if(word in mlp_full.word2index.keys()):\n",
    "        words_to_visualize.append(word)"
   ]
  },
  {
   "cell_type": "code",
   "execution_count": 189,
   "metadata": {
    "tags": []
   },
   "outputs": [],
   "source": [
    "pos = 0\n",
    "neg = 0\n",
    "\n",
    "colors_list = list()\n",
    "vectors_list = list()\n",
    "for word in words_to_visualize:\n",
    "    if word in pos_neg_ratios.keys():\n",
    "        vectors_list.append(mlp_full.weights_0_1[mlp_full.word2index[word]])\n",
    "        if(pos_neg_ratios[word] > 0):\n",
    "            pos+=1\n",
    "            colors_list.append(\"#00ff00\")\n",
    "        else:\n",
    "            neg+=1\n",
    "            colors_list.append(\"#000000\")"
   ]
  },
  {
   "cell_type": "code",
   "execution_count": 190,
   "metadata": {
    "tags": []
   },
   "outputs": [],
   "source": [
    "from sklearn.manifold import TSNE\n",
    "tsne = TSNE(n_components=2, random_state=0)\n",
    "words_top_ted_tsne = tsne.fit_transform(vectors_list)"
   ]
  },
  {
   "cell_type": "code",
   "execution_count": 198,
   "metadata": {
    "tags": []
   },
   "outputs": [
    {
     "data": {
      "text/html": [
       "\n",
       "\n",
       "\n",
       "\n",
       "\n",
       "\n",
       "  <div class=\"bk-root\" id=\"a6392ef8-c215-4cf7-b803-d710cce482ee\" data-root-id=\"1411\"></div>\n"
      ]
     },
     "metadata": {},
     "output_type": "display_data"
    },
    {
     "data": {
      "application/javascript": [
       "(function(root) {\n",
       "  function embed_document(root) {\n",
       "    \n",
       "  var docs_json = {\"18c00c8a-b9ec-4919-8664-f17b3e9c2704\":{\"defs\":[],\"roots\":{\"references\":[{\"attributes\":{\"below\":[{\"id\":\"1422\"}],\"center\":[{\"id\":\"1425\"},{\"id\":\"1429\"},{\"id\":\"1445\"}],\"left\":[{\"id\":\"1426\"}],\"renderers\":[{\"id\":\"1443\"}],\"title\":{\"id\":\"1412\"},\"toolbar\":{\"id\":\"1434\"},\"toolbar_location\":\"above\",\"x_range\":{\"id\":\"1414\"},\"x_scale\":{\"id\":\"1418\"},\"y_range\":{\"id\":\"1416\"},\"y_scale\":{\"id\":\"1420\"}},\"id\":\"1411\",\"subtype\":\"Figure\",\"type\":\"Plot\"},{\"attributes\":{\"fill_color\":{\"field\":\"color\"},\"line_color\":{\"value\":\"#1f77b4\"},\"size\":{\"value\":8},\"x\":{\"field\":\"x1\"},\"y\":{\"field\":\"x2\"}},\"id\":\"1441\",\"type\":\"Scatter\"},{\"attributes\":{},\"id\":\"1418\",\"type\":\"LinearScale\"},{\"attributes\":{},\"id\":\"1432\",\"type\":\"ResetTool\"},{\"attributes\":{},\"id\":\"1420\",\"type\":\"LinearScale\"},{\"attributes\":{\"axis\":{\"id\":\"1426\"},\"dimension\":1,\"ticker\":null},\"id\":\"1429\",\"type\":\"Grid\"},{\"attributes\":{\"source\":{\"id\":\"1439\"},\"text\":{\"field\":\"names\"},\"text_align\":{\"value\":\"center\"},\"text_color\":{\"value\":\"#555555\"},\"text_font_size\":{\"value\":\"8pt\"},\"x\":{\"field\":\"x1\"},\"y\":{\"field\":\"x2\"},\"y_offset\":{\"value\":6}},\"id\":\"1445\",\"type\":\"LabelSet\"},{\"attributes\":{},\"id\":\"1488\",\"type\":\"AllLabels\"},{\"attributes\":{},\"id\":\"1491\",\"type\":\"Selection\"},{\"attributes\":{},\"id\":\"1489\",\"type\":\"BasicTickFormatter\"},{\"attributes\":{\"axis\":{\"id\":\"1422\"},\"ticker\":null},\"id\":\"1425\",\"type\":\"Grid\"},{\"attributes\":{},\"id\":\"1423\",\"type\":\"BasicTicker\"},{\"attributes\":{\"text\":\"vector T-SNE for most polarized words\"},\"id\":\"1412\",\"type\":\"Title\"},{\"attributes\":{},\"id\":\"1414\",\"type\":\"DataRange1d\"},{\"attributes\":{\"formatter\":{\"id\":\"1489\"},\"major_label_policy\":{\"id\":\"1488\"},\"ticker\":{\"id\":\"1427\"}},\"id\":\"1426\",\"type\":\"LinearAxis\"},{\"attributes\":{\"formatter\":{\"id\":\"1486\"},\"major_label_policy\":{\"id\":\"1485\"},\"ticker\":{\"id\":\"1423\"}},\"id\":\"1422\",\"type\":\"LinearAxis\"},{\"attributes\":{},\"id\":\"1431\",\"type\":\"WheelZoomTool\"},{\"attributes\":{},\"id\":\"1485\",\"type\":\"AllLabels\"},{\"attributes\":{\"source\":{\"id\":\"1439\"}},\"id\":\"1444\",\"type\":\"CDSView\"},{\"attributes\":{\"data_source\":{\"id\":\"1439\"},\"glyph\":{\"id\":\"1441\"},\"hover_glyph\":null,\"muted_glyph\":null,\"nonselection_glyph\":{\"id\":\"1442\"},\"view\":{\"id\":\"1444\"}},\"id\":\"1443\",\"type\":\"GlyphRenderer\"},{\"attributes\":{\"active_multi\":null,\"tools\":[{\"id\":\"1430\"},{\"id\":\"1431\"},{\"id\":\"1432\"},{\"id\":\"1433\"}]},\"id\":\"1434\",\"type\":\"Toolbar\"},{\"attributes\":{},\"id\":\"1486\",\"type\":\"BasicTickFormatter\"},{\"attributes\":{\"data\":{\"color\":[\"#00ff00\",\"#00ff00\",\"#00ff00\",\"#00ff00\",\"#00ff00\",\"#00ff00\",\"#00ff00\",\"#00ff00\",\"#00ff00\",\"#00ff00\",\"#00ff00\",\"#00ff00\",\"#00ff00\",\"#00ff00\",\"#00ff00\",\"#00ff00\",\"#00ff00\",\"#00ff00\",\"#00ff00\",\"#00ff00\",\"#00ff00\",\"#00ff00\",\"#00ff00\",\"#00ff00\",\"#00ff00\",\"#00ff00\",\"#00ff00\",\"#00ff00\",\"#00ff00\",\"#00ff00\",\"#00ff00\",\"#00ff00\",\"#00ff00\",\"#00ff00\",\"#00ff00\",\"#00ff00\",\"#00ff00\",\"#00ff00\",\"#00ff00\",\"#00ff00\",\"#00ff00\",\"#00ff00\",\"#00ff00\",\"#00ff00\",\"#00ff00\",\"#00ff00\",\"#00ff00\",\"#00ff00\",\"#00ff00\",\"#00ff00\",\"#00ff00\",\"#00ff00\",\"#00ff00\",\"#00ff00\",\"#00ff00\",\"#00ff00\",\"#00ff00\",\"#00ff00\",\"#00ff00\",\"#00ff00\",\"#00ff00\",\"#00ff00\",\"#00ff00\",\"#00ff00\",\"#00ff00\",\"#00ff00\",\"#00ff00\",\"#00ff00\",\"#00ff00\",\"#00ff00\",\"#00ff00\",\"#00ff00\",\"#00ff00\",\"#00ff00\",\"#00ff00\",\"#00ff00\",\"#00ff00\",\"#00ff00\",\"#00ff00\",\"#00ff00\",\"#00ff00\",\"#00ff00\",\"#00ff00\",\"#00ff00\",\"#00ff00\",\"#00ff00\",\"#00ff00\",\"#00ff00\",\"#00ff00\",\"#00ff00\",\"#00ff00\",\"#00ff00\",\"#00ff00\",\"#00ff00\",\"#00ff00\",\"#00ff00\",\"#00ff00\",\"#00ff00\",\"#00ff00\",\"#00ff00\",\"#00ff00\",\"#00ff00\",\"#00ff00\",\"#00ff00\",\"#00ff00\",\"#00ff00\",\"#00ff00\",\"#00ff00\",\"#00ff00\",\"#00ff00\",\"#00ff00\",\"#00ff00\",\"#00ff00\",\"#00ff00\",\"#00ff00\",\"#00ff00\",\"#00ff00\",\"#00ff00\",\"#00ff00\",\"#00ff00\",\"#00ff00\",\"#00ff00\",\"#00ff00\",\"#00ff00\",\"#00ff00\",\"#00ff00\",\"#00ff00\",\"#00ff00\",\"#00ff00\",\"#00ff00\",\"#00ff00\",\"#00ff00\",\"#00ff00\",\"#00ff00\",\"#00ff00\",\"#00ff00\",\"#00ff00\",\"#00ff00\",\"#00ff00\",\"#00ff00\",\"#00ff00\",\"#00ff00\",\"#00ff00\",\"#00ff00\",\"#00ff00\",\"#00ff00\",\"#00ff00\",\"#00ff00\",\"#00ff00\",\"#00ff00\",\"#00ff00\",\"#00ff00\",\"#00ff00\",\"#00ff00\",\"#00ff00\",\"#00ff00\",\"#00ff00\",\"#00ff00\",\"#00ff00\",\"#00ff00\",\"#00ff00\",\"#00ff00\",\"#00ff00\",\"#00ff00\",\"#00ff00\",\"#00ff00\",\"#00ff00\",\"#00ff00\",\"#00ff00\",\"#00ff00\",\"#00ff00\",\"#00ff00\",\"#00ff00\",\"#00ff00\",\"#00ff00\",\"#00ff00\",\"#00ff00\",\"#00ff00\",\"#00ff00\",\"#00ff00\",\"#00ff00\",\"#00ff00\",\"#00ff00\",\"#00ff00\",\"#00ff00\",\"#00ff00\",\"#00ff00\",\"#00ff00\",\"#00ff00\",\"#00ff00\",\"#00ff00\",\"#00ff00\",\"#00ff00\",\"#00ff00\",\"#00ff00\",\"#00ff00\",\"#00ff00\",\"#00ff00\",\"#00ff00\",\"#00ff00\",\"#00ff00\",\"#00ff00\",\"#00ff00\",\"#00ff00\",\"#00ff00\",\"#00ff00\",\"#00ff00\",\"#00ff00\",\"#00ff00\",\"#00ff00\",\"#00ff00\",\"#00ff00\",\"#00ff00\",\"#00ff00\",\"#00ff00\",\"#00ff00\",\"#00ff00\",\"#00ff00\",\"#00ff00\",\"#00ff00\",\"#00ff00\",\"#00ff00\",\"#00ff00\",\"#00ff00\",\"#00ff00\",\"#00ff00\",\"#00ff00\",\"#00ff00\",\"#00ff00\",\"#00ff00\",\"#00ff00\",\"#00ff00\",\"#00ff00\",\"#00ff00\",\"#00ff00\",\"#00ff00\",\"#00ff00\",\"#00ff00\",\"#00ff00\",\"#00ff00\",\"#00ff00\",\"#00ff00\",\"#00ff00\",\"#00ff00\",\"#00ff00\",\"#00ff00\",\"#00ff00\",\"#00ff00\",\"#00ff00\",\"#00ff00\",\"#00ff00\",\"#00ff00\",\"#00ff00\",\"#00ff00\",\"#00ff00\",\"#00ff00\",\"#00ff00\",\"#00ff00\",\"#00ff00\",\"#00ff00\",\"#00ff00\",\"#00ff00\",\"#00ff00\",\"#00ff00\",\"#00ff00\",\"#00ff00\",\"#00ff00\",\"#00ff00\",\"#00ff00\",\"#00ff00\",\"#00ff00\",\"#00ff00\",\"#00ff00\",\"#00ff00\",\"#00ff00\",\"#00ff00\",\"#00ff00\",\"#00ff00\",\"#00ff00\",\"#00ff00\",\"#00ff00\",\"#00ff00\",\"#00ff00\",\"#00ff00\",\"#00ff00\",\"#00ff00\",\"#00ff00\",\"#00ff00\",\"#00ff00\",\"#00ff00\",\"#00ff00\",\"#00ff00\",\"#00ff00\",\"#00ff00\",\"#00ff00\",\"#00ff00\",\"#00ff00\",\"#00ff00\",\"#00ff00\",\"#00ff00\",\"#00ff00\",\"#00ff00\",\"#00ff00\",\"#00ff00\",\"#00ff00\",\"#00ff00\",\"#00ff00\",\"#00ff00\",\"#00ff00\",\"#00ff00\",\"#00ff00\",\"#00ff00\",\"#00ff00\",\"#00ff00\",\"#00ff00\",\"#00ff00\",\"#00ff00\",\"#00ff00\",\"#00ff00\",\"#00ff00\",\"#00ff00\",\"#00ff00\",\"#00ff00\",\"#00ff00\",\"#00ff00\",\"#00ff00\",\"#00ff00\",\"#00ff00\",\"#00ff00\",\"#00ff00\",\"#00ff00\",\"#00ff00\",\"#00ff00\",\"#00ff00\",\"#00ff00\",\"#00ff00\",\"#00ff00\",\"#00ff00\",\"#00ff00\",\"#00ff00\",\"#00ff00\",\"#00ff00\",\"#00ff00\",\"#00ff00\",\"#00ff00\",\"#00ff00\",\"#00ff00\",\"#00ff00\",\"#00ff00\",\"#00ff00\",\"#00ff00\",\"#00ff00\",\"#00ff00\",\"#00ff00\",\"#00ff00\",\"#00ff00\",\"#00ff00\",\"#00ff00\",\"#00ff00\",\"#00ff00\",\"#00ff00\",\"#00ff00\",\"#00ff00\",\"#00ff00\",\"#00ff00\",\"#00ff00\",\"#00ff00\",\"#00ff00\",\"#00ff00\",\"#00ff00\",\"#00ff00\",\"#00ff00\",\"#00ff00\",\"#00ff00\",\"#00ff00\",\"#00ff00\",\"#00ff00\",\"#00ff00\",\"#00ff00\",\"#00ff00\",\"#00ff00\",\"#00ff00\",\"#00ff00\",\"#00ff00\",\"#00ff00\",\"#00ff00\",\"#00ff00\",\"#00ff00\",\"#00ff00\",\"#00ff00\",\"#00ff00\",\"#00ff00\",\"#00ff00\",\"#00ff00\",\"#00ff00\",\"#00ff00\",\"#00ff00\",\"#00ff00\",\"#00ff00\",\"#00ff00\",\"#00ff00\",\"#00ff00\",\"#00ff00\",\"#00ff00\",\"#00ff00\",\"#00ff00\",\"#00ff00\",\"#00ff00\",\"#00ff00\",\"#00ff00\",\"#00ff00\",\"#00ff00\",\"#00ff00\",\"#00ff00\",\"#00ff00\",\"#00ff00\",\"#00ff00\",\"#00ff00\",\"#00ff00\",\"#00ff00\",\"#00ff00\",\"#00ff00\",\"#00ff00\",\"#00ff00\",\"#00ff00\",\"#00ff00\",\"#00ff00\",\"#00ff00\",\"#00ff00\",\"#00ff00\",\"#00ff00\",\"#00ff00\",\"#00ff00\",\"#00ff00\",\"#00ff00\",\"#00ff00\",\"#00ff00\",\"#00ff00\",\"#00ff00\",\"#00ff00\",\"#00ff00\",\"#00ff00\",\"#00ff00\",\"#00ff00\",\"#00ff00\",\"#00ff00\",\"#00ff00\",\"#00ff00\",\"#00ff00\",\"#00ff00\",\"#00ff00\",\"#00ff00\",\"#00ff00\",\"#00ff00\",\"#00ff00\",\"#00ff00\",\"#00ff00\",\"#00ff00\",\"#00ff00\",\"#00ff00\",\"#00ff00\",\"#00ff00\",\"#00ff00\",\"#00ff00\",\"#00ff00\",\"#00ff00\",\"#00ff00\",\"#00ff00\",\"#00ff00\",\"#00ff00\",\"#00ff00\",\"#00ff00\",\"#00ff00\",\"#00ff00\",\"#00ff00\",\"#00ff00\",\"#00ff00\",\"#00ff00\",\"#00ff00\",\"#00ff00\",\"#00ff00\",\"#00ff00\",\"#00ff00\",\"#00ff00\",\"#00ff00\",\"#00ff00\",\"#00ff00\",\"#00ff00\",\"#00ff00\",\"#00ff00\",\"#00ff00\",\"#00ff00\",\"#00ff00\",\"#00ff00\",\"#00ff00\",\"#00ff00\",\"#00ff00\",\"#00ff00\",\"#00ff00\",\"#00ff00\",\"#000000\",\"#000000\",\"#000000\",\"#000000\",\"#000000\",\"#000000\",\"#000000\",\"#000000\",\"#000000\",\"#000000\",\"#000000\",\"#000000\",\"#000000\",\"#000000\",\"#000000\",\"#000000\",\"#000000\",\"#000000\",\"#000000\",\"#000000\",\"#000000\",\"#000000\",\"#000000\",\"#000000\",\"#000000\",\"#000000\",\"#000000\",\"#000000\",\"#000000\",\"#000000\",\"#000000\",\"#000000\",\"#000000\",\"#000000\",\"#000000\",\"#000000\",\"#000000\",\"#000000\",\"#000000\",\"#000000\",\"#000000\",\"#000000\",\"#000000\",\"#000000\",\"#000000\",\"#000000\",\"#000000\",\"#000000\",\"#000000\",\"#000000\",\"#000000\",\"#000000\",\"#000000\",\"#000000\",\"#000000\",\"#000000\",\"#000000\",\"#000000\",\"#000000\",\"#000000\",\"#000000\",\"#000000\",\"#000000\",\"#000000\",\"#000000\",\"#000000\",\"#000000\",\"#000000\",\"#000000\",\"#000000\",\"#000000\",\"#000000\",\"#000000\",\"#000000\",\"#000000\",\"#000000\",\"#000000\",\"#000000\",\"#000000\",\"#000000\",\"#000000\",\"#000000\",\"#000000\",\"#000000\",\"#000000\",\"#000000\",\"#000000\",\"#000000\",\"#000000\",\"#000000\",\"#000000\",\"#000000\",\"#000000\",\"#000000\",\"#000000\",\"#000000\",\"#000000\",\"#000000\",\"#000000\",\"#000000\",\"#000000\",\"#000000\",\"#000000\",\"#000000\",\"#000000\",\"#000000\",\"#000000\",\"#000000\",\"#000000\",\"#000000\",\"#000000\",\"#000000\",\"#000000\",\"#000000\",\"#000000\",\"#000000\",\"#000000\",\"#000000\",\"#000000\",\"#000000\",\"#000000\",\"#000000\",\"#000000\",\"#000000\",\"#000000\",\"#000000\",\"#000000\",\"#000000\",\"#000000\",\"#000000\",\"#000000\",\"#000000\",\"#000000\",\"#000000\",\"#000000\",\"#000000\",\"#000000\",\"#000000\",\"#000000\",\"#000000\",\"#000000\",\"#000000\",\"#000000\",\"#000000\",\"#000000\",\"#000000\",\"#000000\",\"#000000\",\"#000000\",\"#000000\",\"#000000\",\"#000000\",\"#000000\",\"#000000\",\"#000000\",\"#000000\",\"#000000\",\"#000000\",\"#000000\",\"#000000\",\"#000000\",\"#000000\",\"#000000\",\"#000000\",\"#000000\",\"#000000\",\"#000000\",\"#000000\",\"#000000\",\"#000000\",\"#000000\",\"#000000\",\"#000000\",\"#000000\",\"#000000\",\"#000000\",\"#000000\",\"#000000\",\"#000000\",\"#000000\",\"#000000\",\"#000000\",\"#000000\",\"#000000\",\"#000000\",\"#000000\",\"#000000\",\"#000000\",\"#000000\",\"#000000\",\"#000000\",\"#000000\",\"#000000\",\"#000000\",\"#000000\",\"#000000\",\"#000000\",\"#000000\",\"#000000\",\"#000000\",\"#000000\",\"#000000\",\"#000000\",\"#000000\",\"#000000\",\"#000000\",\"#000000\",\"#000000\",\"#000000\",\"#000000\",\"#000000\",\"#000000\",\"#000000\",\"#000000\",\"#000000\",\"#000000\",\"#000000\",\"#000000\",\"#000000\",\"#000000\",\"#000000\",\"#000000\",\"#000000\",\"#000000\",\"#000000\",\"#000000\",\"#000000\",\"#000000\",\"#000000\",\"#000000\",\"#000000\",\"#000000\",\"#000000\",\"#000000\",\"#000000\",\"#000000\",\"#000000\",\"#000000\",\"#000000\",\"#000000\",\"#000000\",\"#000000\",\"#000000\",\"#000000\",\"#000000\",\"#000000\",\"#000000\",\"#000000\",\"#000000\",\"#000000\",\"#000000\",\"#000000\",\"#000000\",\"#000000\",\"#000000\",\"#000000\",\"#000000\",\"#000000\",\"#000000\",\"#000000\",\"#000000\",\"#000000\",\"#000000\",\"#000000\",\"#000000\",\"#000000\",\"#000000\",\"#000000\",\"#000000\",\"#000000\",\"#000000\",\"#000000\",\"#000000\",\"#000000\",\"#000000\",\"#000000\",\"#000000\",\"#000000\",\"#000000\",\"#000000\",\"#000000\",\"#000000\",\"#000000\",\"#000000\",\"#000000\",\"#000000\",\"#000000\",\"#000000\",\"#000000\",\"#000000\",\"#000000\",\"#000000\",\"#000000\",\"#000000\",\"#000000\",\"#000000\",\"#000000\",\"#000000\",\"#000000\",\"#000000\",\"#000000\",\"#000000\",\"#000000\",\"#000000\",\"#000000\",\"#000000\",\"#000000\",\"#000000\",\"#000000\",\"#000000\",\"#000000\",\"#000000\",\"#000000\",\"#000000\",\"#000000\",\"#000000\",\"#000000\",\"#000000\",\"#000000\",\"#000000\",\"#000000\",\"#000000\",\"#000000\",\"#000000\",\"#000000\",\"#000000\",\"#000000\",\"#000000\",\"#000000\",\"#000000\",\"#000000\",\"#000000\",\"#000000\",\"#000000\",\"#000000\",\"#000000\",\"#000000\",\"#000000\",\"#000000\",\"#000000\",\"#000000\",\"#000000\",\"#000000\",\"#000000\",\"#000000\",\"#000000\",\"#000000\",\"#000000\",\"#000000\",\"#000000\",\"#000000\",\"#000000\",\"#000000\",\"#000000\",\"#000000\",\"#000000\",\"#000000\",\"#000000\",\"#000000\",\"#000000\",\"#000000\",\"#000000\",\"#000000\",\"#000000\",\"#000000\",\"#000000\",\"#000000\",\"#000000\",\"#000000\",\"#000000\",\"#000000\",\"#000000\",\"#000000\",\"#000000\",\"#000000\",\"#000000\",\"#000000\",\"#000000\",\"#000000\",\"#000000\",\"#000000\",\"#000000\",\"#000000\",\"#000000\",\"#000000\",\"#000000\",\"#000000\",\"#000000\",\"#000000\",\"#000000\",\"#000000\",\"#000000\",\"#000000\",\"#000000\",\"#000000\",\"#000000\",\"#000000\",\"#000000\",\"#000000\",\"#000000\",\"#000000\",\"#000000\",\"#000000\",\"#000000\",\"#000000\",\"#000000\",\"#000000\",\"#000000\",\"#000000\",\"#000000\",\"#000000\",\"#000000\",\"#000000\",\"#000000\",\"#000000\",\"#000000\",\"#000000\",\"#000000\",\"#000000\",\"#000000\",\"#000000\",\"#000000\",\"#000000\",\"#000000\",\"#000000\",\"#000000\",\"#000000\",\"#000000\",\"#000000\",\"#000000\",\"#000000\",\"#000000\",\"#000000\",\"#000000\",\"#000000\",\"#000000\",\"#000000\",\"#000000\",\"#000000\",\"#000000\",\"#000000\",\"#000000\",\"#000000\",\"#000000\",\"#000000\",\"#000000\",\"#000000\",\"#000000\",\"#000000\",\"#000000\",\"#000000\",\"#000000\",\"#000000\",\"#000000\",\"#000000\",\"#000000\",\"#000000\",\"#000000\",\"#000000\",\"#000000\",\"#000000\",\"#000000\",\"#000000\",\"#000000\",\"#000000\",\"#000000\",\"#000000\",\"#000000\",\"#000000\",\"#000000\",\"#000000\",\"#000000\",\"#000000\",\"#000000\",\"#000000\",\"#000000\",\"#000000\",\"#000000\",\"#000000\",\"#000000\",\"#000000\",\"#000000\",\"#000000\",\"#000000\",\"#000000\",\"#000000\",\"#000000\",\"#000000\",\"#000000\",\"#000000\",\"#000000\",\"#000000\",\"#000000\",\"#000000\",\"#000000\",\"#000000\",\"#000000\",\"#000000\",\"#000000\",\"#000000\"],\"names\":[\"edie\",\"paulie\",\"felix\",\"polanski\",\"matthau\",\"victoria\",\"mildred\",\"gandhi\",\"flawless\",\"superbly\",\"perfection\",\"astaire\",\"captures\",\"voight\",\"wonderfully\",\"powell\",\"brosnan\",\"lily\",\"bakshi\",\"lincoln\",\"refreshing\",\"breathtaking\",\"bourne\",\"lemmon\",\"delightful\",\"flynn\",\"andrews\",\"homer\",\"beautifully\",\"soccer\",\"lumet\",\"elvira\",\"underrated\",\"gripping\",\"superb\",\"delight\",\"welles\",\"sadness\",\"sinatra\",\"touching\",\"timeless\",\"macy\",\"unforgettable\",\"favorites\",\"stewart\",\"extraordinary\",\"sullivan\",\"hartley\",\"brilliantly\",\"friendship\",\"wonderful\",\"palma\",\"magnificent\",\"finest\",\"jackie\",\"ritter\",\"tremendous\",\"freedom\",\"fantastic\",\"terrific\",\"noir\",\"sidney\",\"outstanding\",\"pleasantly\",\"mann\",\"nancy\",\"marie\",\"marvelous\",\"excellent\",\"ruth\",\"stanwyck\",\"widmark\",\"splendid\",\"chan\",\"exceptional\",\"tender\",\"gentle\",\"poignant\",\"gem\",\"amazing\",\"fisher\",\"chilling\",\"captivating\",\"davies\",\"darker\",\"april\",\"kelly\",\"blake\",\"overlooked\",\"ralph\",\"bette\",\"hoffman\",\"cole\",\"shines\",\"powerful\",\"notch\",\"remarkable\",\"pitt\",\"winters\",\"vivid\",\"gritty\",\"giallo\",\"portrait\",\"innocence\",\"psychiatrist\",\"favorite\",\"ensemble\",\"stunning\",\"burns\",\"garbo\",\"barbara\",\"philip\",\"panic\",\"holly\",\"carol\",\"perfect\",\"appreciated\",\"favourite\",\"journey\",\"rural\",\"bond\",\"builds\",\"brilliant\",\"brooklyn\",\"von\",\"unfolds\",\"recommended\",\"daniel\",\"perfectly\",\"crafted\",\"prince\",\"troubled\",\"consequences\",\"haunting\",\"cinderella\",\"alexander\",\"emotions\",\"boxing\",\"subtle\",\"solo\",\"curtis\",\"rare\",\"loved\",\"daughters\",\"courage\",\"dentist\",\"highly\",\"nominated\",\"tony\",\"draws\",\"everyday\",\"contrast\",\"cried\",\"fabulous\",\"fay\",\"ned\",\"emma\",\"sensitive\",\"corruption\",\"smooth\",\"dramas\",\"today\",\"helps\",\"inspiring\",\"jimmy\",\"awesome\",\"unique\",\"tragic\",\"intense\",\"stellar\",\"rival\",\"provides\",\"depression\",\"shy\",\"carrie\",\"blend\",\"hank\",\"diana\",\"adorable\",\"unexpected\",\"achievement\",\"bettie\",\"happiness\",\"glorious\",\"davis\",\"terrifying\",\"beauty\",\"ideal\",\"fears\",\"hong\",\"seasons\",\"fascinating\",\"carries\",\"satisfying\",\"definite\",\"touched\",\"greatest\",\"creates\",\"aunt\",\"walter\",\"spectacular\",\"portrayal\",\"ann\",\"enterprise\",\"musicals\",\"deeply\",\"incredible\",\"mature\",\"triumph\",\"margaret\",\"navy\",\"harry\",\"lucas\",\"sweet\",\"joey\",\"oscar\",\"balance\",\"warm\",\"ages\",\"carrey\",\"guilt\",\"glover\",\"learns\",\"unusual\",\"sons\",\"complex\",\"essence\",\"brazil\",\"widow\",\"solid\",\"beautiful\",\"holmes\",\"awe\",\"eerie\",\"vhs\",\"lonely\",\"grim\",\"sport\",\"debut\",\"destiny\",\"thrillers\",\"tears\",\"rose\",\"feelings\",\"ginger\",\"winning\",\"stanley\",\"cox\",\"paris\",\"heart\",\"hooked\",\"comfortable\",\"mgm\",\"masterpiece\",\"themes\",\"danny\",\"anime\",\"perry\",\"joy\",\"lovable\",\"mysteries\",\"hal\",\"louis\",\"charming\",\"urban\",\"allows\",\"impact\",\"gradually\",\"lifestyle\",\"italy\",\"spy\",\"treat\",\"subsequent\",\"kennedy\",\"loving\",\"surprising\",\"quiet\",\"winter\",\"reveals\",\"raw\",\"funniest\",\"pleased\",\"norman\",\"thief\",\"season\",\"secrets\",\"colorful\",\"highest\",\"compelling\",\"danes\",\"castle\",\"kudos\",\"great\",\"subtitles\",\"bleak\",\"baseball\",\"winner\",\"tragedy\",\"todd\",\"nicely\",\"arthur\",\"essential\",\"gorgeous\",\"fonda\",\"eastwood\",\"focuses\",\"enjoyed\",\"natural\",\"intensity\",\"witty\",\"rob\",\"worlds\",\"health\",\"magical\",\"deeper\",\"lucy\",\"moving\",\"lovely\",\"purple\",\"memorable\",\"sings\",\"craig\",\"modesty\",\"relate\",\"episodes\",\"strong\",\"smith\",\"tear\",\"apartment\",\"princess\",\"disagree\",\"kung\",\"adventure\",\"columbo\",\"jake\",\"adds\",\"hart\",\"strength\",\"realizes\",\"dave\",\"childhood\",\"forbidden\",\"tight\",\"surreal\",\"manager\",\"dancer\",\"studios\",\"con\",\"miike\",\"realistic\",\"explicit\",\"kurt\",\"traditional\",\"deals\",\"holds\",\"carl\",\"touches\",\"gene\",\"albert\",\"abc\",\"cry\",\"sides\",\"eyre\",\"develops\",\"dances\",\"oscars\",\"legendary\",\"hearted\",\"importance\",\"portraying\",\"impressed\",\"waters\",\"empire\",\"edge\",\"environment\",\"jean\",\"sentimental\",\"captured\",\"styles\",\"daring\",\"backgrounds\",\"tense\",\"matches\",\"frank\",\"gothic\",\"sharp\",\"achieved\",\"court\",\"steals\",\"rules\",\"colors\",\"reunion\",\"covers\",\"tale\",\"rain\",\"forms\",\"denzel\",\"stays\",\"blob\",\"conventional\",\"maria\",\"fresh\",\"midnight\",\"landscape\",\"animated\",\"titanic\",\"sunday\",\"spring\",\"cagney\",\"enjoyable\",\"immensely\",\"sir\",\"nevertheless\",\"driven\",\"performances\",\"nowadays\",\"memories\",\"simple\",\"leslie\",\"golden\",\"lovers\",\"relationship\",\"supporting\",\"che\",\"packed\",\"trek\",\"provoking\",\"strikes\",\"depiction\",\"emotional\",\"secretary\",\"influenced\",\"florida\",\"germany\",\"brings\",\"lewis\",\"elderly\",\"owner\",\"streets\",\"henry\",\"portrays\",\"bears\",\"china\",\"anger\",\"society\",\"available\",\"best\",\"blues\",\"bugs\",\"magic\",\"delivers\",\"verhoeven\",\"jim\",\"donald\",\"endearing\",\"relationships\",\"greatly\",\"charlie\",\"brad\",\"simon\",\"effectively\",\"march\",\"atmosphere\",\"influence\",\"genius\",\"emotionally\",\"ken\",\"identity\",\"sophisticated\",\"dan\",\"andrew\",\"india\",\"roy\",\"surprisingly\",\"sky\",\"romantic\",\"match\",\"meets\",\"affected\",\"patient\",\"stylish\",\"cowboy\",\"wave\",\"britain\",\"bitter\",\"beatty\",\"love\",\"paul\",\"andy\",\"performance\",\"patrick\",\"unlike\",\"brooks\",\"refuses\",\"award\",\"complaint\",\"ride\",\"dawson\",\"luke\",\"wells\",\"boll\",\"uwe\",\"seagal\",\"unwatchable\",\"stinker\",\"mst\",\"incoherent\",\"unfunny\",\"waste\",\"blah\",\"horrid\",\"pointless\",\"atrocious\",\"redeeming\",\"prom\",\"drivel\",\"lousy\",\"worst\",\"laughable\",\"awful\",\"poorly\",\"wasting\",\"remotely\",\"existent\",\"boredom\",\"miserably\",\"sucks\",\"uninspired\",\"lame\",\"insult\",\"godzilla\",\"uninteresting\",\"gadget\",\"appalling\",\"unconvincing\",\"unintentional\",\"horrible\",\"amateurish\",\"pathetic\",\"idiotic\",\"stupidity\",\"cardboard\",\"wasted\",\"crap\",\"insulting\",\"tedious\",\"dreadful\",\"dire\",\"badly\",\"suck\",\"worse\",\"terrible\",\"embarrassing\",\"mess\",\"garbage\",\"pile\",\"stupid\",\"ashamed\",\"vampires\",\"worthless\",\"dull\",\"inept\",\"avoid\",\"wooden\",\"forgettable\",\"fulci\",\"crappy\",\"bat\",\"unbelievably\",\"whatsoever\",\"excuse\",\"rubbish\",\"ridiculous\",\"junk\",\"flop\",\"boring\",\"turkey\",\"shark\",\"topless\",\"ridiculously\",\"useless\",\"seed\",\"ripped\",\"embarrassed\",\"rambo\",\"costs\",\"hideous\",\"horrendous\",\"bother\",\"dumb\",\"disjointed\",\"plastic\",\"horribly\",\"fest\",\"ludicrous\",\"unintentionally\",\"mildly\",\"obnoxious\",\"bland\",\"mummy\",\"annoying\",\"amateur\",\"bad\",\"dinosaurs\",\"unless\",\"fails\",\"mediocre\",\"awake\",\"clich\",\"clichd\",\"meaningless\",\"disappointment\",\"zombies\",\"asleep\",\"miscast\",\"irritating\",\"utter\",\"disappointing\",\"screaming\",\"supposed\",\"kidding\",\"poor\",\"apes\",\"unbelievable\",\"fake\",\"dude\",\"dracula\",\"joke\",\"clumsy\",\"random\",\"cheap\",\"idiots\",\"devoid\",\"trite\",\"wannabe\",\"unbearable\",\"alright\",\"pretentious\",\"scooby\",\"sucked\",\"senseless\",\"bo\",\"bin\",\"coherent\",\"idiot\",\"toilet\",\"doo\",\"werewolf\",\"cabin\",\"generous\",\"offensive\",\"monkey\",\"painfully\",\"renting\",\"lazy\",\"disgusting\",\"blame\",\"walked\",\"seconds\",\"generic\",\"cheese\",\"sloppy\",\"huh\",\"retarded\",\"trash\",\"shelf\",\"ugly\",\"oh\",\"slightest\",\"explanation\",\"failed\",\"cringe\",\"blatant\",\"clue\",\"bored\",\"cgi\",\"sat\",\"paid\",\"warn\",\"painful\",\"nowhere\",\"bore\",\"absurd\",\"flies\",\"paint\",\"porn\",\"paper\",\"predictable\",\"pseudo\",\"repetitive\",\"outer\",\"brain\",\"sorry\",\"vampire\",\"motivation\",\"unrealistic\",\"wrestling\",\"overrated\",\"aliens\",\"halfway\",\"save\",\"santa\",\"security\",\"contrived\",\"lacks\",\"whale\",\"gore\",\"bunch\",\"hype\",\"flat\",\"noise\",\"below\",\"plain\",\"spending\",\"bothered\",\"annoyed\",\"sounded\",\"honestly\",\"minutes\",\"wreck\",\"lesbian\",\"chick\",\"dollar\",\"f\",\"secondly\",\"wanna\",\"rat\",\"errors\",\"shallow\",\"synopsis\",\"breasts\",\"gray\",\"splatter\",\"yeah\",\"nonsense\",\"unnecessary\",\"grave\",\"ruined\",\"swear\",\"somebody\",\"elvis\",\"mindless\",\"terribly\",\"continuity\",\"hoping\",\"ha\",\"nudity\",\"endless\",\"decent\",\"torture\",\"rented\",\"disaster\",\"downright\",\"ok\",\"fat\",\"unpleasant\",\"figured\",\"rip\",\"throwing\",\"attempt\",\"weak\",\"slap\",\"jesus\",\"christian\",\"barely\",\"apparently\",\"implausible\",\"nothing\",\"clichs\",\"credibility\",\"bible\",\"explained\",\"presumably\",\"celluloid\",\"couldn\",\"money\",\"snake\",\"hollow\",\"sake\",\"load\",\"total\",\"priest\",\"supposedly\",\"consists\",\"zombie\",\"bomb\",\"ape\",\"bottom\",\"christ\",\"unfortunately\",\"bullets\",\"grade\",\"drags\",\"freak\",\"wolf\",\"fx\",\"offended\",\"script\",\"raped\",\"producers\",\"okay\",\"confusing\",\"stomach\",\"monster\",\"seriously\",\"alas\",\"promising\",\"knife\",\"substance\",\"premise\",\"threw\",\"k\",\"dear\",\"z\",\"write\",\"rental\",\"warned\",\"zero\",\"semi\",\"guess\",\"scientist\",\"logic\",\"vague\",\"slasher\",\"throw\",\"accents\",\"alien\",\"silly\",\"clown\",\"skip\",\"instead\",\"blank\",\"throat\",\"lab\",\"par\",\"gag\",\"execution\",\"nose\",\"hated\",\"effort\",\"shoot\",\"fill\",\"gratuitous\",\"burn\",\"none\",\"cameras\",\"assume\",\"stick\",\"reasonable\",\"failure\",\"pie\",\"rent\",\"dubbing\",\"weren\",\"truck\",\"stock\",\"thin\",\"arm\",\"holy\",\"daddy\",\"pg\",\"exercise\",\"tried\",\"suppose\",\"advice\",\"gonna\",\"disbelief\",\"derek\",\"mean\",\"merit\",\"looked\",\"channel\",\"gross\",\"stereotypical\",\"hoped\",\"lacking\",\"spent\",\"stiff\",\"overdone\",\"low\",\"romero\",\"hour\",\"blair\",\"saved\",\"damage\",\"reason\",\"intentions\",\"sentence\",\"hardcore\",\"makeup\",\"lack\",\"makers\",\"empty\",\"holes\",\"wouldn\",\"proof\",\"demon\",\"toys\",\"doll\",\"utterly\",\"originality\",\"bush\",\"saying\",\"cover\",\"forest\",\"meat\",\"deserve\",\"sum\",\"bucks\",\"hills\",\"watchable\",\"handed\",\"lacked\",\"mistake\",\"please\",\"whoever\",\"sadistic\",\"monsters\",\"screenwriter\",\"neither\",\"nuclear\",\"sequels\",\"flesh\",\"lying\",\"creature\",\"annie\",\"propaganda\",\"leonard\",\"thats\",\"racist\",\"convince\",\"asian\",\"why\",\"rex\",\"satan\",\"remake\",\"fail\",\"loser\",\"ah\",\"favor\",\"except\",\"flick\",\"freddy\",\"relies\",\"spare\",\"dialog\",\"lou\",\"dragged\",\"guy\",\"problem\",\"melting\",\"flash\",\"im\",\"least\",\"mouth\",\"sole\",\"hell\",\"jerk\",\"drink\",\"intent\",\"shower\",\"fifteen\",\"wasn\",\"corpse\",\"virus\",\"thugs\",\"idea\",\"budget\",\"minimal\",\"reasonably\",\"naked\",\"rick\",\"category\",\"cheesy\",\"judging\",\"half\",\"pregnant\",\"no\",\"millions\",\"stereotypes\",\"juvenile\",\"weekend\",\"convoluted\",\"laurel\",\"killings\",\"sequel\",\"hire\",\"somewhere\",\"frankly\",\"paying\",\"someone\",\"cant\",\"cash\",\"research\",\"walk\",\"dimensional\",\"editing\",\"conceived\",\"scare\",\"positive\"],\"x1\":{\"__ndarray__\":\"qwqVwWd+S0HHp3XBbMVHwdg4gMGne5rBoxJawSAuRUFhOEbCKelAwriRxsFsHsdA0FpSwmn9TMFng13C6omzwbcSaUCcIRNAJeUJQYYNUD94Hl7Csyc7wpkqlME6ZXzAt4pTwpO4F8HnFkbAtTZEwRUEX8KlJzHBPCcKPZJj+sBQOk/CiCJAwmXkZMIBce/Bk8vowLjv0MEdwHzBwIFawjZkqcFIsYTAcvezwWEdLsK6OtXBRpZLwpZhKkByEQbBGI1JwuADVcLGgWbCLzPAQOGROsLwhlTCun/CwUKFnj7kEELCII9JwtBRZMLQh1nCihlcwol1sMFgdl/CHxFIwlyTiME5q8vBh5m7wQloMsLofWfCvSsWQcUqTsHPqju/ALuiwQOMr8FRv/PBB51TwS9sdcB8uYHBdXlgwiKwZsLWyU/B1bU6wrNV2sGdw2pB+PKQwVK/mcHiVK7BYV3DwfEIMsLqjj/CBMXpwADm5cFlWaw+njktws5fXMLtHELCfbtOwq2XnkEqNCFB8nWKwecmSMLgtpZBQkvBwfTU0MH2FzbAD65kwi37ocEO31TCB5P9wN+/q0E4CDjCTfPeQHK+U8EY8qFAylsJQb5GZ8Ikl1PCTIYvwr0iPsKLlYjBdKmRwQxMLsE8HmTCglmfwYk9nEFpQanBK0JfwsZBfcF/42LCs8kzwgGSjcFo0DjCIzalwcQuSsJU1YZB/H5dwLPDUcIYcdJBl8xbwmetgsBgq6VBxmNhwhYqZcL7LRnBmJSWwUJNjUGyfGTCmnKmwVLwSsKqc6jBcwSdwUbC4cHZhcrBLwdEwo8ZhEHXazZBprGNwc+C7cHQi9FAzbXLwe6T78GJG2bCZ4o1wldw8sEJAnrBUnhdwmPyXcIP/1HCRNFUwi2G5sH9HnjB4PcywodMpcGrxoI+S0bQwJuSy8BADylBDoMGQWPFWMAnTFDCxYPowCE9gkFce/xADdQVQArzFUDfdajBIH5TwkCFVcHH4Z7BR66swYCT1sES2F/CO7jTwXD5QMJ5BTPCm+HqwTQHVsKkyivBkHSVwZpdp8HG+kLCj+dQwkodAUHusRZBfnQWQW/LTMIgUWHClPGKwZkBjD9+eybB16CiQbTwF7/G8aTBIR9bwriKY8EqjzvCLtyjwcx1qsG1BzbCvEDrwREV98GTSrTBwH/UwZ+oTMIo+w5BOklPwm/UlMDXwl/B6vERv6aHX8KxT2PC79qfwapHusGuytLBiiZRwtfP2sFksnHBMQohPgvRjEDZ2eRBzWRuwS04UcJ0EozBta49wqj8tUG0O+XBPO36wKrUssBQ5LfBTnpgwh+1UMLDu6fBqqAkQdOkXMK6XUnCfKciwQPCtsFU35pB6Sc5woj/78EXf1nB7qyvQENJg8ChEDfCp/GtweqTGcEnnkrCSqSawLNuGUHVo6zBa16owRIPT8KRXtzB9I5rwYZBDMHQ2EbCnztLwsgifcHSmKzBX33owePQX8I/CrXBmBvMQVjpzsCPqE/CDNOIwViVjsFNQxtAfUlQwnR9bkGCya3BSeXAwQHfZsKbGzzCPOqbwXuvvcHe2s7BBh3iwVJdzz4hrTLC8kLCwS7xMMLW87fBZiyLQS67PsG3+cXBBQRkwjDArcHHkzzBZso0wqD5t0EQ9DTCkkhawS8sG8DyGfDBcZHVQDe0XcIdEDDCs0+HwR/yPMJXxgPBQ/sFQA3QjcF/ZzxBRhRbwtDLXsKC/JDB7rZ5wSDpOcJrmZLB3EOkwTUtvcFwsC3CFbSUQTE858ClqUfC0bzswEPq5sF2hH3BJtWBQQCSYcFYZFbAnvNSwtXjqcHImbXBQf6QwdQa38FWCevBPSK3QbY8XMJQL3fBOZz2QEMczcEJ20DCdkHzwcLQXEAwmI7BG4lBP0N8l0FC041Bt7RVwuxOyMGakddBfB77QKpeSMEGeBTB5DLrwU3OEUFdfyDBIJswwgMVTMLSkE7Av5HPQETjS8I8CI5BiiovwlWVjsClIdLBK+NWwZ0ydMGlpA9BHmPYwFBIsz93T+LBNlRawd0QO8JEwpQ/37KBwUSyRcI1/uLBhCbSwdJbi8A2QaDB/+I9wu3TYUFsFIjBqblRwfLZrMFKkYnBkeScQdl+rUGyg/PBe4qiwRfuHEFDKsvBOGyevkNj88E1+pFABc+0QXFSZMI/gUZBw0miwc1PdcGBpT/CINNbwgx118EpwirB6KFiwnJHRMH5yjVABdCWwSI5TMKps2HBzQSnQX+zx8FF2fvAu1gvwqP7kUG45dBBIVwxwqkVDMG0qRHBBCy/PtO7HsEWCkXCLwgHwQtZjcEmTpbB3BsVwdUoXMF+MKVB9ywvQU8GHMER7ZPBl3NDwm/TU8JQd2bCGWcuQcigi0EFWkjCSe75wUSXXsE/0zjCzDEdQSUrSEGa417ATBGrQeHDysF1RdJA4hUNwTqDDkG5wU4/0rNcwohYyMGAnUjCk6r6v9ibAEE0RfjBi0iWwaWYBUIEH4LBgOsBwXYdhkE/nVXCwM6QwbD3N8LTBwVBaQ/gwXtfREHNcBPBzUdjweL+s0E1GYHAqhSJQWq1vcHUKUzBSPVgwpv0Q8Iw3aRBtOVcwkskREG511LCsEK2QJ/uk8FGWDTCjJjuwTUAUsKHv3LBW4aHP+3JPEF5HgZCM6oGQuNG0UHo2xPA9jYzPzEQOz9tDYI+pEWgQFNnRUGcnuE/khU5QT2gAkEknea/xYfbQN41AkKxQs6/y9unP4o4S0EITxBBuZpGQdP0L0FcHBbAG1wPwDaWC770A2m/99U1wHOYbL9VeCzAjxMRQR6RCUBqtPFBEDgXQBRTBUIgM/m/XnCZvr8+RbyEySJBZtvPv5M54kC5B79BPM/mv1jY0EA3rxdBuVcRQa6i8UDIFM0/BG2HP17VoL1snBxBqD4XQMG3LEHynz5B6XRYP3uBIUFF5K5AzsqGv9qKL0Fd9UdAIEU4QSjLcEGe0jNBppMVwBzcEUF/LtJAP1qVQBh4/kEL7Zi/0eUEQr8gU0EE0zXA/ywuPg5ivb+UbRtB96+cv1n1FD/Nuj5BhNq1vk0t+UGmuLVB002kv5ZwIEGsssdBN3dTQVOegz4YTfdB8MH2QFTpGEHoyP9BRgqov2yX+j/J96e+CryhPzfckUG4fu2+rKq8PnesxkF/TCg//nthv55fSUB1aOtB+pcrQcobg0HHUjRBunfVQVOYCUFJ+ylBf8G2QPoh7kHvba8/s6WdQZIjp0FrEiNBADP8v+Y9zT5v8Xy/ETQXwM6SJcCyvixB5nFGQRyPHkGK8QBCLLZAQW0kA0KsApa/IibyP/vyA0LetQVCS5Llv1OuZEGcE9NA4dMGQdWY7EGNDlNBlaw1wOw4v0Em5QVBbZF0P5nsZT5WeuRBfwoevyHS/0G1Ps1BXCL9QajEwkGwSwVC7XADQiJ27EHUJNJB1i5GQY5UaD4J8BnAcIftQU9sNMArPI9Bf2OmQVqyNcA4rDHAN+YWwHX0FsABnYFBRwfbQD7q2D8dePpBuNfCQVXXI8BTu5pB23W8vw0zFEGi2K9BPvtDQGbFu0CgCANC+JrWQdv75UHzyq1Aq4bvQYosGcDSMz2/2jvVQZorqEBUXQRA6rh8QWK5wT+wutRBYzyzP5x4dUFU7xfALPr7QBSBMr9tzgRCSSxKQX52CcBEMbdAoskTwGszBULJkdm/OW4AQpqdkkGk0v5BoR0BQu4ZGUEhyRBBrxADQpsd5b+43vBAVHyWQUWypz/fOAxAWVZHQQTvwEA1TwNC/Nzpv8SEHcDF3ydBQXfBQHTDAkIOUQZClBLOP3v4F0FjFQZCYWIEQnXG5kF3IAVCaYnPv0yY90FuIuhBYgngQZyIckGTFHtAQovTQBCY2kFRQ/9BB/LvQVAOpEDOOus/aAO8QSxGQkG19RXAg6fTQdrT3UGtF5FBV18BQurW8L8tp76/GsWmQPO9wEE4oUC/RVIkvai6nEC8a25BVqxWv6HgCsDzYTBB6CPTP2pmD0Fbx5lBI80EQmlK50GwavxBw3/gQE/tz0AEBwRCBx/0QTLvG8Cp4/k/QVIVQHTiokErwCZBaCgowG2Qo77sxwJCszUPQSu9D0HnjrlBrDa4QB/G4UB+xNVBNlStQZ40+0GEHNVBZsAeQCkN90Cq8yHADV0GQjDEFsDryppBGF0GQtArAT4+Y6w/aucpQZ2H+kHKMjfAadEEQp8Y/UExq/hBig3nQVRM70HV6xRBpedHQZoerT5iG76/2bCfv2n7vkEo2+pBpVAhwMpnM0F4Nt5AbqizQbsOs0DbyjtAzfcDQirART1p7slBxiEGQkL1i76SpfFB10gGQnXr0kEkB8VB0TjpQBRJlkH0yARCIB/SQeYIZ0EAx21Bn6G1QavxPUEJIe5AsEaxQWhEPEApivlAX0KfQTq5u0HL0tFBYhzzQasJ4EG5vtNBUL67QcEYLkFZkQRBd4pmQB++mECEvGNB7ToGQvRr0UBGEQBCwADyQRA2XUC72uVBNUo+QXHj/kGtEQS/bucFQkk9zkFkMtZBmSeGQR+eKUCrfs9BhJ7iQY2s4kEdHARCczXpQQXhO7/LyLpBvhBKP9fr7kF+zP1BxrG8Qe72Fr8YYAVC/mk/P6gu5kH+oQRC22GXQR1LwkF7EUdBdh0GQbXt3EF4DQVCOYhhQElDAkKXogRCuKiCQdcRgkBbkqRB9ZfDQOoaBEJRBwNC3KXzQYPP+EF6DGdABlEPwKQ2KkFMtWFBbZIywH9BWEGyj4RBHlTsQUpx9UHDvkc/uPbZQXFsA0JjnlRAuNFVQRtNBkKCMetBpz3KQJqZBULMbqlBiqaIQfmc9EBWBt1APd77QZHKmkAG3x/AmKQAQp2f+kEe02pAc+CiP0aJj0DmWo5ButTUQX9LskHO6MlBcIbJQWSxjkGd2pC/4MzjQY7A5UC4nZNBTO0hQOjKBUKHCdC/WUHFQZiB/kEoQ3dBavc3QOjb6kFCDPxBS4e1QTQ6z79fjF5BLo/xQdY/BELPjwFCjcYowFH12kFObLpB9vGSP2AJmkAu4YlBk/0FQvayBELxitk/SsdeQYH12UEQ/JtB7ZrzQZxCBkKJGQJCutG+QYrwpkENwmdAZl0CQpHF9kEK6elBDJTFQE3Fx0HJtMxBgwz1QUIp6kH8++1BfzPFQQY590G8AgZCs3Z1QEpzlkFy55hAGS0GQvsHnUFfkgBC+gsCQmv8x0HrOQJCB0WWQcyDkL8pqgZCdfIBQb1GAUA3w7ZBkZbHQPFnAUJ2KPRB0oW5QevC6kDzaDe/45AfwD7S7EGyoQVChxXPvw==\",\"dtype\":\"float32\",\"order\":\"little\",\"shape\":[1000]},\"x2\":{\"__ndarray__\":\"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\",\"dtype\":\"float32\",\"order\":\"little\",\"shape\":[1000]}},\"selected\":{\"id\":\"1491\"},\"selection_policy\":{\"id\":\"1490\"}},\"id\":\"1439\",\"type\":\"ColumnDataSource\"},{\"attributes\":{},\"id\":\"1490\",\"type\":\"UnionRenderers\"},{\"attributes\":{},\"id\":\"1416\",\"type\":\"DataRange1d\"},{\"attributes\":{\"fill_alpha\":{\"value\":0.1},\"fill_color\":{\"field\":\"color\"},\"line_alpha\":{\"value\":0.1},\"line_color\":{\"value\":\"#1f77b4\"},\"size\":{\"value\":8},\"x\":{\"field\":\"x1\"},\"y\":{\"field\":\"x2\"}},\"id\":\"1442\",\"type\":\"Scatter\"},{\"attributes\":{},\"id\":\"1427\",\"type\":\"BasicTicker\"},{\"attributes\":{},\"id\":\"1433\",\"type\":\"SaveTool\"},{\"attributes\":{},\"id\":\"1430\",\"type\":\"PanTool\"}],\"root_ids\":[\"1411\"]},\"title\":\"Bokeh Application\",\"version\":\"2.3.2\"}};\n",
       "  var render_items = [{\"docid\":\"18c00c8a-b9ec-4919-8664-f17b3e9c2704\",\"root_ids\":[\"1411\"],\"roots\":{\"1411\":\"a6392ef8-c215-4cf7-b803-d710cce482ee\"}}];\n",
       "  root.Bokeh.embed.embed_items_notebook(docs_json, render_items);\n",
       "\n",
       "  }\n",
       "  if (root.Bokeh !== undefined) {\n",
       "    embed_document(root);\n",
       "  } else {\n",
       "    var attempts = 0;\n",
       "    var timer = setInterval(function(root) {\n",
       "      if (root.Bokeh !== undefined) {\n",
       "        clearInterval(timer);\n",
       "        embed_document(root);\n",
       "      } else {\n",
       "        attempts++;\n",
       "        if (attempts > 100) {\n",
       "          clearInterval(timer);\n",
       "          console.log(\"Bokeh: ERROR: Unable to run BokehJS code because BokehJS library is missing\");\n",
       "        }\n",
       "      }\n",
       "    }, 10, root)\n",
       "  }\n",
       "})(window);"
      ],
      "application/vnd.bokehjs_exec.v0+json": ""
     },
     "metadata": {
      "application/vnd.bokehjs_exec.v0+json": {
       "id": "1411"
      }
     },
     "output_type": "display_data"
    }
   ],
   "source": [
    "p = figure(tools=\"pan,wheel_zoom,reset,save\",\n",
    "           toolbar_location=\"above\",\n",
    "           title=\"vector T-SNE for most polarized words\")\n",
    "\n",
    "source = ColumnDataSource(data=dict(x1=words_top_ted_tsne[:,0],\n",
    "                                    x2=words_top_ted_tsne[:,1],\n",
    "                                    names=words_to_visualize,\n",
    "                                    color=colors_list))\n",
    "\n",
    "p.scatter(x=\"x1\", y=\"x2\", size=8, source=source, fill_color=\"color\")\n",
    "\n",
    "word_labels = LabelSet(x=\"x1\", y=\"x2\", text=\"names\", y_offset=6,\n",
    "                  text_font_size=\"8pt\", text_color=\"#555555\",\n",
    "                  source=source, text_align='center')\n",
    "p.add_layout(word_labels)\n",
    "\n",
    "show(p)\n",
    "\n",
    "# green indicates positive words, black indicates negative words"
   ]
  },
  {
   "cell_type": "code",
   "execution_count": null,
   "metadata": {},
   "outputs": [],
   "source": []
  }
 ],
 "metadata": {
  "anaconda-cloud": {},
  "kernelspec": {
   "display_name": "Python 3",
   "language": "python",
   "name": "python3"
  },
  "language_info": {
   "codemirror_mode": {
    "name": "ipython",
    "version": 3
   },
   "file_extension": ".py",
   "mimetype": "text/x-python",
   "name": "python",
   "nbconvert_exporter": "python",
   "pygments_lexer": "ipython3",
   "version": "3.8.8"
  }
 },
 "nbformat": 4,
 "nbformat_minor": 4
}
