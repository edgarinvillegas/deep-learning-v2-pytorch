{
 "cells": [
  {
   "cell_type": "markdown",
   "metadata": {},
   "source": [
    "# Multi-Layer Perceptron, MNIST\n",
    "---\n",
    "In this notebook, we will train an MLP to classify images from the [MNIST database](http://yann.lecun.com/exdb/mnist/) hand-written digit database.\n",
    "\n",
    "The process will be broken down into the following steps:\n",
    ">1. Load and visualize the data\n",
    "2. Define a neural network\n",
    "3. Train the model\n",
    "4. Evaluate the performance of our trained model on a test dataset!\n",
    "\n",
    "Before we begin, we have to import the necessary libraries for working with data and PyTorch, as well as a few more for convenience."
   ]
  },
  {
   "cell_type": "code",
   "execution_count": 1,
   "metadata": {},
   "outputs": [],
   "source": [
    "!pip install -q -r requirements.txt &> /dev/null"
   ]
  },
  {
   "cell_type": "markdown",
   "metadata": {},
   "source": [
    "> Now please RESTART THE KERNEL IN YOUR NOTEBOOK then continue execution with the next cell."
   ]
  },
  {
   "cell_type": "code",
   "execution_count": 2,
   "metadata": {},
   "outputs": [],
   "source": [
    "# import libraries\n",
    "import torch\n",
    "import numpy as np\n",
    "# Progress bar\n",
    "from tqdm import tqdm\n",
    "# Will use this to figure out the number of CPUs available\n",
    "import multiprocessing"
   ]
  },
  {
   "cell_type": "markdown",
   "metadata": {},
   "source": [
    "---\n",
    "## Load and Visualize the [Data](http://pytorch.org/docs/stable/torchvision/datasets.html)\n",
    "\n",
    "Downloading may take a few moments, and you should see your progress as the data is loading. You may also choose to change the `batch_size` if you want to load more data at a time.\n",
    "\n",
    "This cell will create DataLoaders for each of our datasets."
   ]
  },
  {
   "cell_type": "code",
   "execution_count": 3,
   "metadata": {},
   "outputs": [],
   "source": [
    "# The MNIST datasets are hosted on yann.lecun.com that has moved under CloudFlare protection\n",
    "# Run this script to enable the datasets download\n",
    "# Reference: https://github.com/pytorch/vision/issues/1938\n",
    "\n",
    "from six.moves import urllib\n",
    "opener = urllib.request.build_opener()\n",
    "opener.addheaders = [('User-agent', 'Mozilla/5.0')]\n",
    "urllib.request.install_opener(opener)"
   ]
  },
  {
   "cell_type": "markdown",
   "metadata": {},
   "source": [
    "NOTE: when executing the following cell you will see a warning `The given NumPy array is not writeable ...`. Please ignore the warning, is due to a little bug in pytorch 1.9.0 that is harmless."
   ]
  },
  {
   "cell_type": "code",
   "execution_count": 4,
   "metadata": {},
   "outputs": [
    {
     "name": "stdout",
     "output_type": "stream",
     "text": [
      "Using 48000 examples for training and 12000 for validation\n",
      "Using 10000 for testing\n"
     ]
    },
    {
     "name": "stderr",
     "output_type": "stream",
     "text": [
      "/opt/conda/lib/python3.7/site-packages/torchvision/datasets/mnist.py:498: UserWarning: The given NumPy array is not writable, and PyTorch does not support non-writable tensors. This means writing to this tensor will result in undefined behavior. You may want to copy the array to protect its data or make it writable before converting it to a tensor. This type of warning will be suppressed for the rest of this program. (Triggered internally at  ../torch/csrc/utils/tensor_numpy.cpp:178.)\n",
      "  return torch.from_numpy(parsed.astype(m[2], copy=False)).view(*s)\n"
     ]
    }
   ],
   "source": [
    "from torchvision import datasets\n",
    "import torchvision.transforms as transforms\n",
    "\n",
    "# number of subprocesses to use for data loading\n",
    "# We set this equal to the number of CPUs available\n",
    "# in this machine\n",
    "num_workers = multiprocessing.cpu_count()\n",
    "\n",
    "# how many samples per batch to load. You can experiment\n",
    "# with this parameter to try to improve performances\n",
    "batch_size = 64\n",
    "\n",
    "# The output of torchvision datasets are PILImage images of range [0, 1].\n",
    "# We transform them to Tensors of normalized range [-1, 1]\n",
    "transform = transforms.Compose(\n",
    "    [\n",
    "        # This transforms takes a np.array or a PIL image of integers\n",
    "        # in the range 0-255 and transforms it to a float tensor in the\n",
    "        # range 0.0 - 1.0\n",
    "        transforms.ToTensor(),\n",
    "        # This then renormalize the tensor to be between -1.0 and 1.0,\n",
    "        # which is a better range for modern activation functions like\n",
    "        # Relu\n",
    "        transforms.Normalize((0.5), (0.5)),\n",
    "    ]\n",
    ")\n",
    "\n",
    "\n",
    "# Get train, validation and test\n",
    "\n",
    "# Let's start with train and validation\n",
    "trainval_data = datasets.MNIST(\n",
    "    root=\"data\", train=True, download=True, transform=transform\n",
    ")\n",
    "\n",
    "# Split in train and validation\n",
    "# NOTE: we set the generator with a fixed random seed for reproducibility\n",
    "train_len = int(len(trainval_data) * 0.8)\n",
    "val_len = len(trainval_data) - train_len\n",
    "print(f\"Using {train_len} examples for training and {val_len} for validation\")\n",
    "train_subset, val_subset = torch.utils.data.random_split(\n",
    "    trainval_data, [train_len, val_len], generator=torch.Generator().manual_seed(42)\n",
    ")\n",
    "\n",
    "train_loader = torch.utils.data.DataLoader(\n",
    "    dataset=train_subset, shuffle=True, batch_size=batch_size, num_workers=num_workers\n",
    ")\n",
    "val_loader = torch.utils.data.DataLoader(\n",
    "    dataset=val_subset, shuffle=False, batch_size=batch_size, num_workers=num_workers\n",
    ")\n",
    "\n",
    "# Get test data\n",
    "test_data = datasets.MNIST(root=\"data\", train=False, download=True, transform=transform)\n",
    "test_loader = torch.utils.data.DataLoader(\n",
    "    test_data, batch_size=batch_size, num_workers=num_workers\n",
    ")\n",
    "print(f\"Using {len(test_data)} for testing\")"
   ]
  },
  {
   "cell_type": "markdown",
   "metadata": {},
   "source": [
    "### Visualize a Batch of Training Data\n",
    "\n",
    "The first step in a classification task is to take a look at the data, make sure it is loaded in correctly, then make any initial observations about patterns in that data."
   ]
  },
  {
   "cell_type": "code",
   "execution_count": 5,
   "metadata": {},
   "outputs": [
    {
     "data": {
      "image/png": "[encoded data removed]",
      "text/plain": [
       "<Figure size 1800x288 with 20 Axes>"
      ]
     },
     "metadata": {
      "needs_background": "light"
     },
     "output_type": "display_data"
    }
   ],
   "source": [
    "import matplotlib.pyplot as plt\n",
    "%matplotlib inline\n",
    "    \n",
    "# obtain one batch of training images\n",
    "dataiter = iter(train_loader)\n",
    "images, labels = dataiter.next()\n",
    "images = images.numpy()\n",
    "\n",
    "# plot the images in the batch, along with the corresponding labels\n",
    "fig, subs = plt.subplots(2, 10, figsize=(25, 4))\n",
    "for idx, sub in zip(np.arange(20), subs.flatten()):\n",
    "    sub.imshow(np.squeeze(images[idx]), cmap='gray')\n",
    "    # print out the correct label for each image\n",
    "    # .item() gets the value contained in a Tensor\n",
    "    sub.set_title(str(labels[idx].item()))\n",
    "    sub.axis(\"off\")"
   ]
  },
  {
   "cell_type": "markdown",
   "metadata": {},
   "source": [
    "### View an Image in More Detail"
   ]
  },
  {
   "cell_type": "code",
   "execution_count": 6,
   "metadata": {},
   "outputs": [
    {
     "data": {
      "image/png": "[encoded data removed]",
      "text/plain": [
       "<Figure size 864x864 with 1 Axes>"
      ]
     },
     "metadata": {
      "needs_background": "light"
     },
     "output_type": "display_data"
    }
   ],
   "source": [
    "img = np.squeeze(images[1])\n",
    "\n",
    "fig, sub = plt.subplots(figsize = (12,12)) \n",
    "sub.imshow(img, cmap='gray')\n",
    "width, height = img.shape\n",
    "thresh = img.max()/2.5\n",
    "for x in range(width):\n",
    "    for y in range(height):\n",
    "        val = round(img[x][y],2) if img[x][y] !=0 else 0\n",
    "        sub.annotate(str(val), xy=(y,x),\n",
    "                    horizontalalignment='center',\n",
    "                    verticalalignment='center',\n",
    "                    color='white' if img[x][y]<thresh else 'black')\n",
    "        sub.axis(\"off\")"
   ]
  },
  {
   "cell_type": "markdown",
   "metadata": {},
   "source": [
    "---\n",
    "## Define the Network [Architecture](http://pytorch.org/docs/stable/nn.html)\n",
    "\n",
    "The architecture will be responsible for seeing as input a 784-dim Tensor of pixel values for each image, and producing a Tensor of length 10 (our number of classes) that indicates the class scores for an input image. This particular example uses two hidden layers and dropout to avoid overfitting."
   ]
  },
  {
   "cell_type": "code",
   "execution_count": 10,
   "metadata": {},
   "outputs": [
    {
     "name": "stdout",
     "output_type": "stream",
     "text": [
      "Net(\n",
      "  (fc1): Linear(in_features=784, out_features=512, bias=True)\n",
      "  (fc2): Linear(in_features=512, out_features=512, bias=True)\n",
      "  (fc3): Linear(in_features=512, out_features=10, bias=True)\n",
      "  (dropout): Dropout(p=0.2, inplace=False)\n",
      ")\n"
     ]
    }
   ],
   "source": [
    "import torch.nn as nn\n",
    "import torch.nn.functional as F\n",
    "\n",
    "## TODO: Define the NN architecture\n",
    "class Net(nn.Module):\n",
    "    def __init__(self):\n",
    "        super(Net, self).__init__()\n",
    "        \n",
    "        # YOUR CODE HERE\n",
    "        hidden_1, hidden_2 = 512, 512\n",
    "        # linear layer (784 -> 1 hidden node)\n",
    "        self.fc1 = nn.Linear(28 * 28, hidden_1)        \n",
    "        self.fc2 = nn.Linear(hidden_1, hidden_2)\n",
    "        self.fc3 = nn.Linear(hidden_2, 10)\n",
    "        self.dropout = nn.Dropout(p=0.2)\n",
    "\n",
    "    def forward(self, x):\n",
    "        # flatten image input\n",
    "        x = x.view(-1, 28 * 28)\n",
    "        \n",
    "        # YOUR CODE HERE\n",
    "        # add hidden layer, with relu activation function\n",
    "        x = self.dropout(F.relu(self.fc1(x)))\n",
    "        x = self.dropout(F.relu(self.fc2(x)))\n",
    "        x = F.log_softmax(self.fc3(x), dim=1)\n",
    "        return x\n",
    "\n",
    "# initialize the NN\n",
    "model = Net()\n",
    "\n",
    "# NOTE: this is NOT the structure of the network, but merely a\n",
    "# visualization of the layers that are present. For very simple\n",
    "# architectures the two might be similar, but for more complicated\n",
    "# network they will not. See the next cell for a possible way of\n",
    "# visualizing the real structure of the network\n",
    "print(model)"
   ]
  },
  {
   "cell_type": "markdown",
   "metadata": {},
   "source": [
    "## (Bonus: visualize the structure of your network)\n",
    "You can visualize your achitecture by using netron.app. Just execute the following cell (which will save the network to a file called \"mnist_network.pt\" in this directory), then download the produced `mnist_network.pt` to your computer. Finally, go to [Netron.app](https://netron.app) and click on `Open Model`, and select the file you just downloaded."
   ]
  },
  {
   "cell_type": "code",
   "execution_count": 11,
   "metadata": {},
   "outputs": [],
   "source": [
    "scripted = torch.jit.script(model)\n",
    "torch.jit.save(scripted, \"mnist_network.pt\")"
   ]
  },
  {
   "cell_type": "markdown",
   "metadata": {},
   "source": [
    "###  Specify [Loss Function](http://pytorch.org/docs/stable/nn.html#loss-functions) and [Optimizer](http://pytorch.org/docs/stable/optim.html)\n",
    "\n",
    "It's recommended that you use cross-entropy loss for classification. If you look at the documentation (linked above), you can see that PyTorch's cross entropy function applies a softmax function to the output layer *and* then calculates the log loss."
   ]
  },
  {
   "cell_type": "code",
   "execution_count": 12,
   "metadata": {},
   "outputs": [],
   "source": [
    "## TODO: Specify loss and optimization functions\n",
    "\n",
    "# specify loss function\n",
    "criterion = nn.NLLLoss()\n",
    "\n",
    "# specify optimizer\n",
    "# optimizer = optim.Adam(model.parameters(), lr=0.003)\n",
    "optimizer = torch.optim.SGD(model.parameters(), lr=0.01)\n"
   ]
  },
  {
   "cell_type": "markdown",
   "metadata": {},
   "source": [
    "---\n",
    "## Train the Network\n",
    "\n",
    "The steps for training/learning from a batch of data are described in the comments below:\n",
    "1. Clear the gradients of all optimized variables\n",
    "2. Forward pass: compute predicted outputs by passing inputs to the model\n",
    "3. Calculate the loss\n",
    "4. Backward pass: compute gradient of the loss with respect to model parameters\n",
    "5. Perform a single optimization step (parameter update)\n",
    "6. Update average training loss\n",
    "\n",
    "The following loop trains for 30 epochs; feel free to change this number. For now, we suggest somewhere between 20-50 epochs. As you train, take a look at how the values for the training loss decrease over time. We want it to decrease while also avoiding overfitting the training data. "
   ]
  },
  {
   "cell_type": "code",
   "execution_count": 13,
   "metadata": {},
   "outputs": [
    {
     "name": "stderr",
     "output_type": "stream",
     "text": [
      "Training: 100%|███████████████████████████████| 750/750 [00:11<00:00, 63.60it/s]\n",
      "Validating: 100%|█████████████████████████████| 188/188 [00:02<00:00, 82.17it/s]"
     ]
    },
    {
     "name": "stdout",
     "output_type": "stream",
     "text": [
      "Epoch 1: training loss 1.09110, valid loss 0.47139\n"
     ]
    },
    {
     "name": "stderr",
     "output_type": "stream",
     "text": [
      "\n",
      "Training: 100%|███████████████████████████████| 750/750 [00:11<00:00, 65.39it/s]\n",
      "Validating: 100%|█████████████████████████████| 188/188 [00:02<00:00, 81.63it/s]"
     ]
    },
    {
     "name": "stdout",
     "output_type": "stream",
     "text": [
      "Epoch 2: training loss 0.38573, valid loss 0.35647\n"
     ]
    },
    {
     "name": "stderr",
     "output_type": "stream",
     "text": [
      "\n",
      "Training: 100%|███████████████████████████████| 750/750 [00:11<00:00, 64.68it/s]\n",
      "Validating: 100%|█████████████████████████████| 188/188 [00:02<00:00, 80.55it/s]"
     ]
    },
    {
     "name": "stdout",
     "output_type": "stream",
     "text": [
      "Epoch 3: training loss 0.31945, valid loss 0.31660\n"
     ]
    },
    {
     "name": "stderr",
     "output_type": "stream",
     "text": [
      "\n",
      "Training: 100%|███████████████████████████████| 750/750 [00:11<00:00, 65.09it/s]\n",
      "Validating: 100%|█████████████████████████████| 188/188 [00:02<00:00, 88.24it/s]"
     ]
    },
    {
     "name": "stdout",
     "output_type": "stream",
     "text": [
      "Epoch 4: training loss 0.28567, valid loss 0.29133\n"
     ]
    },
    {
     "name": "stderr",
     "output_type": "stream",
     "text": [
      "\n",
      "Training: 100%|███████████████████████████████| 750/750 [00:11<00:00, 64.95it/s]\n",
      "Validating: 100%|█████████████████████████████| 188/188 [00:02<00:00, 86.94it/s]"
     ]
    },
    {
     "name": "stdout",
     "output_type": "stream",
     "text": [
      "Epoch 5: training loss 0.25938, valid loss 0.27768\n"
     ]
    },
    {
     "name": "stderr",
     "output_type": "stream",
     "text": [
      "\n",
      "Training: 100%|███████████████████████████████| 750/750 [00:11<00:00, 64.50it/s]\n",
      "Validating: 100%|█████████████████████████████| 188/188 [00:02<00:00, 83.97it/s]"
     ]
    },
    {
     "name": "stdout",
     "output_type": "stream",
     "text": [
      "Epoch 6: training loss 0.23670, valid loss 0.24983\n"
     ]
    },
    {
     "name": "stderr",
     "output_type": "stream",
     "text": [
      "\n",
      "Training: 100%|███████████████████████████████| 750/750 [00:11<00:00, 65.24it/s]\n",
      "Validating: 100%|█████████████████████████████| 188/188 [00:02<00:00, 86.28it/s]"
     ]
    },
    {
     "name": "stdout",
     "output_type": "stream",
     "text": [
      "Epoch 7: training loss 0.21635, valid loss 0.23384\n"
     ]
    },
    {
     "name": "stderr",
     "output_type": "stream",
     "text": [
      "\n",
      "Training: 100%|███████████████████████████████| 750/750 [00:11<00:00, 65.28it/s]\n",
      "Validating: 100%|█████████████████████████████| 188/188 [00:02<00:00, 78.19it/s]"
     ]
    },
    {
     "name": "stdout",
     "output_type": "stream",
     "text": [
      "Epoch 8: training loss 0.19829, valid loss 0.21396\n"
     ]
    },
    {
     "name": "stderr",
     "output_type": "stream",
     "text": [
      "\n",
      "Training: 100%|███████████████████████████████| 750/750 [00:11<00:00, 64.44it/s]\n",
      "Validating: 100%|█████████████████████████████| 188/188 [00:02<00:00, 86.06it/s]"
     ]
    },
    {
     "name": "stdout",
     "output_type": "stream",
     "text": [
      "Epoch 9: training loss 0.18287, valid loss 0.20726\n"
     ]
    },
    {
     "name": "stderr",
     "output_type": "stream",
     "text": [
      "\n",
      "Training: 100%|███████████████████████████████| 750/750 [00:11<00:00, 65.47it/s]\n",
      "Validating: 100%|█████████████████████████████| 188/188 [00:02<00:00, 81.32it/s]"
     ]
    },
    {
     "name": "stdout",
     "output_type": "stream",
     "text": [
      "Epoch 10: training loss 0.16822, valid loss 0.18794\n"
     ]
    },
    {
     "name": "stderr",
     "output_type": "stream",
     "text": [
      "\n",
      "Training: 100%|███████████████████████████████| 750/750 [00:11<00:00, 65.66it/s]\n",
      "Validating: 100%|█████████████████████████████| 188/188 [00:02<00:00, 82.37it/s]"
     ]
    },
    {
     "name": "stdout",
     "output_type": "stream",
     "text": [
      "Epoch 11: training loss 0.15663, valid loss 0.17885\n"
     ]
    },
    {
     "name": "stderr",
     "output_type": "stream",
     "text": [
      "\n",
      "Training: 100%|███████████████████████████████| 750/750 [00:11<00:00, 63.76it/s]\n",
      "Validating: 100%|█████████████████████████████| 188/188 [00:02<00:00, 78.84it/s]"
     ]
    },
    {
     "name": "stdout",
     "output_type": "stream",
     "text": [
      "Epoch 12: training loss 0.14551, valid loss 0.16895\n"
     ]
    },
    {
     "name": "stderr",
     "output_type": "stream",
     "text": [
      "\n",
      "Training: 100%|███████████████████████████████| 750/750 [00:11<00:00, 65.34it/s]\n",
      "Validating: 100%|█████████████████████████████| 188/188 [00:02<00:00, 81.23it/s]"
     ]
    },
    {
     "name": "stdout",
     "output_type": "stream",
     "text": [
      "Epoch 13: training loss 0.13628, valid loss 0.17007\n"
     ]
    },
    {
     "name": "stderr",
     "output_type": "stream",
     "text": [
      "\n",
      "Training: 100%|███████████████████████████████| 750/750 [00:11<00:00, 65.27it/s]\n",
      "Validating: 100%|█████████████████████████████| 188/188 [00:02<00:00, 79.38it/s]"
     ]
    },
    {
     "name": "stdout",
     "output_type": "stream",
     "text": [
      "Epoch 14: training loss 0.12761, valid loss 0.15397\n"
     ]
    },
    {
     "name": "stderr",
     "output_type": "stream",
     "text": [
      "\n",
      "Training: 100%|███████████████████████████████| 750/750 [00:11<00:00, 64.15it/s]\n",
      "Validating: 100%|█████████████████████████████| 188/188 [00:02<00:00, 84.43it/s]"
     ]
    },
    {
     "name": "stdout",
     "output_type": "stream",
     "text": [
      "Epoch 15: training loss 0.11940, valid loss 0.14959\n"
     ]
    },
    {
     "name": "stderr",
     "output_type": "stream",
     "text": [
      "\n",
      "Training: 100%|███████████████████████████████| 750/750 [00:11<00:00, 65.04it/s]\n",
      "Validating: 100%|█████████████████████████████| 188/188 [00:02<00:00, 83.93it/s]"
     ]
    },
    {
     "name": "stdout",
     "output_type": "stream",
     "text": [
      "Epoch 16: training loss 0.11269, valid loss 0.14359\n"
     ]
    },
    {
     "name": "stderr",
     "output_type": "stream",
     "text": [
      "\n",
      "Training: 100%|███████████████████████████████| 750/750 [00:11<00:00, 64.82it/s]\n",
      "Validating: 100%|█████████████████████████████| 188/188 [00:02<00:00, 81.66it/s]"
     ]
    },
    {
     "name": "stdout",
     "output_type": "stream",
     "text": [
      "Epoch 17: training loss 0.10621, valid loss 0.13691\n"
     ]
    },
    {
     "name": "stderr",
     "output_type": "stream",
     "text": [
      "\n",
      "Training: 100%|███████████████████████████████| 750/750 [00:11<00:00, 65.44it/s]\n",
      "Validating: 100%|█████████████████████████████| 188/188 [00:02<00:00, 81.46it/s]"
     ]
    },
    {
     "name": "stdout",
     "output_type": "stream",
     "text": [
      "Epoch 18: training loss 0.10051, valid loss 0.13352\n"
     ]
    },
    {
     "name": "stderr",
     "output_type": "stream",
     "text": [
      "\n",
      "Training: 100%|███████████████████████████████| 750/750 [00:11<00:00, 64.97it/s]\n",
      "Validating: 100%|█████████████████████████████| 188/188 [00:02<00:00, 80.90it/s]"
     ]
    },
    {
     "name": "stdout",
     "output_type": "stream",
     "text": [
      "Epoch 19: training loss 0.09486, valid loss 0.12881\n"
     ]
    },
    {
     "name": "stderr",
     "output_type": "stream",
     "text": [
      "\n",
      "Training: 100%|███████████████████████████████| 750/750 [00:11<00:00, 64.67it/s]\n",
      "Validating: 100%|█████████████████████████████| 188/188 [00:02<00:00, 80.81it/s]"
     ]
    },
    {
     "name": "stdout",
     "output_type": "stream",
     "text": [
      "Epoch 20: training loss 0.08995, valid loss 0.12365\n"
     ]
    },
    {
     "name": "stderr",
     "output_type": "stream",
     "text": [
      "\n",
      "Training: 100%|███████████████████████████████| 750/750 [00:11<00:00, 64.95it/s]\n",
      "Validating: 100%|█████████████████████████████| 188/188 [00:02<00:00, 83.85it/s]"
     ]
    },
    {
     "name": "stdout",
     "output_type": "stream",
     "text": [
      "Epoch 21: training loss 0.08523, valid loss 0.12304\n"
     ]
    },
    {
     "name": "stderr",
     "output_type": "stream",
     "text": [
      "\n",
      "Training: 100%|███████████████████████████████| 750/750 [00:11<00:00, 65.22it/s]\n",
      "Validating: 100%|█████████████████████████████| 188/188 [00:02<00:00, 83.04it/s]"
     ]
    },
    {
     "name": "stdout",
     "output_type": "stream",
     "text": [
      "Epoch 22: training loss 0.08120, valid loss 0.12118\n"
     ]
    },
    {
     "name": "stderr",
     "output_type": "stream",
     "text": [
      "\n",
      "Training: 100%|███████████████████████████████| 750/750 [00:11<00:00, 65.10it/s]\n",
      "Validating: 100%|█████████████████████████████| 188/188 [00:02<00:00, 86.58it/s]"
     ]
    },
    {
     "name": "stdout",
     "output_type": "stream",
     "text": [
      "Epoch 23: training loss 0.07723, valid loss 0.11687\n"
     ]
    },
    {
     "name": "stderr",
     "output_type": "stream",
     "text": [
      "\n",
      "Training: 100%|███████████████████████████████| 750/750 [00:11<00:00, 64.28it/s]\n",
      "Validating: 100%|█████████████████████████████| 188/188 [00:02<00:00, 83.42it/s]"
     ]
    },
    {
     "name": "stdout",
     "output_type": "stream",
     "text": [
      "Epoch 24: training loss 0.07374, valid loss 0.11377\n"
     ]
    },
    {
     "name": "stderr",
     "output_type": "stream",
     "text": [
      "\n",
      "Training: 100%|███████████████████████████████| 750/750 [00:11<00:00, 64.50it/s]\n",
      "Validating: 100%|█████████████████████████████| 188/188 [00:02<00:00, 82.22it/s]"
     ]
    },
    {
     "name": "stdout",
     "output_type": "stream",
     "text": [
      "Epoch 25: training loss 0.06987, valid loss 0.11034\n"
     ]
    },
    {
     "name": "stderr",
     "output_type": "stream",
     "text": [
      "\n",
      "Training: 100%|███████████████████████████████| 750/750 [00:11<00:00, 64.74it/s]\n",
      "Validating: 100%|█████████████████████████████| 188/188 [00:02<00:00, 80.78it/s]"
     ]
    },
    {
     "name": "stdout",
     "output_type": "stream",
     "text": [
      "Epoch 26: training loss 0.06673, valid loss 0.10478\n"
     ]
    },
    {
     "name": "stderr",
     "output_type": "stream",
     "text": [
      "\n",
      "Training: 100%|███████████████████████████████| 750/750 [00:11<00:00, 65.29it/s]\n",
      "Validating: 100%|█████████████████████████████| 188/188 [00:02<00:00, 79.54it/s]"
     ]
    },
    {
     "name": "stdout",
     "output_type": "stream",
     "text": [
      "Epoch 27: training loss 0.06375, valid loss 0.10535\n"
     ]
    },
    {
     "name": "stderr",
     "output_type": "stream",
     "text": [
      "\n",
      "Training: 100%|███████████████████████████████| 750/750 [00:11<00:00, 65.34it/s]\n",
      "Validating: 100%|█████████████████████████████| 188/188 [00:02<00:00, 80.41it/s]"
     ]
    },
    {
     "name": "stdout",
     "output_type": "stream",
     "text": [
      "Epoch 28: training loss 0.06062, valid loss 0.10483\n"
     ]
    },
    {
     "name": "stderr",
     "output_type": "stream",
     "text": [
      "\n",
      "Training: 100%|███████████████████████████████| 750/750 [00:11<00:00, 64.52it/s]\n",
      "Validating: 100%|█████████████████████████████| 188/188 [00:02<00:00, 81.95it/s]\n"
     ]
    },
    {
     "name": "stdout",
     "output_type": "stream",
     "text": [
      "Epoch 29: training loss 0.05787, valid loss 0.10056\n"
     ]
    },
    {
     "name": "stderr",
     "output_type": "stream",
     "text": [
      "Training: 100%|███████████████████████████████| 750/750 [00:11<00:00, 64.56it/s]\n",
      "Validating: 100%|█████████████████████████████| 188/188 [00:02<00:00, 81.14it/s]"
     ]
    },
    {
     "name": "stdout",
     "output_type": "stream",
     "text": [
      "Epoch 30: training loss 0.05533, valid loss 0.09984\n"
     ]
    },
    {
     "name": "stderr",
     "output_type": "stream",
     "text": [
      "\n",
      "Training: 100%|███████████████████████████████| 750/750 [00:11<00:00, 64.93it/s]\n",
      "Validating: 100%|█████████████████████████████| 188/188 [00:02<00:00, 84.60it/s]"
     ]
    },
    {
     "name": "stdout",
     "output_type": "stream",
     "text": [
      "Epoch 31: training loss 0.05261, valid loss 0.09756\n"
     ]
    },
    {
     "name": "stderr",
     "output_type": "stream",
     "text": [
      "\n",
      "Training: 100%|███████████████████████████████| 750/750 [00:11<00:00, 64.04it/s]\n",
      "Validating: 100%|█████████████████████████████| 188/188 [00:02<00:00, 82.60it/s]"
     ]
    },
    {
     "name": "stdout",
     "output_type": "stream",
     "text": [
      "Epoch 32: training loss 0.05027, valid loss 0.09641\n"
     ]
    },
    {
     "name": "stderr",
     "output_type": "stream",
     "text": [
      "\n",
      "Training: 100%|███████████████████████████████| 750/750 [00:11<00:00, 65.51it/s]\n",
      "Validating: 100%|█████████████████████████████| 188/188 [00:02<00:00, 79.75it/s]"
     ]
    },
    {
     "name": "stdout",
     "output_type": "stream",
     "text": [
      "Epoch 33: training loss 0.04783, valid loss 0.09741\n"
     ]
    },
    {
     "name": "stderr",
     "output_type": "stream",
     "text": [
      "\n",
      "Training: 100%|███████████████████████████████| 750/750 [00:11<00:00, 65.31it/s]\n",
      "Validating: 100%|█████████████████████████████| 188/188 [00:02<00:00, 87.27it/s]"
     ]
    },
    {
     "name": "stdout",
     "output_type": "stream",
     "text": [
      "Epoch 34: training loss 0.04644, valid loss 0.09441\n"
     ]
    },
    {
     "name": "stderr",
     "output_type": "stream",
     "text": [
      "\n",
      "Training: 100%|███████████████████████████████| 750/750 [00:11<00:00, 64.13it/s]\n",
      "Validating: 100%|█████████████████████████████| 188/188 [00:02<00:00, 81.35it/s]"
     ]
    },
    {
     "name": "stdout",
     "output_type": "stream",
     "text": [
      "Epoch 35: training loss 0.04416, valid loss 0.09323\n"
     ]
    },
    {
     "name": "stderr",
     "output_type": "stream",
     "text": [
      "\n",
      "Training: 100%|███████████████████████████████| 750/750 [00:11<00:00, 64.46it/s]\n",
      "Validating: 100%|█████████████████████████████| 188/188 [00:02<00:00, 80.77it/s]"
     ]
    },
    {
     "name": "stdout",
     "output_type": "stream",
     "text": [
      "Epoch 36: training loss 0.04259, valid loss 0.09480\n"
     ]
    },
    {
     "name": "stderr",
     "output_type": "stream",
     "text": [
      "\n",
      "Training: 100%|███████████████████████████████| 750/750 [00:11<00:00, 64.86it/s]\n",
      "Validating: 100%|█████████████████████████████| 188/188 [00:02<00:00, 78.18it/s]"
     ]
    },
    {
     "name": "stdout",
     "output_type": "stream",
     "text": [
      "Epoch 37: training loss 0.04046, valid loss 0.09031\n"
     ]
    },
    {
     "name": "stderr",
     "output_type": "stream",
     "text": [
      "\n",
      "Training: 100%|███████████████████████████████| 750/750 [00:11<00:00, 64.83it/s]\n",
      "Validating: 100%|█████████████████████████████| 188/188 [00:02<00:00, 82.07it/s]"
     ]
    },
    {
     "name": "stdout",
     "output_type": "stream",
     "text": [
      "Epoch 38: training loss 0.03886, valid loss 0.09490\n"
     ]
    },
    {
     "name": "stderr",
     "output_type": "stream",
     "text": [
      "\n",
      "Training: 100%|███████████████████████████████| 750/750 [00:11<00:00, 64.70it/s]\n",
      "Validating: 100%|█████████████████████████████| 188/188 [00:02<00:00, 84.41it/s]"
     ]
    },
    {
     "name": "stdout",
     "output_type": "stream",
     "text": [
      "Epoch 39: training loss 0.03733, valid loss 0.08942\n"
     ]
    },
    {
     "name": "stderr",
     "output_type": "stream",
     "text": [
      "\n",
      "Training: 100%|███████████████████████████████| 750/750 [00:11<00:00, 64.56it/s]\n",
      "Validating: 100%|█████████████████████████████| 188/188 [00:02<00:00, 80.88it/s]"
     ]
    },
    {
     "name": "stdout",
     "output_type": "stream",
     "text": [
      "Epoch 40: training loss 0.03579, valid loss 0.08769\n"
     ]
    },
    {
     "name": "stderr",
     "output_type": "stream",
     "text": [
      "\n",
      "Training: 100%|███████████████████████████████| 750/750 [00:11<00:00, 65.36it/s]\n",
      "Validating: 100%|█████████████████████████████| 188/188 [00:02<00:00, 81.16it/s]"
     ]
    },
    {
     "name": "stdout",
     "output_type": "stream",
     "text": [
      "Epoch 41: training loss 0.03442, valid loss 0.08785\n"
     ]
    },
    {
     "name": "stderr",
     "output_type": "stream",
     "text": [
      "\n",
      "Training: 100%|███████████████████████████████| 750/750 [00:11<00:00, 64.33it/s]\n",
      "Validating: 100%|█████████████████████████████| 188/188 [00:02<00:00, 83.52it/s]"
     ]
    },
    {
     "name": "stdout",
     "output_type": "stream",
     "text": [
      "Epoch 42: training loss 0.03277, valid loss 0.09186\n"
     ]
    },
    {
     "name": "stderr",
     "output_type": "stream",
     "text": [
      "\n",
      "Training: 100%|███████████████████████████████| 750/750 [00:11<00:00, 64.72it/s]\n",
      "Validating: 100%|█████████████████████████████| 188/188 [00:02<00:00, 82.30it/s]"
     ]
    },
    {
     "name": "stdout",
     "output_type": "stream",
     "text": [
      "Epoch 43: training loss 0.03162, valid loss 0.08726\n"
     ]
    },
    {
     "name": "stderr",
     "output_type": "stream",
     "text": [
      "\n",
      "Training: 100%|███████████████████████████████| 750/750 [00:11<00:00, 64.71it/s]\n",
      "Validating: 100%|█████████████████████████████| 188/188 [00:02<00:00, 81.80it/s]"
     ]
    },
    {
     "name": "stdout",
     "output_type": "stream",
     "text": [
      "Epoch 44: training loss 0.03016, valid loss 0.08757\n"
     ]
    },
    {
     "name": "stderr",
     "output_type": "stream",
     "text": [
      "\n",
      "Training: 100%|███████████████████████████████| 750/750 [00:11<00:00, 64.96it/s]\n",
      "Validating: 100%|█████████████████████████████| 188/188 [00:02<00:00, 83.63it/s]"
     ]
    },
    {
     "name": "stdout",
     "output_type": "stream",
     "text": [
      "Epoch 45: training loss 0.02899, valid loss 0.09188\n"
     ]
    },
    {
     "name": "stderr",
     "output_type": "stream",
     "text": [
      "\n",
      "Training: 100%|███████████████████████████████| 750/750 [00:11<00:00, 64.55it/s]\n",
      "Validating: 100%|█████████████████████████████| 188/188 [00:02<00:00, 82.40it/s]"
     ]
    },
    {
     "name": "stdout",
     "output_type": "stream",
     "text": [
      "Epoch 46: training loss 0.02812, valid loss 0.08506\n"
     ]
    },
    {
     "name": "stderr",
     "output_type": "stream",
     "text": [
      "\n",
      "Training: 100%|███████████████████████████████| 750/750 [00:11<00:00, 65.90it/s]\n",
      "Validating: 100%|█████████████████████████████| 188/188 [00:02<00:00, 76.58it/s]"
     ]
    },
    {
     "name": "stdout",
     "output_type": "stream",
     "text": [
      "Epoch 47: training loss 0.02660, valid loss 0.08882\n"
     ]
    },
    {
     "name": "stderr",
     "output_type": "stream",
     "text": [
      "\n",
      "Training: 100%|███████████████████████████████| 750/750 [00:11<00:00, 65.22it/s]\n",
      "Validating: 100%|█████████████████████████████| 188/188 [00:02<00:00, 80.00it/s]"
     ]
    },
    {
     "name": "stdout",
     "output_type": "stream",
     "text": [
      "Epoch 48: training loss 0.02558, valid loss 0.08339\n"
     ]
    },
    {
     "name": "stderr",
     "output_type": "stream",
     "text": [
      "\n",
      "Training: 100%|███████████████████████████████| 750/750 [00:11<00:00, 64.03it/s]\n",
      "Validating: 100%|█████████████████████████████| 188/188 [00:02<00:00, 80.84it/s]"
     ]
    },
    {
     "name": "stdout",
     "output_type": "stream",
     "text": [
      "Epoch 49: training loss 0.02466, valid loss 0.08718\n"
     ]
    },
    {
     "name": "stderr",
     "output_type": "stream",
     "text": [
      "\n",
      "Training: 100%|███████████████████████████████| 750/750 [00:11<00:00, 64.38it/s]\n",
      "Validating: 100%|█████████████████████████████| 188/188 [00:02<00:00, 77.24it/s]"
     ]
    },
    {
     "name": "stdout",
     "output_type": "stream",
     "text": [
      "Epoch 50: training loss 0.02365, valid loss 0.08452\n"
     ]
    },
    {
     "name": "stderr",
     "output_type": "stream",
     "text": [
      "\n"
     ]
    }
   ],
   "source": [
    "# number of epochs to train the model\n",
    "n_epochs = 50  # suggest training between 20-50 epochs\n",
    "\n",
    "model.train() # prep model for training\n",
    "\n",
    "for epoch in range(n_epochs):\n",
    "    # monitor training loss\n",
    "    train_loss = 0.0\n",
    "    \n",
    "    ###################\n",
    "    # train the model #\n",
    "    ###################\n",
    "    for batch_idx, (data, target) in tqdm(\n",
    "            enumerate(train_loader),\n",
    "            desc=\"Training\",\n",
    "            total=len(train_loader),\n",
    "            leave=True,\n",
    "            ncols=80,\n",
    "        ):\n",
    "        # clear the gradients of all optimized variables\n",
    "        optimizer.zero_grad()\n",
    "        # forward pass: compute predicted outputs by passing inputs to the model\n",
    "        output = model(data)\n",
    "        # calculate the loss\n",
    "        loss = criterion(output, target)\n",
    "        # backward pass: compute gradient of the loss with respect to model parameters\n",
    "        loss.backward()\n",
    "        # perform a single optimization step (parameter update)\n",
    "        optimizer.step()\n",
    "        # update running training loss\n",
    "        train_loss += loss.item()*data.size(0)\n",
    "        \n",
    "    # print training statistics \n",
    "    # calculate average loss over an epoch\n",
    "    train_loss = train_loss/len(train_loader.dataset)\n",
    "    \n",
    "    # Validate\n",
    "    with torch.no_grad():\n",
    "\n",
    "        # set the model to evaluation mode\n",
    "        model.eval()\n",
    "\n",
    "        valid_loss = 0.0\n",
    "        for batch_idx, (data, target) in tqdm(\n",
    "            enumerate(val_loader),\n",
    "            desc=\"Validating\",\n",
    "            total=len(val_loader),\n",
    "            leave=True,\n",
    "            ncols=80,\n",
    "        ):\n",
    "\n",
    "            # 1. forward pass: compute predicted outputs by passing inputs to the model\n",
    "            output = model(data)  # =\n",
    "            # 2. calculate the loss\n",
    "            loss_value = criterion(output, target)  # =\n",
    "\n",
    "            # Calculate average validation loss\n",
    "            valid_loss = valid_loss + (\n",
    "                (1 / (batch_idx + 1)) * (loss_value.data.item() - valid_loss)\n",
    "            )\n",
    "    \n",
    "    print(f\"Epoch {epoch+1}: training loss {train_loss:.5f}, valid loss {valid_loss:.5f}\")"
   ]
  },
  {
   "cell_type": "markdown",
   "metadata": {},
   "source": [
    "---\n",
    "## Test the Trained Network\n",
    "\n",
    "Finally, we test our best model on previously unseen **test data** and evaluate it's performance. Testing on unseen data is a good way to check that our model generalizes well. It may also be useful to be granular in this analysis and take a look at how this model performs on each class as well as looking at its overall loss and accuracy.\n",
    "\n",
    "#### `model.eval()`\n",
    "\n",
    "`model.eval(`) will set all the layers in your model to evaluation mode. This affects layers like dropout layers that turn \"off\" nodes during training with some probability, but should allow every node to be \"on\" for evaluation!"
   ]
  },
  {
   "cell_type": "code",
   "execution_count": 14,
   "metadata": {},
   "outputs": [
    {
     "name": "stderr",
     "output_type": "stream",
     "text": [
      "Testing: 100%|████████████████████████████████| 157/157 [00:02<00:00, 75.20it/s]"
     ]
    },
    {
     "name": "stdout",
     "output_type": "stream",
     "text": [
      "Test Loss: 0.075088\n",
      "\n",
      "Test Accuracy of 0: 98.57%% (966/980)\n",
      "Test Accuracy of 1: 99.30%% (1127/1135)\n",
      "Test Accuracy of 2: 98.55%% (1017/1032)\n",
      "Test Accuracy of 3: 98.22%% (992/1010)\n",
      "Test Accuracy of 4: 97.76%% (960/982)\n",
      "Test Accuracy of 5: 97.42%% (869/892)\n",
      "Test Accuracy of 6: 98.23%% (941/958)\n",
      "Test Accuracy of 7: 96.01%% (987/1028)\n",
      "Test Accuracy of 8: 97.02%% (945/974)\n",
      "Test Accuracy of 9: 96.73%% (976/1009)\n",
      "\n",
      "Test Accuracy (Overall): 97.8%% (9780/10000)\n"
     ]
    },
    {
     "name": "stderr",
     "output_type": "stream",
     "text": [
      "\n"
     ]
    }
   ],
   "source": [
    "# initialize lists to monitor test loss and accuracy\n",
    "test_loss = 0.0\n",
    "class_correct = list(0.0 for i in range(10))\n",
    "class_total = list(0.0 for i in range(10))\n",
    "\n",
    "model.eval()  # prep model for *evaluation*\n",
    "\n",
    "for batch_idx, (data, target) in tqdm(\n",
    "    enumerate(test_loader),\n",
    "    desc=\"Testing\",\n",
    "    total=len(test_loader),\n",
    "    leave=True,\n",
    "    ncols=80,\n",
    "):\n",
    "    # forward pass: compute predicted outputs by passing inputs to the model\n",
    "    output = model(data)\n",
    "    # calculate the loss\n",
    "    loss = criterion(output, target)\n",
    "    # update test loss\n",
    "    test_loss += loss.item() * data.size(0)\n",
    "    # convert output probabilities to predicted class\n",
    "    _, pred = torch.max(output, 1)\n",
    "    # compare predictions to true label\n",
    "    correct = np.squeeze(pred.eq(target.data.view_as(pred)))\n",
    "    # calculate test accuracy for each object class\n",
    "    for i in range(data.shape[0]):\n",
    "        label = target.data[i]\n",
    "        class_correct[label] += correct[i].item()\n",
    "        class_total[label] += 1\n",
    "\n",
    "# calculate and print avg test loss\n",
    "test_loss = test_loss / len(test_loader.dataset)\n",
    "print(f\"Test Loss: {test_loss:.6f}\\n\")\n",
    "\n",
    "for i in range(10):\n",
    "    if class_total[i] > 0:\n",
    "        print(\n",
    "            f\"Test Accuracy of {i}: {100 * class_correct[i] / class_total[i]:.2f}%% \"\n",
    "            f\"({int(np.sum(class_correct[i]))}/{int(np.sum(class_total[i]))})\"\n",
    "        )\n",
    "    else:\n",
    "        print(f\"Test Accuracy of {classes[i]}: N/A (no training examples)\")\n",
    "\n",
    "print(\n",
    "    f\"\\nTest Accuracy (Overall): {100.0 * np.sum(class_correct) / np.sum(class_total)}%% \"\n",
    "    f\"({int(np.sum(class_correct))}/{int(np.sum(class_total))})\"\n",
    ")"
   ]
  },
  {
   "cell_type": "markdown",
   "metadata": {},
   "source": [
    "### Visualize Sample Test Results\n",
    "\n",
    "This cell displays test images and their labels in this format: `predicted (ground-truth)`. The text will be green for accurately classified examples and red for incorrect predictions."
   ]
  },
  {
   "cell_type": "code",
   "execution_count": 15,
   "metadata": {},
   "outputs": [
    {
     "data": {
      "image/png": "[encoded data removed]",
      "text/plain": [
       "<Figure size 1800x288 with 20 Axes>"
      ]
     },
     "metadata": {
      "needs_background": "light"
     },
     "output_type": "display_data"
    }
   ],
   "source": [
    "# obtain one batch of test images\n",
    "dataiter = iter(test_loader)\n",
    "images, labels = dataiter.next()\n",
    "\n",
    "# get sample outputs\n",
    "output = model(images)\n",
    "# convert output probabilities to predicted class\n",
    "_, preds = torch.max(output, 1)\n",
    "# prep images for display\n",
    "images = images.numpy()\n",
    "\n",
    "# plot the images in the batch, along with predicted and true labels\n",
    "fig, subs = plt.subplots(2, 10, figsize=(25, 4))\n",
    "for idx, sub in zip(range(20), subs.flatten()):\n",
    "    sub.imshow(np.squeeze(images[idx]), cmap='gray')\n",
    "    sub.set_title(f\"{str(preds[idx].item())} ({str(labels[idx].item())})\",\n",
    "                 color=(\"green\" if preds[idx]==labels[idx] else \"red\"))\n",
    "    sub.axis(\"off\")"
   ]
  },
  {
   "cell_type": "code",
   "execution_count": null,
   "metadata": {},
   "outputs": [],
   "source": []
  }
 ],
 "metadata": {
  "anaconda-cloud": {},
  "kernelspec": {
   "display_name": "Python 3",
   "language": "python",
   "name": "python3"
  },
  "language_info": {
   "codemirror_mode": {
    "name": "ipython",
    "version": 3
   },
   "file_extension": ".py",
   "mimetype": "text/x-python",
   "name": "python",
   "nbconvert_exporter": "python",
   "pygments_lexer": "ipython3",
   "version": "3.7.6"
  },
  "widgets": {
   "application/vnd.jupyter.widget-state+json": {
    "state": {},
    "version_major": 2,
    "version_minor": 0
   }
  }
 },
 "nbformat": 4,
 "nbformat_minor": 4
}
